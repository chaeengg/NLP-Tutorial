{
  "nbformat": 4,
  "nbformat_minor": 0,
  "metadata": {
    "colab": {
      "provenance": [],
      "authorship_tag": "ABX9TyP4G0sE/BbZbfsGyOBTabhN"
    },
    "kernelspec": {
      "name": "python3",
      "display_name": "Python 3"
    },
    "language_info": {
      "name": "python"
    }
  },
  "cells": [
    {
      "cell_type": "markdown",
      "source": [
        "# 01. 언어 모델(Language Model)이란?\n",
        ": 단어 시퀀스(문장)에 확률을 할당하는 모델\n",
        "\n",
        "- 언어 모델을 만드는 방법\n",
        " 1.   통계 이용\n",
        " 2.   인공 신경망 이용\n",
        "\n"
      ],
      "metadata": {
        "id": "tfD9eHUDeQo6"
      }
    },
    {
      "cell_type": "markdown",
      "source": [
        "1. 언어 모델(Language Model)\n",
        "\n",
        "- 단어 시퀀스에 확률을 할당하기 위한 방법: \n",
        "이전 단어들이 주어졌을 때 다음 단어 예측하도록 함\n",
        "\n",
        "\n"
      ],
      "metadata": {
        "id": "enJmdrdigBQX"
      }
    },
    {
      "cell_type": "markdown",
      "source": [
        "2. 단어 시퀀스의 확률 할당\n",
        " 1.   기계 번역(Machine Translation)\n",
        " 2.   오타 교정(Spell Correction)\n",
        " 3.  음성 인식(Speech Recognition)\n",
        "\n"
      ],
      "metadata": {
        "id": "_0tanf2kglmd"
      }
    },
    {
      "cell_type": "markdown",
      "source": [
        "3. 주어진 이전 단어들로부터 다음 단어 예측하기\n",
        " 1. 단어 시퀀스의 확률: n개의 단어가 등장하는 단어 시퀀스 W의 확률\n",
        " 𝑃(𝑊) = 𝑃 (𝑤1\n",
        ", 𝑤2\n",
        ", 𝑤3\n",
        ", 𝑤4\n",
        ", 𝑤5\n",
        ", ..., 𝑤𝑛)\n",
        " 2. 다음 단어 등장 확률: n-1개의 단어가 나열된 상태중 n번째 단어의 확률\n",
        " 𝑃(𝑤𝑛|𝑤1\n",
        ", ..., 𝑤𝑛−1)"
      ],
      "metadata": {
        "id": "JRqyBjKdhB6Q"
      }
    },
    {
      "cell_type": "markdown",
      "source": [
        "4. 언어 모델의 간단한 직관 \n",
        "\n",
        " 앞에 어떤 단어들이 나왔는지 고려하여 후보 단어들의 등장 확률 추정하고 그 중 가장 높은 확률의 단어 선택"
      ],
      "metadata": {
        "id": "Qu7PSoHSwLOr"
      }
    },
    {
      "cell_type": "markdown",
      "source": [
        "5. 검색 엔진에서의 언어 모델의 예\n",
        " \n",
        " 인터넷에서의 자동완성 기능"
      ],
      "metadata": {
        "id": "7IITXBtoxdSf"
      }
    }
  ]
}