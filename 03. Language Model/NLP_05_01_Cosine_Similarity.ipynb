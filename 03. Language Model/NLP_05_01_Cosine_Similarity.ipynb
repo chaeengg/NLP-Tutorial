{
  "nbformat": 4,
  "nbformat_minor": 0,
  "metadata": {
    "colab": {
      "provenance": [],
      "authorship_tag": "ABX9TyPanXJdVQH0pGFbOIF0n0Zy"
    },
    "kernelspec": {
      "name": "python3",
      "display_name": "Python 3"
    },
    "language_info": {
      "name": "python"
    }
  },
  "cells": [
    {
      "cell_type": "markdown",
      "source": [
        "1. 코사인 유사도(Cosine Similarity) \n",
        "\n",
        "두 벡터간의 코사인 각도를 이용해 구할 수 있는 두 벡터의 유사도\n",
        "\n",
        "- 방향이 동일: 1, 90도: 0, 180도: -1\n",
        "\n",
        "![image.png](data:image/png;base64,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)"
      ],
      "metadata": {
        "id": "eYpuMH94n80H"
      }
    },
    {
      "cell_type": "code",
      "execution_count": 1,
      "metadata": {
        "colab": {
          "base_uri": "https://localhost:8080/"
        },
        "id": "YLE81E_wn2U1",
        "outputId": "0a5729c6-3dc4-4184-e3a2-c83d069d8043"
      },
      "outputs": [
        {
          "output_type": "stream",
          "name": "stdout",
          "text": [
            "문서 1과 문서2의 유사도 : 0.6666666666666667\n",
            "문서 1과 문서3의 유사도 : 0.6666666666666667\n",
            "문서 2와 문서3의 유사도 : 1.0000000000000002\n"
          ]
        }
      ],
      "source": [
        "import numpy as np\n",
        "from numpy import dot\n",
        "from numpy.linalg import norm\n",
        "\n",
        "def cos_sim(A, B):\n",
        "  return dot(A, B)/(norm(A)*norm(B))\n",
        "\n",
        "doc1 = np.array([0,1,1,1])\n",
        "doc2 = np.array([1,0,1,1])\n",
        "doc3 = np.array([2,0,2,2])\n",
        "\n",
        "print('문서 1과 문서2의 유사도 :',cos_sim(doc1, doc2))\n",
        "print('문서 1과 문서3의 유사도 :',cos_sim(doc1, doc3))\n",
        "print('문서 2와 문서3의 유사도 :',cos_sim(doc2, doc3))"
      ]
    },
    {
      "cell_type": "markdown",
      "source": [
        "2. 유사도를 이용한 추천 시스템 구현하기 "
      ],
      "metadata": {
        "id": "PmtwcWT6o6VY"
      }
    },
    {
      "cell_type": "code",
      "source": [
        "import pandas as pd\n",
        "from sklearn.feature_extraction.text import TfidfVectorizer\n",
        "from sklearn.metrics.pairwise import cosine_similarity\n",
        "\n",
        "data = pd.read_csv('movies_metadata.csv', low_memory=False)\n",
        "data.head(2)"
      ],
      "metadata": {
        "id": "e6Rxu3ulo-C3"
      },
      "execution_count": null,
      "outputs": []
    },
    {
      "cell_type": "code",
      "source": [
        "data = data.head(20000)   # 상위 2만개의 샘플을 data에 저장장"
      ],
      "metadata": {
        "id": "KV8oaKsHpHt4"
      },
      "execution_count": null,
      "outputs": []
    },
    {
      "cell_type": "code",
      "source": [
        "print('overview 열의 결측값의 수:',data['overview'].isnull().sum())\n",
        "# overview 열에 존재하는 모든 결측값을 전부 카운트하여 출력 "
      ],
      "metadata": {
        "id": "uXXB7xlcpL7_"
      },
      "execution_count": null,
      "outputs": []
    },
    {
      "cell_type": "code",
      "source": [
        "data['overview'] = data['overview'].fillna('')"
      ],
      "metadata": {
        "id": "65QcVNJgpat0"
      },
      "execution_count": null,
      "outputs": []
    },
    {
      "cell_type": "code",
      "source": [
        "tfidf = TfidfVectorizer(stop_words='english')\n",
        "tfidf_matrix = tfidf.fit_transform(data['overview'])\n",
        "print('TF-IDF 행렬의 크기(shape) :',tfidf_matrix.shape)"
      ],
      "metadata": {
        "id": "R5cMy1oXpelX"
      },
      "execution_count": null,
      "outputs": []
    },
    {
      "cell_type": "code",
      "source": [
        "cosine_sim = cosine_similarity(tfidf_matrix, tfidf_matrix)\n",
        "print('코사인 유사도 연산 결과 :',cosine_sim.shape)"
      ],
      "metadata": {
        "id": "6p5MT4gKpeoG"
      },
      "execution_count": null,
      "outputs": []
    },
    {
      "cell_type": "code",
      "source": [
        "title_to_index = dict(zip(data['title'], data.index))\n",
        "idx = title_to_index['Father of the Bride Part II']\n",
        "print(idx)"
      ],
      "metadata": {
        "id": "awa_ZNgKpero"
      },
      "execution_count": null,
      "outputs": []
    },
    {
      "cell_type": "code",
      "source": [
        "def get_recommendations(title, cosine_sim=cosine_sim):\n",
        "  idx = title_to_index[title]\n",
        "  sim_scores = list(enumerate(cosine_sim[idx]))\n",
        "  sim_scores = sorted(sim_scores, key=lambda x: x[1], reverse=True)\n",
        "  sim_scores = sim_scores[1:11]\n",
        "  movie_indices = [idx[0] for idx in sim_scores]\n",
        "  return data['title'].iloc[movie_indices]\n",
        "\n",
        "get_recommendations('The Dark Knight Rises')"
      ],
      "metadata": {
        "id": "LPnbMhkIpwqp"
      },
      "execution_count": null,
      "outputs": []
    }
  ]
}