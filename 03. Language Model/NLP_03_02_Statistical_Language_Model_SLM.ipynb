{
  "nbformat": 4,
  "nbformat_minor": 0,
  "metadata": {
    "colab": {
      "provenance": [],
      "authorship_tag": "ABX9TyMk/WRKAciSZCBwjK/cQWAC"
    },
    "kernelspec": {
      "name": "python3",
      "display_name": "Python 3"
    },
    "language_info": {
      "name": "python"
    }
  },
  "cells": [
    {
      "cell_type": "markdown",
      "source": [
        "# 02. 통계적 언어 모델(Statistical Language Model, SLM)"
      ],
      "metadata": {
        "id": "Y0SZR9ma44bv"
      }
    },
    {
      "cell_type": "markdown",
      "source": [
        "1. 조건부 확률\n",
        "\n",
        " 조건부 확률의 연쇄 법칙(chain rule)\n",
        "  : 𝑃(𝑥1\n",
        ", 𝑥2\n",
        ", 𝑥3\n",
        "...𝑥𝑛) = 𝑃 (𝑥1\n",
        ")𝑃(𝑥2\n",
        "|𝑥1\n",
        ")𝑃(𝑥3\n",
        "|𝑥1\n",
        ", 𝑥2\n",
        ")...𝑃(𝑥𝑛|𝑥1\n",
        "...𝑥𝑛−1)\n"
      ],
      "metadata": {
        "id": "ebvb5XYi0b1w"
      }
    },
    {
      "cell_type": "markdown",
      "source": [
        "2. 문장에 대한 확률\n",
        "*   '문맥'을 통해 이전 단어의 영향을 받은 단어들로 문장이 완성\n",
        "*   𝑃 (An adorable little boy is spreading smiles) =\n",
        "𝑃 (An)×𝑃(adorable|An)×𝑃 (little|An adorable)×𝑃 (boy|An adorable little)×𝑃 (is|An adorable little boy)\n",
        "×𝑃 (spreading|An adorable little boy is) × 𝑃 (smiles|An adorable little boy is spreading)\n",
        "\n",
        "\n",
        "\n"
      ],
      "metadata": {
        "id": "eVVXZ4Bc0scx"
      }
    },
    {
      "cell_type": "markdown",
      "source": [
        "3. 카운트 기반의 접근\n",
        "\n",
        "*  SLM: 카운트에 기반하여 확률 계산\n",
        "* 𝑃(is|An adorable little boy) = count(An adorable little boy is)\n",
        "count(An adorable little boy )\n",
        "\n",
        "\n"
      ],
      "metadata": {
        "id": "SSJD0fmC0se-"
      }
    },
    {
      "cell_type": "markdown",
      "source": [
        "4. 카운트 기반 접근의 한계-희소문제(Sparsity Problem)\n",
        "\n",
        " 충분한 데이터를 관측하지 못해 언어를 정확히 모델링하지 못하는 문제\n",
        " --> 완화 방법: n-gram 언어 모델, 일반화(generalization) 기법"
      ],
      "metadata": {
        "id": "K4k6Twc33Zo7"
      }
    }
  ]
}
