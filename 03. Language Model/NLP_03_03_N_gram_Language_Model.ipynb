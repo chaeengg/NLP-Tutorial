{
  "nbformat": 4,
  "nbformat_minor": 0,
  "metadata": {
    "colab": {
      "provenance": [],
      "authorship_tag": "ABX9TyMbVcrIB1BubOiSmdaiR6Kc",
      "include_colab_link": true
    },
    "kernelspec": {
      "name": "python3",
      "display_name": "Python 3"
    },
    "language_info": {
      "name": "python"
    }
  },
  "cells": [
    {
      "cell_type": "markdown",
      "metadata": {
        "id": "view-in-github",
        "colab_type": "text"
      },
      "source": [
        "<a href=\"https://colab.research.google.com/github/chaeengg/NLP-Tutorial/blob/main/03.%20Language%20Model/NLP_03_03_N_gram_Language_Model.ipynb\" target=\"_parent\"><img src=\"https://colab.research.google.com/assets/colab-badge.svg\" alt=\"Open In Colab\"/></a>"
      ]
    },
    {
      "cell_type": "markdown",
      "source": [
        "# 03. N-gram 언어 모델(N-gram Language Model)\n",
        " n의 의미: 이전에 등장한 단어들 중 일부 단어를 몇 개 보는지"
      ],
      "metadata": {
        "id": "_-yRv_957PJT"
      }
    },
    {
      "cell_type": "markdown",
      "source": [
        "1. 코퍼스에서 카운트하지 못하는 경우의 감소\n",
        "- SLM의 한계: 코퍼스에서 확률을 계산하고 싶은 문장이나 단어가 없을 수도 있음\n",
        "\n",
        "  --> 참고 단어 수를 줄이면 해당 단어의 시퀀스를 카운트할할 가능성 높일 수 있음"
      ],
      "metadata": {
        "id": "GmNsNO3a9LY1"
      }
    },
    {
      "cell_type": "markdown",
      "source": [
        "2. N-gram\n",
        "\n",
        " : n개의 연속적인 단어 나열\n",
        "\n",
        "*   n=1: unigram\n",
        "*   n=2: bigram\n",
        "*   n=3: trigram\n",
        "*   n=4: 4-gram\n",
        "\n"
      ],
      "metadata": {
        "id": "auoMTg8d-T_R"
      }
    },
    {
      "cell_type": "markdown",
      "source": [
        "3. N-gram Language Model의 한계\n",
        "\n",
        "   1.   희소 문제(Sparsity Problem)\n",
        "   2.   n을 선택하는 것은 trade-off 문제\n",
        "    * n을 *작게* 선택: 훈련 코퍼스에서 카운트는 잘 됨, but 근사의 정확도는 현실의 확률분포와 멀어짐\n",
        "     * n을 *크게* 선택: 실제 훈련 코퍼스에서 해당 n-gram을 카운트할 수 있는 확률 적어져 희소 문제 심각해짐\n",
        "    \n",
        "     => 최대 5를 넘지 않게 적절한 n 선택"
      ],
      "metadata": {
        "id": "BXsJuHlb_VvI"
      }
    },
    {
      "cell_type": "markdown",
      "source": [
        "4. 적용 분야(Domain)에 맞는 코퍼스의 수집\n",
        "\n",
        "훈련에 사용된 도메인 코퍼스에 따라 성능이 달라짐"
      ],
      "metadata": {
        "id": "9odQtAP0CdDN"
      }
    },
    {
      "cell_type": "markdown",
      "source": [
        "5. 인공 신경망을 이용한 언어 모델(Neural Network Based Language Model)\n",
        "\n",
        "N-gram 언어 모델의 한계점을 완전히 해결하지는 못함\n",
        "\n",
        "--> 성능이 우수한 인공 신경망을 이용한 언어 모델이 많이 사용됨 "
      ],
      "metadata": {
        "id": "SqZiuOVCCdJE"
      }
    }
  ]
}