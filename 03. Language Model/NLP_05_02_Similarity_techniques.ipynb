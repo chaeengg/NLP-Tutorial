{
  "nbformat": 4,
  "nbformat_minor": 0,
  "metadata": {
    "colab": {
      "provenance": [],
      "authorship_tag": "ABX9TyOyVNXkR4u79ru0l1yNeXU3"
    },
    "kernelspec": {
      "name": "python3",
      "display_name": "Python 3"
    },
    "language_info": {
      "name": "python"
    }
  },
  "cells": [
    {
      "cell_type": "markdown",
      "source": [
        "# 2. 여러가지 유사도 기법 \n",
        "\n",
        "1. 유클리드 거리(Euclidean distance)\n",
        "\n",
        "√(𝑞1 − 𝑝1\n",
        ")\n",
        "^2 + (𝑞2 − 𝑝2\n",
        ")\n",
        "^2 + ... + (𝑞𝑛 − 𝑝𝑛)\n",
        "^2 = √\n",
        "𝑛\n",
        "∑\n",
        "𝑖=1\n",
        "(𝑞𝑖 − 𝑝𝑖\n",
        ")\n",
        "^2\n",
        "\n",
        "- 2차원을 단어의 총 개수만큼의 차원으로 확장\n",
        "- 값이 작을수록 문서 간 거리가 가까움 "
      ],
      "metadata": {
        "id": "6N6n3wn4qP8j"
      }
    },
    {
      "cell_type": "code",
      "execution_count": 3,
      "metadata": {
        "colab": {
          "base_uri": "https://localhost:8080/"
        },
        "id": "U-IFzO9GqEDt",
        "outputId": "67c6d500-4a11-4698-da4a-e6bada81cdc5"
      },
      "outputs": [
        {
          "output_type": "stream",
          "name": "stdout",
          "text": [
            "문서1과 문서Q의 거 리 : 2.23606797749979\n",
            "문서2과 문서Q의 거 리 : 3.1622776601683795\n",
            "문서3과 문서Q의 거 리 : 2.449489742783178\n"
          ]
        }
      ],
      "source": [
        "import numpy as np\n",
        "\n",
        "def dist(x,y):\n",
        "  return np.sqrt(np.sum((x-y)**2))\n",
        "  \n",
        "doc1 = np.array((2,3,0,1))\n",
        "doc2 = np.array((1,2,3,1))\n",
        "doc3 = np.array((2,1,2,2))\n",
        "docQ = np.array((1,1,0,1))\n",
        "\n",
        "print('문서1과 문서Q의 거 리 :',dist(doc1,docQ))\n",
        "print('문서2과 문서Q의 거 리 :',dist(doc2,docQ))\n",
        "print('문서3과 문서Q의 거 리 :',dist(doc3,docQ))"
      ]
    },
    {
      "cell_type": "markdown",
      "source": [
        "2. 자카드 유사도(Jaccard similarity)\n",
        "\n",
        "합집합에서 교집합의 비율을 구하면 집합 A, B의 유사도를 구할 수 있음 \n",
        "\n",
        "𝐽(𝑑𝑜𝑐1\n",
        ", 𝑑𝑜𝑐2\n",
        ") = {𝑑𝑜𝑐1 ∩ 𝑑𝑜𝑐2} / \n",
        "{𝑑𝑜𝑐1 ∪ 𝑑𝑜𝑐2} "
      ],
      "metadata": {
        "id": "hfFMiwsBrS-k"
      }
    },
    {
      "cell_type": "code",
      "source": [
        "doc1 = \"apple banana everyone like likey watch card holder\"\n",
        "doc2 = \"apple banana coupon passport love you\"\n",
        "\n",
        "tokenized_doc1 = doc1.split()\n",
        "tokenized_doc2 = doc2.split()\n",
        "\n",
        "print('문서1 :',tokenized_doc1)\n",
        "print('문서2 :',tokenized_doc2)"
      ],
      "metadata": {
        "colab": {
          "base_uri": "https://localhost:8080/"
        },
        "id": "xxxr_Oc5rrms",
        "outputId": "4901edea-fec8-4db5-fd61-79c7f99ed2fc"
      },
      "execution_count": 4,
      "outputs": [
        {
          "output_type": "stream",
          "name": "stdout",
          "text": [
            "문서1 : ['apple', 'banana', 'everyone', 'like', 'likey', 'watch', 'card', 'holder']\n",
            "문서2 : ['apple', 'banana', 'coupon', 'passport', 'love', 'you']\n"
          ]
        }
      ]
    },
    {
      "cell_type": "code",
      "source": [
        "union = set(tokenized_doc1).union(set(tokenized_doc2))\n",
        "\n",
        "print('문서1과 문서2의 합집합 :',union)"
      ],
      "metadata": {
        "colab": {
          "base_uri": "https://localhost:8080/"
        },
        "id": "OQ-oIYJKr2zr",
        "outputId": "5b732257-d5b6-4219-e2d2-3e51fbafa68f"
      },
      "execution_count": 8,
      "outputs": [
        {
          "output_type": "stream",
          "name": "stdout",
          "text": [
            "문서1과 문서2의 합집합 : {'like', 'banana', 'apple', 'love', 'card', 'coupon', 'everyone', 'likey', 'you', 'watch', 'holder', 'passport'}\n"
          ]
        }
      ]
    },
    {
      "cell_type": "code",
      "source": [
        "intersection = set(tokenized_doc1).intersection(set(tokenized_doc2))\n",
        "\n",
        "print('문서1과 문서2의 교집합 :',intersection)"
      ],
      "metadata": {
        "colab": {
          "base_uri": "https://localhost:8080/"
        },
        "id": "hrP4lqrMr27J",
        "outputId": "a4ae7a0a-e5c2-4b09-b8a9-406735af4534"
      },
      "execution_count": 9,
      "outputs": [
        {
          "output_type": "stream",
          "name": "stdout",
          "text": [
            "문서1과 문서2의 교집합 : {'banana', 'apple'}\n"
          ]
        }
      ]
    },
    {
      "cell_type": "code",
      "source": [
        " print('자카드유사도 :',len(intersection)/len(union))"
      ],
      "metadata": {
        "colab": {
          "base_uri": "https://localhost:8080/"
        },
        "id": "ATTbSxa-r3CC",
        "outputId": "0f924ed4-af62-4b13-e1da-1f3c1892e5c3"
      },
      "execution_count": 11,
      "outputs": [
        {
          "output_type": "stream",
          "name": "stdout",
          "text": [
            "자카드유사도 : 0.16666666666666666\n"
          ]
        }
      ]
    }
  ]
}