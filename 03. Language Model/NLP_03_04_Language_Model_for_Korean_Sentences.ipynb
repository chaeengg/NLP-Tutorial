{
  "nbformat": 4,
  "nbformat_minor": 0,
  "metadata": {
    "colab": {
      "provenance": [],
      "authorship_tag": "ABX9TyN7E6YnkT3sZLDCM7SMdLgz"
    },
    "kernelspec": {
      "name": "python3",
      "display_name": "Python 3"
    },
    "language_info": {
      "name": "python"
    }
  },
  "cells": [
    {
      "cell_type": "markdown",
      "source": [
        "# 04. 한국어에서의 언어 모델(Language Model for Korean Sentences)"
      ],
      "metadata": {
        "id": "EeeW92g0EGN_"
      }
    },
    {
      "cell_type": "markdown",
      "source": [
        "1. 한국어는 어순이 중요하지 않다\n",
        "\n",
        "단어 순서가 바뀌어도 의미 전달이 가능하기 때문에 다음 단어 예측 어려움"
      ],
      "metadata": {
        "id": "Ya-C3t6REG2q"
      }
    },
    {
      "cell_type": "markdown",
      "source": [
        "2. 한국어는 교착어이다\n",
        "\n",
        "한국어는 '조사'가 존재하기 때문에 '**토큰화**'를 통해 접사나 조사 등을 분리하는 것이 중요"
      ],
      "metadata": {
        "id": "eLh4W_jWEG5X"
      }
    },
    {
      "cell_type": "markdown",
      "source": [
        "3. 한국어는 띄어쓰기가 제대로 지켜지지 않는다"
      ],
      "metadata": {
        "id": "dzVAlwXqEG84"
      }
    },
    {
      "cell_type": "code",
      "execution_count": null,
      "metadata": {
        "id": "qqwImtFMDQqa"
      },
      "outputs": [],
      "source": []
    }
  ]
}