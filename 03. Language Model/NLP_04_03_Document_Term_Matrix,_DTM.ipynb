{
  "nbformat": 4,
  "nbformat_minor": 0,
  "metadata": {
    "colab": {
      "provenance": [],
      "authorship_tag": "ABX9TyMcQZtQpnaNY8ci/e4wMvHl"
    },
    "kernelspec": {
      "name": "python3",
      "display_name": "Python 3"
    },
    "language_info": {
      "name": "python"
    }
  },
  "cells": [
    {
      "cell_type": "markdown",
      "source": [
        "1. 문서 단어 행렬(Document-Term Matrix, DTM)의 표기법 \n",
        "\n",
        ": 다수의 문서에서 등장하는 각 단어들의 빈도 행렬 "
      ],
      "metadata": {
        "id": "FPOXKhUQbvvq"
      }
    },
    {
      "cell_type": "markdown",
      "source": [
        "2. 문서 단어 행렬의 한계 \n",
        "\n",
        "1.   희소 표현(Sparse representation) \n",
        "2.   단순 빈도 수 기반 접근\n",
        "\n"
      ],
      "metadata": {
        "id": "Pja0Tb1ScCZo"
      }
    },
    {
      "cell_type": "code",
      "execution_count": null,
      "metadata": {
        "id": "djALTeKGblFR"
      },
      "outputs": [],
      "source": []
    }
  ]
}