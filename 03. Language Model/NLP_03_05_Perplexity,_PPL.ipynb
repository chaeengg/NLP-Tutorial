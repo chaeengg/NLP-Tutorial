{
  "nbformat": 4,
  "nbformat_minor": 0,
  "metadata": {
    "colab": {
      "provenance": [],
      "authorship_tag": "ABX9TyPkGUAXPWR1HeRIAVk+WGhX"
    },
    "kernelspec": {
      "name": "python3",
      "display_name": "Python 3"
    },
    "language_info": {
      "name": "python"
    }
  },
  "cells": [
    {
      "cell_type": "markdown",
      "source": [
        "# 05. 펄플렉서티(Perplexity, PPL)모델 \n",
        "\n",
        ": 모델 내에서 본인의 성능을 수치화하여 테스트 데이터에 대해 빠르게 결과를 내놓는 모델 평가 지표"
      ],
      "metadata": {
        "id": "ClVG8w-KFH0o"
      }
    },
    {
      "cell_type": "markdown",
      "source": [
        "1. 언어 모델의 평가 방법(Evaluation metric): PPL\n",
        "\n",
        "* 수치가 '낮을수록' 언어 모델 성능이 좋음\n",
        "* 문장의 길이로 정규화된 문장 확률의 역수\n"
      ],
      "metadata": {
        "id": "4wTxRNeBFInC"
      }
    },
    {
      "cell_type": "markdown",
      "source": [
        "2. 분기 계수(Branching factor)\n",
        "\n",
        "특정 시점에서 선택할 수 있는 가능한 경우의 수 "
      ],
      "metadata": {
        "id": "sRkXNKzAFIu_"
      }
    },
    {
      "cell_type": "markdown",
      "source": [
        "3. 기존 언어 모델 vs 인공 신경망을 이용한 언어 모델\n",
        "\n",
        "인공신경망을 이용한 언어 모델이 성능이 좋음"
      ],
      "metadata": {
        "id": "_zIrxjWUMIqT"
      }
    }
  ]
}