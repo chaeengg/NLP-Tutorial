{
  "nbformat": 4,
  "nbformat_minor": 0,
  "metadata": {
    "colab": {
      "provenance": [],
      "mount_file_id": "1etEMjvoOjv62D-9XvlJBdHhFtZ377viI",
      "authorship_tag": "ABX9TyNTIT4Lp0D+O05nW0RHeU9z"
    },
    "kernelspec": {
      "name": "python3",
      "display_name": "Python 3"
    },
    "language_info": {
      "name": "python"
    }
  },
  "cells": [
    {
      "cell_type": "markdown",
      "source": [
        "# 06. RNN을 이용한 텍스트 생성(Text Generation using RNN) \n",
        "\n",
        "1. RNN을 이용하여 텍스트 생성하기 "
      ],
      "metadata": {
        "id": "gtBSKuRuyTF6"
      }
    },
    {
      "cell_type": "markdown",
      "source": [
        "1) 데이터에 대한 이해와 전처리 "
      ],
      "metadata": {
        "id": "f8BkCfP5b8hy"
      }
    },
    {
      "cell_type": "code",
      "execution_count": 3,
      "metadata": {
        "id": "PRA1NHW_yO14"
      },
      "outputs": [],
      "source": [
        "import numpy as np\n",
        "from tensorflow.keras.preprocessing.text import Tokenizer\n",
        "from tensorflow.keras.preprocessing.sequence import pad_sequences\n",
        "from tensorflow.keras.utils import to_categorical"
      ]
    },
    {
      "cell_type": "code",
      "source": [
        "text = \"\"\"경마장에 있는 말이 뛰고 있다\\n\n",
        "그의 말이 법이다\\n\n",
        "가는 말이 고와야 오는 말이 곱다\\n\"\"\"\n",
        "\n",
        "tokenizer = Tokenizer()\n",
        "tokenizer.fit_on_texts([text])\n",
        "vocab_size = len(tokenizer.word_index) + 1    # padding을 위한 0을 고려하여 +1 해줌\n",
        "\n",
        "print('단어 집합의 크기 : %d' % vocab_size)"
      ],
      "metadata": {
        "colab": {
          "base_uri": "https://localhost:8080/"
        },
        "id": "laAZ_QUYyxxg",
        "outputId": "262a2567-17a3-47b2-ad61-c5918bf60e80"
      },
      "execution_count": 4,
      "outputs": [
        {
          "output_type": "stream",
          "name": "stdout",
          "text": [
            "단어 집합의 크기 : 12\n"
          ]
        }
      ]
    },
    {
      "cell_type": "code",
      "source": [
        "print(tokenizer.word_index)"
      ],
      "metadata": {
        "colab": {
          "base_uri": "https://localhost:8080/"
        },
        "id": "HaR6dFHnzfNj",
        "outputId": "a25b6d27-344e-4399-dd23-c981c046c36f"
      },
      "execution_count": 5,
      "outputs": [
        {
          "output_type": "stream",
          "name": "stdout",
          "text": [
            "{'말이': 1, '경마장에': 2, '있는': 3, '뛰고': 4, '있다': 5, '그의': 6, '법이다': 7, '가는': 8, '고와야': 9, '오는': 10, '곱다': 11}\n"
          ]
        }
      ]
    },
    {
      "cell_type": "code",
      "source": [
        "# 훈련 데이터\n",
        "sequences = list()\n",
        "for line in text.split('\\n'):\n",
        "  encoded = tokenizer.texts_to_sequences([line])[0]\n",
        "  for i in range(1, len(encoded)):\n",
        "    sequence = encoded[:i+1]\n",
        "    sequences.append(sequence)\n",
        "\n",
        "print('학습에 사용할 샘플의 개수: %d' % len(sequences))"
      ],
      "metadata": {
        "colab": {
          "base_uri": "https://localhost:8080/"
        },
        "id": "WyZTvpGdzlIj",
        "outputId": "0d4d9d05-13b9-44d3-837e-37a716035424"
      },
      "execution_count": 6,
      "outputs": [
        {
          "output_type": "stream",
          "name": "stdout",
          "text": [
            "학습에 사용할 샘플의 개수: 11\n"
          ]
        }
      ]
    },
    {
      "cell_type": "code",
      "source": [
        "print(sequences)"
      ],
      "metadata": {
        "colab": {
          "base_uri": "https://localhost:8080/"
        },
        "id": "IXdGGryBz92H",
        "outputId": "bc3cddc6-c480-416f-9704-041edf00cc22"
      },
      "execution_count": 7,
      "outputs": [
        {
          "output_type": "stream",
          "name": "stdout",
          "text": [
            "[[2, 3], [2, 3, 1], [2, 3, 1, 4], [2, 3, 1, 4, 5], [6, 1], [6, 1, 7], [8, 1], [8, 1, 9], [8, 1, 9, 10], [8, 1, 9, 10, 1], [8, 1, 9, 10, 1, 11]]\n"
          ]
        }
      ]
    },
    {
      "cell_type": "markdown",
      "source": [
        "- [2, 3]: [경마장에, 있는]\n",
        "- [2, 3, 1]: [경마장에, 있는, 말이]\n",
        "- training data는 맨 우측에 있는 단어에 대해서만 label로 분리해야 함 "
      ],
      "metadata": {
        "id": "XSgoHpK7Z60D"
      }
    },
    {
      "cell_type": "code",
      "source": [
        "max_len = max(len(l) for l in sequences)    # 모든 sample에서 길이가 가장 긴 sample의 길이 출력\n",
        "print('샘플의 최대 길이 : {}'.format(max_len))"
      ],
      "metadata": {
        "colab": {
          "base_uri": "https://localhost:8080/"
        },
        "id": "dBF_tBUWaOao",
        "outputId": "d20fffa9-998a-4590-cd9d-dd4a96ccf6c0"
      },
      "execution_count": 8,
      "outputs": [
        {
          "output_type": "stream",
          "name": "stdout",
          "text": [
            "샘플의 최대 길이 : 6\n"
          ]
        }
      ]
    },
    {
      "cell_type": "code",
      "source": [
        "sequences = pad_sequences(sequences, maxlen=max_len, padding = 'pre')"
      ],
      "metadata": {
        "id": "5_NOr_R_al41"
      },
      "execution_count": 9,
      "outputs": []
    },
    {
      "cell_type": "markdown",
      "source": [
        "- pre_sequences(): 모든 sample에 대해 0을 사용하여 길이를 맞춰줌  \n",
        "- padding = 'pre': 길이가 6보다 짧은 sample의 앞에 0으로 채움 "
      ],
      "metadata": {
        "id": "wDuup_NHbAuW"
      }
    },
    {
      "cell_type": "code",
      "source": [
        "print(sequences)"
      ],
      "metadata": {
        "colab": {
          "base_uri": "https://localhost:8080/"
        },
        "id": "BZKae0vwbTjn",
        "outputId": "1cccaf5c-f466-4d47-ab02-db5d5577d5b6"
      },
      "execution_count": 10,
      "outputs": [
        {
          "output_type": "stream",
          "name": "stdout",
          "text": [
            "[[ 0  0  0  0  2  3]\n",
            " [ 0  0  0  2  3  1]\n",
            " [ 0  0  2  3  1  4]\n",
            " [ 0  2  3  1  4  5]\n",
            " [ 0  0  0  0  6  1]\n",
            " [ 0  0  0  6  1  7]\n",
            " [ 0  0  0  0  8  1]\n",
            " [ 0  0  0  8  1  9]\n",
            " [ 0  0  8  1  9 10]\n",
            " [ 0  8  1  9 10  1]\n",
            " [ 8  1  9 10  1 11]]\n"
          ]
        }
      ]
    },
    {
      "cell_type": "code",
      "source": [
        "sequences = np.array(sequences)\n",
        "X = sequences[:, :-1]\n",
        "y = sequences[:, -1]\n",
        "\n",
        "print(X)"
      ],
      "metadata": {
        "colab": {
          "base_uri": "https://localhost:8080/"
        },
        "id": "9VcDiIiqbcxQ",
        "outputId": "8404794c-ad41-4426-fe77-f45442728c78"
      },
      "execution_count": 11,
      "outputs": [
        {
          "output_type": "stream",
          "name": "stdout",
          "text": [
            "[[ 0  0  0  0  2]\n",
            " [ 0  0  0  2  3]\n",
            " [ 0  0  2  3  1]\n",
            " [ 0  2  3  1  4]\n",
            " [ 0  0  0  0  6]\n",
            " [ 0  0  0  6  1]\n",
            " [ 0  0  0  0  8]\n",
            " [ 0  0  0  8  1]\n",
            " [ 0  0  8  1  9]\n",
            " [ 0  8  1  9 10]\n",
            " [ 8  1  9 10  1]]\n"
          ]
        }
      ]
    },
    {
      "cell_type": "code",
      "source": [
        "print(y)"
      ],
      "metadata": {
        "colab": {
          "base_uri": "https://localhost:8080/"
        },
        "id": "83H59l7kbo72",
        "outputId": "9baf2a2d-c77b-4d14-a48d-dde9c4022c7d"
      },
      "execution_count": 12,
      "outputs": [
        {
          "output_type": "stream",
          "name": "stdout",
          "text": [
            "[ 3  1  4  5  1  7  1  9 10  1 11]\n"
          ]
        }
      ]
    },
    {
      "cell_type": "code",
      "source": [
        "# 원-핫 인코딩\n",
        "y = to_categorical(y, num_classes = vocab_size)\n",
        "\n",
        "print(y)"
      ],
      "metadata": {
        "colab": {
          "base_uri": "https://localhost:8080/"
        },
        "id": "KIKCIbPabsF_",
        "outputId": "d91e0ce8-28d5-4d0a-cb5c-f2e08186fd9f"
      },
      "execution_count": 13,
      "outputs": [
        {
          "output_type": "stream",
          "name": "stdout",
          "text": [
            "[[0. 0. 0. 1. 0. 0. 0. 0. 0. 0. 0. 0.]\n",
            " [0. 1. 0. 0. 0. 0. 0. 0. 0. 0. 0. 0.]\n",
            " [0. 0. 0. 0. 1. 0. 0. 0. 0. 0. 0. 0.]\n",
            " [0. 0. 0. 0. 0. 1. 0. 0. 0. 0. 0. 0.]\n",
            " [0. 1. 0. 0. 0. 0. 0. 0. 0. 0. 0. 0.]\n",
            " [0. 0. 0. 0. 0. 0. 0. 1. 0. 0. 0. 0.]\n",
            " [0. 1. 0. 0. 0. 0. 0. 0. 0. 0. 0. 0.]\n",
            " [0. 0. 0. 0. 0. 0. 0. 0. 0. 1. 0. 0.]\n",
            " [0. 0. 0. 0. 0. 0. 0. 0. 0. 0. 1. 0.]\n",
            " [0. 1. 0. 0. 0. 0. 0. 0. 0. 0. 0. 0.]\n",
            " [0. 0. 0. 0. 0. 0. 0. 0. 0. 0. 0. 1.]]\n"
          ]
        }
      ]
    },
    {
      "cell_type": "markdown",
      "source": [
        "2) 모델 설계하기 \n",
        "\n",
        "- 다중 클래스 분류 문제는 활성 함수로 softmax, 손실 함수로 cross-entropy 사용 "
      ],
      "metadata": {
        "id": "ESP49nuCb_UM"
      }
    },
    {
      "cell_type": "code",
      "source": [
        "from tensorflow.keras.models import Sequential\n",
        "from tensorflow.keras.layers import Embedding, Dense, SimpleRNN"
      ],
      "metadata": {
        "id": "r0hLaLX1cCJa"
      },
      "execution_count": 14,
      "outputs": []
    },
    {
      "cell_type": "code",
      "source": [
        "embedding_dim = 10\n",
        "hidden_units = 32\n",
        "\n",
        "model = Sequential()\n",
        "model.add(Embedding(vocab_size, embedding_dim))\n",
        "model.add(SimpleRNN(hidden_units))\n",
        "model.add(Dense(vocab_size, activation='softmax'))\n",
        "model.compile(loss='categorical_crossentropy', optimizer='adam', metrics=['accuracy'])\n",
        "model.fit(X, y, epochs=200, verbose=2)"
      ],
      "metadata": {
        "colab": {
          "base_uri": "https://localhost:8080/"
        },
        "id": "4I_sUE-LcuHt",
        "outputId": "6c59fb69-e9c6-4fde-fc16-9947ffefcdaf"
      },
      "execution_count": 15,
      "outputs": [
        {
          "output_type": "stream",
          "name": "stdout",
          "text": [
            "Epoch 1/200\n",
            "1/1 - 2s - loss: 2.4951 - accuracy: 0.0909 - 2s/epoch - 2s/step\n",
            "Epoch 2/200\n",
            "1/1 - 0s - loss: 2.4803 - accuracy: 0.0909 - 9ms/epoch - 9ms/step\n",
            "Epoch 3/200\n",
            "1/1 - 0s - loss: 2.4661 - accuracy: 0.1818 - 8ms/epoch - 8ms/step\n",
            "Epoch 4/200\n",
            "1/1 - 0s - loss: 2.4523 - accuracy: 0.1818 - 10ms/epoch - 10ms/step\n",
            "Epoch 5/200\n",
            "1/1 - 0s - loss: 2.4390 - accuracy: 0.2727 - 15ms/epoch - 15ms/step\n",
            "Epoch 6/200\n",
            "1/1 - 0s - loss: 2.4258 - accuracy: 0.3636 - 10ms/epoch - 10ms/step\n",
            "Epoch 7/200\n",
            "1/1 - 0s - loss: 2.4128 - accuracy: 0.4545 - 9ms/epoch - 9ms/step\n",
            "Epoch 8/200\n",
            "1/1 - 0s - loss: 2.3997 - accuracy: 0.4545 - 9ms/epoch - 9ms/step\n",
            "Epoch 9/200\n",
            "1/1 - 0s - loss: 2.3865 - accuracy: 0.5455 - 8ms/epoch - 8ms/step\n",
            "Epoch 10/200\n",
            "1/1 - 0s - loss: 2.3730 - accuracy: 0.5455 - 8ms/epoch - 8ms/step\n",
            "Epoch 11/200\n",
            "1/1 - 0s - loss: 2.3593 - accuracy: 0.5455 - 8ms/epoch - 8ms/step\n",
            "Epoch 12/200\n",
            "1/1 - 0s - loss: 2.3452 - accuracy: 0.5455 - 9ms/epoch - 9ms/step\n",
            "Epoch 13/200\n",
            "1/1 - 0s - loss: 2.3306 - accuracy: 0.5455 - 9ms/epoch - 9ms/step\n",
            "Epoch 14/200\n",
            "1/1 - 0s - loss: 2.3156 - accuracy: 0.5455 - 11ms/epoch - 11ms/step\n",
            "Epoch 15/200\n",
            "1/1 - 0s - loss: 2.2999 - accuracy: 0.6364 - 9ms/epoch - 9ms/step\n",
            "Epoch 16/200\n",
            "1/1 - 0s - loss: 2.2836 - accuracy: 0.5455 - 9ms/epoch - 9ms/step\n",
            "Epoch 17/200\n",
            "1/1 - 0s - loss: 2.2667 - accuracy: 0.5455 - 9ms/epoch - 9ms/step\n",
            "Epoch 18/200\n",
            "1/1 - 0s - loss: 2.2489 - accuracy: 0.5455 - 9ms/epoch - 9ms/step\n",
            "Epoch 19/200\n",
            "1/1 - 0s - loss: 2.2304 - accuracy: 0.5455 - 9ms/epoch - 9ms/step\n",
            "Epoch 20/200\n",
            "1/1 - 0s - loss: 2.2111 - accuracy: 0.5455 - 10ms/epoch - 10ms/step\n",
            "Epoch 21/200\n",
            "1/1 - 0s - loss: 2.1909 - accuracy: 0.5455 - 8ms/epoch - 8ms/step\n",
            "Epoch 22/200\n",
            "1/1 - 0s - loss: 2.1698 - accuracy: 0.5455 - 8ms/epoch - 8ms/step\n",
            "Epoch 23/200\n",
            "1/1 - 0s - loss: 2.1478 - accuracy: 0.5455 - 8ms/epoch - 8ms/step\n",
            "Epoch 24/200\n",
            "1/1 - 0s - loss: 2.1249 - accuracy: 0.5455 - 8ms/epoch - 8ms/step\n",
            "Epoch 25/200\n",
            "1/1 - 0s - loss: 2.1011 - accuracy: 0.5455 - 9ms/epoch - 9ms/step\n",
            "Epoch 26/200\n",
            "1/1 - 0s - loss: 2.0764 - accuracy: 0.5455 - 9ms/epoch - 9ms/step\n",
            "Epoch 27/200\n",
            "1/1 - 0s - loss: 2.0508 - accuracy: 0.4545 - 11ms/epoch - 11ms/step\n",
            "Epoch 28/200\n",
            "1/1 - 0s - loss: 2.0244 - accuracy: 0.4545 - 10ms/epoch - 10ms/step\n",
            "Epoch 29/200\n",
            "1/1 - 0s - loss: 1.9973 - accuracy: 0.4545 - 8ms/epoch - 8ms/step\n",
            "Epoch 30/200\n",
            "1/1 - 0s - loss: 1.9695 - accuracy: 0.4545 - 13ms/epoch - 13ms/step\n",
            "Epoch 31/200\n",
            "1/1 - 0s - loss: 1.9412 - accuracy: 0.4545 - 9ms/epoch - 9ms/step\n",
            "Epoch 32/200\n",
            "1/1 - 0s - loss: 1.9124 - accuracy: 0.4545 - 10ms/epoch - 10ms/step\n",
            "Epoch 33/200\n",
            "1/1 - 0s - loss: 1.8834 - accuracy: 0.4545 - 9ms/epoch - 9ms/step\n",
            "Epoch 34/200\n",
            "1/1 - 0s - loss: 1.8542 - accuracy: 0.4545 - 10ms/epoch - 10ms/step\n",
            "Epoch 35/200\n",
            "1/1 - 0s - loss: 1.8252 - accuracy: 0.4545 - 9ms/epoch - 9ms/step\n",
            "Epoch 36/200\n",
            "1/1 - 0s - loss: 1.7963 - accuracy: 0.4545 - 10ms/epoch - 10ms/step\n",
            "Epoch 37/200\n",
            "1/1 - 0s - loss: 1.7678 - accuracy: 0.4545 - 10ms/epoch - 10ms/step\n",
            "Epoch 38/200\n",
            "1/1 - 0s - loss: 1.7398 - accuracy: 0.4545 - 8ms/epoch - 8ms/step\n",
            "Epoch 39/200\n",
            "1/1 - 0s - loss: 1.7124 - accuracy: 0.4545 - 8ms/epoch - 8ms/step\n",
            "Epoch 40/200\n",
            "1/1 - 0s - loss: 1.6857 - accuracy: 0.4545 - 8ms/epoch - 8ms/step\n",
            "Epoch 41/200\n",
            "1/1 - 0s - loss: 1.6598 - accuracy: 0.4545 - 11ms/epoch - 11ms/step\n",
            "Epoch 42/200\n",
            "1/1 - 0s - loss: 1.6345 - accuracy: 0.4545 - 9ms/epoch - 9ms/step\n",
            "Epoch 43/200\n",
            "1/1 - 0s - loss: 1.6100 - accuracy: 0.4545 - 10ms/epoch - 10ms/step\n",
            "Epoch 44/200\n",
            "1/1 - 0s - loss: 1.5861 - accuracy: 0.4545 - 10ms/epoch - 10ms/step\n",
            "Epoch 45/200\n",
            "1/1 - 0s - loss: 1.5627 - accuracy: 0.4545 - 8ms/epoch - 8ms/step\n",
            "Epoch 46/200\n",
            "1/1 - 0s - loss: 1.5398 - accuracy: 0.4545 - 9ms/epoch - 9ms/step\n",
            "Epoch 47/200\n",
            "1/1 - 0s - loss: 1.5174 - accuracy: 0.4545 - 9ms/epoch - 9ms/step\n",
            "Epoch 48/200\n",
            "1/1 - 0s - loss: 1.4953 - accuracy: 0.4545 - 10ms/epoch - 10ms/step\n",
            "Epoch 49/200\n",
            "1/1 - 0s - loss: 1.4735 - accuracy: 0.4545 - 11ms/epoch - 11ms/step\n",
            "Epoch 50/200\n",
            "1/1 - 0s - loss: 1.4520 - accuracy: 0.4545 - 12ms/epoch - 12ms/step\n",
            "Epoch 51/200\n",
            "1/1 - 0s - loss: 1.4309 - accuracy: 0.5455 - 10ms/epoch - 10ms/step\n",
            "Epoch 52/200\n",
            "1/1 - 0s - loss: 1.4100 - accuracy: 0.5455 - 11ms/epoch - 11ms/step\n",
            "Epoch 53/200\n",
            "1/1 - 0s - loss: 1.3895 - accuracy: 0.5455 - 10ms/epoch - 10ms/step\n",
            "Epoch 54/200\n",
            "1/1 - 0s - loss: 1.3694 - accuracy: 0.5455 - 11ms/epoch - 11ms/step\n",
            "Epoch 55/200\n",
            "1/1 - 0s - loss: 1.3496 - accuracy: 0.5455 - 9ms/epoch - 9ms/step\n",
            "Epoch 56/200\n",
            "1/1 - 0s - loss: 1.3302 - accuracy: 0.5455 - 10ms/epoch - 10ms/step\n",
            "Epoch 57/200\n",
            "1/1 - 0s - loss: 1.3112 - accuracy: 0.5455 - 10ms/epoch - 10ms/step\n",
            "Epoch 58/200\n",
            "1/1 - 0s - loss: 1.2925 - accuracy: 0.6364 - 12ms/epoch - 12ms/step\n",
            "Epoch 59/200\n",
            "1/1 - 0s - loss: 1.2742 - accuracy: 0.6364 - 9ms/epoch - 9ms/step\n",
            "Epoch 60/200\n",
            "1/1 - 0s - loss: 1.2561 - accuracy: 0.6364 - 9ms/epoch - 9ms/step\n",
            "Epoch 61/200\n",
            "1/1 - 0s - loss: 1.2383 - accuracy: 0.6364 - 10ms/epoch - 10ms/step\n",
            "Epoch 62/200\n",
            "1/1 - 0s - loss: 1.2207 - accuracy: 0.6364 - 9ms/epoch - 9ms/step\n",
            "Epoch 63/200\n",
            "1/1 - 0s - loss: 1.2032 - accuracy: 0.6364 - 9ms/epoch - 9ms/step\n",
            "Epoch 64/200\n",
            "1/1 - 0s - loss: 1.1858 - accuracy: 0.6364 - 9ms/epoch - 9ms/step\n",
            "Epoch 65/200\n",
            "1/1 - 0s - loss: 1.1686 - accuracy: 0.6364 - 10ms/epoch - 10ms/step\n",
            "Epoch 66/200\n",
            "1/1 - 0s - loss: 1.1515 - accuracy: 0.6364 - 9ms/epoch - 9ms/step\n",
            "Epoch 67/200\n",
            "1/1 - 0s - loss: 1.1345 - accuracy: 0.6364 - 9ms/epoch - 9ms/step\n",
            "Epoch 68/200\n",
            "1/1 - 0s - loss: 1.1177 - accuracy: 0.6364 - 9ms/epoch - 9ms/step\n",
            "Epoch 69/200\n",
            "1/1 - 0s - loss: 1.1010 - accuracy: 0.6364 - 11ms/epoch - 11ms/step\n",
            "Epoch 70/200\n",
            "1/1 - 0s - loss: 1.0845 - accuracy: 0.6364 - 10ms/epoch - 10ms/step\n",
            "Epoch 71/200\n",
            "1/1 - 0s - loss: 1.0682 - accuracy: 0.6364 - 11ms/epoch - 11ms/step\n",
            "Epoch 72/200\n",
            "1/1 - 0s - loss: 1.0520 - accuracy: 0.6364 - 10ms/epoch - 10ms/step\n",
            "Epoch 73/200\n",
            "1/1 - 0s - loss: 1.0360 - accuracy: 0.6364 - 12ms/epoch - 12ms/step\n",
            "Epoch 74/200\n",
            "1/1 - 0s - loss: 1.0202 - accuracy: 0.6364 - 11ms/epoch - 11ms/step\n",
            "Epoch 75/200\n",
            "1/1 - 0s - loss: 1.0046 - accuracy: 0.6364 - 10ms/epoch - 10ms/step\n",
            "Epoch 76/200\n",
            "1/1 - 0s - loss: 0.9891 - accuracy: 0.6364 - 11ms/epoch - 11ms/step\n",
            "Epoch 77/200\n",
            "1/1 - 0s - loss: 0.9738 - accuracy: 0.6364 - 10ms/epoch - 10ms/step\n",
            "Epoch 78/200\n",
            "1/1 - 0s - loss: 0.9587 - accuracy: 0.6364 - 10ms/epoch - 10ms/step\n",
            "Epoch 79/200\n",
            "1/1 - 0s - loss: 0.9437 - accuracy: 0.6364 - 9ms/epoch - 9ms/step\n",
            "Epoch 80/200\n",
            "1/1 - 0s - loss: 0.9289 - accuracy: 0.6364 - 11ms/epoch - 11ms/step\n",
            "Epoch 81/200\n",
            "1/1 - 0s - loss: 0.9143 - accuracy: 0.7273 - 10ms/epoch - 10ms/step\n",
            "Epoch 82/200\n",
            "1/1 - 0s - loss: 0.8998 - accuracy: 0.7273 - 9ms/epoch - 9ms/step\n",
            "Epoch 83/200\n",
            "1/1 - 0s - loss: 0.8855 - accuracy: 0.7273 - 9ms/epoch - 9ms/step\n",
            "Epoch 84/200\n",
            "1/1 - 0s - loss: 0.8714 - accuracy: 0.7273 - 9ms/epoch - 9ms/step\n",
            "Epoch 85/200\n",
            "1/1 - 0s - loss: 0.8575 - accuracy: 0.7273 - 10ms/epoch - 10ms/step\n",
            "Epoch 86/200\n",
            "1/1 - 0s - loss: 0.8437 - accuracy: 0.7273 - 9ms/epoch - 9ms/step\n",
            "Epoch 87/200\n",
            "1/1 - 0s - loss: 0.8301 - accuracy: 0.7273 - 10ms/epoch - 10ms/step\n",
            "Epoch 88/200\n",
            "1/1 - 0s - loss: 0.8167 - accuracy: 0.7273 - 10ms/epoch - 10ms/step\n",
            "Epoch 89/200\n",
            "1/1 - 0s - loss: 0.8035 - accuracy: 0.7273 - 9ms/epoch - 9ms/step\n",
            "Epoch 90/200\n",
            "1/1 - 0s - loss: 0.7904 - accuracy: 0.7273 - 12ms/epoch - 12ms/step\n",
            "Epoch 91/200\n",
            "1/1 - 0s - loss: 0.7775 - accuracy: 0.7273 - 10ms/epoch - 10ms/step\n",
            "Epoch 92/200\n",
            "1/1 - 0s - loss: 0.7648 - accuracy: 0.7273 - 11ms/epoch - 11ms/step\n",
            "Epoch 93/200\n",
            "1/1 - 0s - loss: 0.7522 - accuracy: 0.7273 - 12ms/epoch - 12ms/step\n",
            "Epoch 94/200\n",
            "1/1 - 0s - loss: 0.7399 - accuracy: 0.7273 - 12ms/epoch - 12ms/step\n",
            "Epoch 95/200\n",
            "1/1 - 0s - loss: 0.7276 - accuracy: 0.7273 - 10ms/epoch - 10ms/step\n",
            "Epoch 96/200\n",
            "1/1 - 0s - loss: 0.7156 - accuracy: 0.7273 - 9ms/epoch - 9ms/step\n",
            "Epoch 97/200\n",
            "1/1 - 0s - loss: 0.7037 - accuracy: 0.7273 - 11ms/epoch - 11ms/step\n",
            "Epoch 98/200\n",
            "1/1 - 0s - loss: 0.6919 - accuracy: 0.7273 - 9ms/epoch - 9ms/step\n",
            "Epoch 99/200\n",
            "1/1 - 0s - loss: 0.6804 - accuracy: 0.8182 - 10ms/epoch - 10ms/step\n",
            "Epoch 100/200\n",
            "1/1 - 0s - loss: 0.6690 - accuracy: 0.8182 - 9ms/epoch - 9ms/step\n",
            "Epoch 101/200\n",
            "1/1 - 0s - loss: 0.6577 - accuracy: 0.8182 - 11ms/epoch - 11ms/step\n",
            "Epoch 102/200\n",
            "1/1 - 0s - loss: 0.6466 - accuracy: 0.8182 - 10ms/epoch - 10ms/step\n",
            "Epoch 103/200\n",
            "1/1 - 0s - loss: 0.6356 - accuracy: 0.8182 - 10ms/epoch - 10ms/step\n",
            "Epoch 104/200\n",
            "1/1 - 0s - loss: 0.6249 - accuracy: 0.8182 - 11ms/epoch - 11ms/step\n",
            "Epoch 105/200\n",
            "1/1 - 0s - loss: 0.6142 - accuracy: 0.8182 - 13ms/epoch - 13ms/step\n",
            "Epoch 106/200\n",
            "1/1 - 0s - loss: 0.6037 - accuracy: 0.8182 - 10ms/epoch - 10ms/step\n",
            "Epoch 107/200\n",
            "1/1 - 0s - loss: 0.5934 - accuracy: 0.8182 - 10ms/epoch - 10ms/step\n",
            "Epoch 108/200\n",
            "1/1 - 0s - loss: 0.5832 - accuracy: 0.8182 - 10ms/epoch - 10ms/step\n",
            "Epoch 109/200\n",
            "1/1 - 0s - loss: 0.5731 - accuracy: 0.8182 - 9ms/epoch - 9ms/step\n",
            "Epoch 110/200\n",
            "1/1 - 0s - loss: 0.5632 - accuracy: 0.8182 - 9ms/epoch - 9ms/step\n",
            "Epoch 111/200\n",
            "1/1 - 0s - loss: 0.5535 - accuracy: 0.8182 - 9ms/epoch - 9ms/step\n",
            "Epoch 112/200\n",
            "1/1 - 0s - loss: 0.5439 - accuracy: 0.8182 - 10ms/epoch - 10ms/step\n",
            "Epoch 113/200\n",
            "1/1 - 0s - loss: 0.5344 - accuracy: 0.8182 - 9ms/epoch - 9ms/step\n",
            "Epoch 114/200\n",
            "1/1 - 0s - loss: 0.5251 - accuracy: 0.8182 - 9ms/epoch - 9ms/step\n",
            "Epoch 115/200\n",
            "1/1 - 0s - loss: 0.5159 - accuracy: 0.8182 - 12ms/epoch - 12ms/step\n",
            "Epoch 116/200\n",
            "1/1 - 0s - loss: 0.5068 - accuracy: 0.8182 - 9ms/epoch - 9ms/step\n",
            "Epoch 117/200\n",
            "1/1 - 0s - loss: 0.4979 - accuracy: 0.8182 - 9ms/epoch - 9ms/step\n",
            "Epoch 118/200\n",
            "1/1 - 0s - loss: 0.4891 - accuracy: 0.8182 - 10ms/epoch - 10ms/step\n",
            "Epoch 119/200\n",
            "1/1 - 0s - loss: 0.4804 - accuracy: 0.8182 - 9ms/epoch - 9ms/step\n",
            "Epoch 120/200\n",
            "1/1 - 0s - loss: 0.4719 - accuracy: 0.8182 - 9ms/epoch - 9ms/step\n",
            "Epoch 121/200\n",
            "1/1 - 0s - loss: 0.4634 - accuracy: 0.9091 - 10ms/epoch - 10ms/step\n",
            "Epoch 122/200\n",
            "1/1 - 0s - loss: 0.4551 - accuracy: 0.9091 - 11ms/epoch - 11ms/step\n",
            "Epoch 123/200\n",
            "1/1 - 0s - loss: 0.4470 - accuracy: 0.9091 - 12ms/epoch - 12ms/step\n",
            "Epoch 124/200\n",
            "1/1 - 0s - loss: 0.4389 - accuracy: 1.0000 - 10ms/epoch - 10ms/step\n",
            "Epoch 125/200\n",
            "1/1 - 0s - loss: 0.4309 - accuracy: 1.0000 - 9ms/epoch - 9ms/step\n",
            "Epoch 126/200\n",
            "1/1 - 0s - loss: 0.4231 - accuracy: 1.0000 - 12ms/epoch - 12ms/step\n",
            "Epoch 127/200\n",
            "1/1 - 0s - loss: 0.4154 - accuracy: 1.0000 - 14ms/epoch - 14ms/step\n",
            "Epoch 128/200\n",
            "1/1 - 0s - loss: 0.4078 - accuracy: 1.0000 - 12ms/epoch - 12ms/step\n",
            "Epoch 129/200\n",
            "1/1 - 0s - loss: 0.4003 - accuracy: 1.0000 - 10ms/epoch - 10ms/step\n",
            "Epoch 130/200\n",
            "1/1 - 0s - loss: 0.3929 - accuracy: 1.0000 - 10ms/epoch - 10ms/step\n",
            "Epoch 131/200\n",
            "1/1 - 0s - loss: 0.3856 - accuracy: 1.0000 - 9ms/epoch - 9ms/step\n",
            "Epoch 132/200\n",
            "1/1 - 0s - loss: 0.3784 - accuracy: 1.0000 - 9ms/epoch - 9ms/step\n",
            "Epoch 133/200\n",
            "1/1 - 0s - loss: 0.3713 - accuracy: 1.0000 - 9ms/epoch - 9ms/step\n",
            "Epoch 134/200\n",
            "1/1 - 0s - loss: 0.3642 - accuracy: 1.0000 - 9ms/epoch - 9ms/step\n",
            "Epoch 135/200\n",
            "1/1 - 0s - loss: 0.3573 - accuracy: 1.0000 - 9ms/epoch - 9ms/step\n",
            "Epoch 136/200\n",
            "1/1 - 0s - loss: 0.3505 - accuracy: 1.0000 - 8ms/epoch - 8ms/step\n",
            "Epoch 137/200\n",
            "1/1 - 0s - loss: 0.3438 - accuracy: 1.0000 - 9ms/epoch - 9ms/step\n",
            "Epoch 138/200\n",
            "1/1 - 0s - loss: 0.3372 - accuracy: 1.0000 - 9ms/epoch - 9ms/step\n",
            "Epoch 139/200\n",
            "1/1 - 0s - loss: 0.3306 - accuracy: 1.0000 - 9ms/epoch - 9ms/step\n",
            "Epoch 140/200\n",
            "1/1 - 0s - loss: 0.3242 - accuracy: 1.0000 - 9ms/epoch - 9ms/step\n",
            "Epoch 141/200\n",
            "1/1 - 0s - loss: 0.3178 - accuracy: 1.0000 - 9ms/epoch - 9ms/step\n",
            "Epoch 142/200\n",
            "1/1 - 0s - loss: 0.3116 - accuracy: 1.0000 - 9ms/epoch - 9ms/step\n",
            "Epoch 143/200\n",
            "1/1 - 0s - loss: 0.3054 - accuracy: 1.0000 - 9ms/epoch - 9ms/step\n",
            "Epoch 144/200\n",
            "1/1 - 0s - loss: 0.2993 - accuracy: 1.0000 - 9ms/epoch - 9ms/step\n",
            "Epoch 145/200\n",
            "1/1 - 0s - loss: 0.2933 - accuracy: 1.0000 - 9ms/epoch - 9ms/step\n",
            "Epoch 146/200\n",
            "1/1 - 0s - loss: 0.2873 - accuracy: 1.0000 - 9ms/epoch - 9ms/step\n",
            "Epoch 147/200\n",
            "1/1 - 0s - loss: 0.2815 - accuracy: 1.0000 - 9ms/epoch - 9ms/step\n",
            "Epoch 148/200\n",
            "1/1 - 0s - loss: 0.2758 - accuracy: 1.0000 - 9ms/epoch - 9ms/step\n",
            "Epoch 149/200\n",
            "1/1 - 0s - loss: 0.2701 - accuracy: 1.0000 - 9ms/epoch - 9ms/step\n",
            "Epoch 150/200\n",
            "1/1 - 0s - loss: 0.2645 - accuracy: 1.0000 - 9ms/epoch - 9ms/step\n",
            "Epoch 151/200\n",
            "1/1 - 0s - loss: 0.2590 - accuracy: 1.0000 - 9ms/epoch - 9ms/step\n",
            "Epoch 152/200\n",
            "1/1 - 0s - loss: 0.2536 - accuracy: 1.0000 - 9ms/epoch - 9ms/step\n",
            "Epoch 153/200\n",
            "1/1 - 0s - loss: 0.2483 - accuracy: 1.0000 - 8ms/epoch - 8ms/step\n",
            "Epoch 154/200\n",
            "1/1 - 0s - loss: 0.2431 - accuracy: 1.0000 - 9ms/epoch - 9ms/step\n",
            "Epoch 155/200\n",
            "1/1 - 0s - loss: 0.2379 - accuracy: 1.0000 - 9ms/epoch - 9ms/step\n",
            "Epoch 156/200\n",
            "1/1 - 0s - loss: 0.2329 - accuracy: 1.0000 - 9ms/epoch - 9ms/step\n",
            "Epoch 157/200\n",
            "1/1 - 0s - loss: 0.2279 - accuracy: 1.0000 - 9ms/epoch - 9ms/step\n",
            "Epoch 158/200\n",
            "1/1 - 0s - loss: 0.2231 - accuracy: 1.0000 - 9ms/epoch - 9ms/step\n",
            "Epoch 159/200\n",
            "1/1 - 0s - loss: 0.2183 - accuracy: 1.0000 - 11ms/epoch - 11ms/step\n",
            "Epoch 160/200\n",
            "1/1 - 0s - loss: 0.2136 - accuracy: 1.0000 - 10ms/epoch - 10ms/step\n",
            "Epoch 161/200\n",
            "1/1 - 0s - loss: 0.2090 - accuracy: 1.0000 - 9ms/epoch - 9ms/step\n",
            "Epoch 162/200\n",
            "1/1 - 0s - loss: 0.2045 - accuracy: 1.0000 - 9ms/epoch - 9ms/step\n",
            "Epoch 163/200\n",
            "1/1 - 0s - loss: 0.2000 - accuracy: 1.0000 - 10ms/epoch - 10ms/step\n",
            "Epoch 164/200\n",
            "1/1 - 0s - loss: 0.1957 - accuracy: 1.0000 - 9ms/epoch - 9ms/step\n",
            "Epoch 165/200\n",
            "1/1 - 0s - loss: 0.1915 - accuracy: 1.0000 - 9ms/epoch - 9ms/step\n",
            "Epoch 166/200\n",
            "1/1 - 0s - loss: 0.1873 - accuracy: 1.0000 - 9ms/epoch - 9ms/step\n",
            "Epoch 167/200\n",
            "1/1 - 0s - loss: 0.1833 - accuracy: 1.0000 - 9ms/epoch - 9ms/step\n",
            "Epoch 168/200\n",
            "1/1 - 0s - loss: 0.1793 - accuracy: 1.0000 - 9ms/epoch - 9ms/step\n",
            "Epoch 169/200\n",
            "1/1 - 0s - loss: 0.1754 - accuracy: 1.0000 - 9ms/epoch - 9ms/step\n",
            "Epoch 170/200\n",
            "1/1 - 0s - loss: 0.1716 - accuracy: 1.0000 - 10ms/epoch - 10ms/step\n",
            "Epoch 171/200\n",
            "1/1 - 0s - loss: 0.1679 - accuracy: 1.0000 - 10ms/epoch - 10ms/step\n",
            "Epoch 172/200\n",
            "1/1 - 0s - loss: 0.1643 - accuracy: 1.0000 - 11ms/epoch - 11ms/step\n",
            "Epoch 173/200\n",
            "1/1 - 0s - loss: 0.1608 - accuracy: 1.0000 - 11ms/epoch - 11ms/step\n",
            "Epoch 174/200\n",
            "1/1 - 0s - loss: 0.1573 - accuracy: 1.0000 - 12ms/epoch - 12ms/step\n",
            "Epoch 175/200\n",
            "1/1 - 0s - loss: 0.1539 - accuracy: 1.0000 - 11ms/epoch - 11ms/step\n",
            "Epoch 176/200\n",
            "1/1 - 0s - loss: 0.1507 - accuracy: 1.0000 - 10ms/epoch - 10ms/step\n",
            "Epoch 177/200\n",
            "1/1 - 0s - loss: 0.1475 - accuracy: 1.0000 - 9ms/epoch - 9ms/step\n",
            "Epoch 178/200\n",
            "1/1 - 0s - loss: 0.1443 - accuracy: 1.0000 - 9ms/epoch - 9ms/step\n",
            "Epoch 179/200\n",
            "1/1 - 0s - loss: 0.1413 - accuracy: 1.0000 - 9ms/epoch - 9ms/step\n",
            "Epoch 180/200\n",
            "1/1 - 0s - loss: 0.1383 - accuracy: 1.0000 - 9ms/epoch - 9ms/step\n",
            "Epoch 181/200\n",
            "1/1 - 0s - loss: 0.1354 - accuracy: 1.0000 - 9ms/epoch - 9ms/step\n",
            "Epoch 182/200\n",
            "1/1 - 0s - loss: 0.1326 - accuracy: 1.0000 - 9ms/epoch - 9ms/step\n",
            "Epoch 183/200\n",
            "1/1 - 0s - loss: 0.1299 - accuracy: 1.0000 - 9ms/epoch - 9ms/step\n",
            "Epoch 184/200\n",
            "1/1 - 0s - loss: 0.1272 - accuracy: 1.0000 - 9ms/epoch - 9ms/step\n",
            "Epoch 185/200\n",
            "1/1 - 0s - loss: 0.1246 - accuracy: 1.0000 - 9ms/epoch - 9ms/step\n",
            "Epoch 186/200\n",
            "1/1 - 0s - loss: 0.1221 - accuracy: 1.0000 - 9ms/epoch - 9ms/step\n",
            "Epoch 187/200\n",
            "1/1 - 0s - loss: 0.1196 - accuracy: 1.0000 - 10ms/epoch - 10ms/step\n",
            "Epoch 188/200\n",
            "1/1 - 0s - loss: 0.1172 - accuracy: 1.0000 - 9ms/epoch - 9ms/step\n",
            "Epoch 189/200\n",
            "1/1 - 0s - loss: 0.1149 - accuracy: 1.0000 - 9ms/epoch - 9ms/step\n",
            "Epoch 190/200\n",
            "1/1 - 0s - loss: 0.1126 - accuracy: 1.0000 - 9ms/epoch - 9ms/step\n",
            "Epoch 191/200\n",
            "1/1 - 0s - loss: 0.1104 - accuracy: 1.0000 - 9ms/epoch - 9ms/step\n",
            "Epoch 192/200\n",
            "1/1 - 0s - loss: 0.1083 - accuracy: 1.0000 - 9ms/epoch - 9ms/step\n",
            "Epoch 193/200\n",
            "1/1 - 0s - loss: 0.1062 - accuracy: 1.0000 - 9ms/epoch - 9ms/step\n",
            "Epoch 194/200\n",
            "1/1 - 0s - loss: 0.1042 - accuracy: 1.0000 - 9ms/epoch - 9ms/step\n",
            "Epoch 195/200\n",
            "1/1 - 0s - loss: 0.1022 - accuracy: 1.0000 - 9ms/epoch - 9ms/step\n",
            "Epoch 196/200\n",
            "1/1 - 0s - loss: 0.1003 - accuracy: 1.0000 - 9ms/epoch - 9ms/step\n",
            "Epoch 197/200\n",
            "1/1 - 0s - loss: 0.0984 - accuracy: 1.0000 - 9ms/epoch - 9ms/step\n",
            "Epoch 198/200\n",
            "1/1 - 0s - loss: 0.0966 - accuracy: 1.0000 - 9ms/epoch - 9ms/step\n",
            "Epoch 199/200\n",
            "1/1 - 0s - loss: 0.0948 - accuracy: 1.0000 - 10ms/epoch - 10ms/step\n",
            "Epoch 200/200\n",
            "1/1 - 0s - loss: 0.0931 - accuracy: 1.0000 - 12ms/epoch - 12ms/step\n"
          ]
        },
        {
          "output_type": "execute_result",
          "data": {
            "text/plain": [
              "<keras.callbacks.History at 0x7f7e00481490>"
            ]
          },
          "metadata": {},
          "execution_count": 15
        }
      ]
    },
    {
      "cell_type": "code",
      "source": [
        "def sentence_generation(model, tokenizer, current_word, n):\n",
        "  init_word = current_word\n",
        "  sentence = ' '\n",
        "\n",
        "  for _ in range(n):\n",
        "    encoded = tokenizer.texts_to_sequences([current_word])[0]\n",
        "    encoded = pad_sequences([encoded], maxlen=5, padding='pre')\n",
        "    # 입력한 X(현재 단어)에 대해 Y를 예측하고 Y(예측한 단어)를 result에 저장\n",
        "    result = model.predict(encoded, verbose=0)\n",
        "    result = np.argmax(result, axis=1)\n",
        "\n",
        "    for word, index in tokenizer.word_index.items():\n",
        "      if index == result:\n",
        "        break\n",
        "\n",
        "    current_word = current_word + ' ' + word\n",
        "    sentence = sentence + ' ' + word\n",
        "\n",
        "  sentence = init_word + sentence\n",
        "  \n",
        "  return sentence"
      ],
      "metadata": {
        "id": "nvoyPeoDEnef"
      },
      "execution_count": 20,
      "outputs": []
    },
    {
      "cell_type": "code",
      "source": [
        "print(sentence_generation(model, tokenizer, '경마장에', 4))"
      ],
      "metadata": {
        "colab": {
          "base_uri": "https://localhost:8080/"
        },
        "id": "wn-0PAOyHoY6",
        "outputId": "bf024f51-08e8-428a-c031-904343266a28"
      },
      "execution_count": 21,
      "outputs": [
        {
          "output_type": "stream",
          "name": "stdout",
          "text": [
            "경마장에  있는 말이 뛰고 있다\n"
          ]
        }
      ]
    },
    {
      "cell_type": "code",
      "source": [
        "print(sentence_generation(model, tokenizer, '그의', 2))"
      ],
      "metadata": {
        "colab": {
          "base_uri": "https://localhost:8080/"
        },
        "id": "JI4TOKDAIMDf",
        "outputId": "78eebeb9-ea24-4b24-b2ad-3b8914fdf09f"
      },
      "execution_count": 22,
      "outputs": [
        {
          "output_type": "stream",
          "name": "stdout",
          "text": [
            "그의  말이 법이다\n"
          ]
        }
      ]
    },
    {
      "cell_type": "code",
      "source": [
        "print(sentence_generation(model, tokenizer, '가는', 5))"
      ],
      "metadata": {
        "colab": {
          "base_uri": "https://localhost:8080/"
        },
        "id": "MV_d3q2kIRhl",
        "outputId": "87ce0ba2-3b9c-44f9-9e7a-fdab28153f95"
      },
      "execution_count": 23,
      "outputs": [
        {
          "output_type": "stream",
          "name": "stdout",
          "text": [
            "가는  말이 고와야 오는 말이 곱다\n"
          ]
        }
      ]
    },
    {
      "cell_type": "markdown",
      "source": [
        "2. LSTM을 이용하여 텍스트 생성하기 \n",
        "\n",
        "1) 데이터에 대한 이해와 전처리 "
      ],
      "metadata": {
        "id": "xmJL4xVIIX3m"
      }
    },
    {
      "cell_type": "code",
      "source": [
        "import pandas as pd\n",
        "import numpy as np\n",
        "from string import punctuation\n",
        "\n",
        "from tensorflow.keras.preprocessing.text import Tokenizer\n",
        "from tensorflow.keras.preprocessing.sequence import pad_sequences\n",
        "from tensorflow.keras.utils import to_categorical"
      ],
      "metadata": {
        "id": "Y4c_PF3cIMbv"
      },
      "execution_count": 24,
      "outputs": []
    },
    {
      "cell_type": "code",
      "source": [
        "df = pd.read_csv('/content/drive/MyDrive/NLP_입문/ArticlesApril2018.csv')\n",
        "df.head()"
      ],
      "metadata": {
        "colab": {
          "base_uri": "https://localhost:8080/",
          "height": 634
        },
        "id": "9Czf9aSMJd1J",
        "outputId": "8d76e358-6ea0-4ead-d859-b15ef71695f4"
      },
      "execution_count": 25,
      "outputs": [
        {
          "output_type": "execute_result",
          "data": {
            "text/plain": [
              "                  articleID  articleWordCount  \\\n",
              "0  5adf6684068401528a2aa69b               781   \n",
              "1  5adf653f068401528a2aa697               656   \n",
              "2  5adf4626068401528a2aa628              2427   \n",
              "3  5adf40d2068401528a2aa619               626   \n",
              "4  5adf3d64068401528a2aa60f               815   \n",
              "\n",
              "                                      byline documentType  \\\n",
              "0                             By JOHN BRANCH      article   \n",
              "1                           By LISA FRIEDMAN      article   \n",
              "2                              By PETE WELLS      article   \n",
              "3  By JULIE HIRSCHFELD DAVIS and PETER BAKER      article   \n",
              "4             By IAN AUSTEN and DAN BILEFSKY      article   \n",
              "\n",
              "                                            headline  \\\n",
              "0  Former N.F.L. Cheerleaders’ Settlement Offer: ...   \n",
              "1  E.P.A. to Unveil a New Rule. Its Effect: Less ...   \n",
              "2                            The New Noma, Explained   \n",
              "3                                            Unknown   \n",
              "4                                            Unknown   \n",
              "\n",
              "                                            keywords  multimedia     newDesk  \\\n",
              "0  ['Workplace Hazards and Violations', 'Football...          68      Sports   \n",
              "1  ['Environmental Protection Agency', 'Pruitt, S...          68     Climate   \n",
              "2  ['Restaurants', 'Noma (Copenhagen, Restaurant)...          66      Dining   \n",
              "3  ['Macron, Emmanuel (1977- )', 'Trump, Donald J...          68  Washington   \n",
              "4  ['Toronto, Ontario, Attack (April, 2018)', 'Mu...          68     Foreign   \n",
              "\n",
              "   printPage              pubDate   sectionName  \\\n",
              "0          0  2018-04-24 17:16:49  Pro Football   \n",
              "1          0  2018-04-24 17:11:21       Unknown   \n",
              "2          0  2018-04-24 14:58:44       Unknown   \n",
              "3          0  2018-04-24 14:35:57        Europe   \n",
              "4          0  2018-04-24 14:21:21        Canada   \n",
              "\n",
              "                                             snippet              source  \\\n",
              "0  “I understand that they could meet with us, pa...  The New York Times   \n",
              "1  The agency plans to publish a new regulation T...  The New York Times   \n",
              "2  What’s it like to eat at the second incarnatio...  The New York Times   \n",
              "3  President Trump welcomed President Emmanuel Ma...  The New York Times   \n",
              "4  Alek Minassian, 25, a resident of Toronto’s Ri...  The New York Times   \n",
              "\n",
              "  typeOfMaterial                                             webURL  \n",
              "0           News  https://www.nytimes.com/2018/04/24/sports/foot...  \n",
              "1           News  https://www.nytimes.com/2018/04/24/climate/epa...  \n",
              "2           News  https://www.nytimes.com/2018/04/24/dining/noma...  \n",
              "3           News  https://www.nytimes.com/2018/04/24/world/europ...  \n",
              "4           News  https://www.nytimes.com/2018/04/24/world/canad...  "
            ],
            "text/html": [
              "\n",
              "  <div id=\"df-5be24fe1-5e81-4a3e-b3ed-4868d567da13\">\n",
              "    <div class=\"colab-df-container\">\n",
              "      <div>\n",
              "<style scoped>\n",
              "    .dataframe tbody tr th:only-of-type {\n",
              "        vertical-align: middle;\n",
              "    }\n",
              "\n",
              "    .dataframe tbody tr th {\n",
              "        vertical-align: top;\n",
              "    }\n",
              "\n",
              "    .dataframe thead th {\n",
              "        text-align: right;\n",
              "    }\n",
              "</style>\n",
              "<table border=\"1\" class=\"dataframe\">\n",
              "  <thead>\n",
              "    <tr style=\"text-align: right;\">\n",
              "      <th></th>\n",
              "      <th>articleID</th>\n",
              "      <th>articleWordCount</th>\n",
              "      <th>byline</th>\n",
              "      <th>documentType</th>\n",
              "      <th>headline</th>\n",
              "      <th>keywords</th>\n",
              "      <th>multimedia</th>\n",
              "      <th>newDesk</th>\n",
              "      <th>printPage</th>\n",
              "      <th>pubDate</th>\n",
              "      <th>sectionName</th>\n",
              "      <th>snippet</th>\n",
              "      <th>source</th>\n",
              "      <th>typeOfMaterial</th>\n",
              "      <th>webURL</th>\n",
              "    </tr>\n",
              "  </thead>\n",
              "  <tbody>\n",
              "    <tr>\n",
              "      <th>0</th>\n",
              "      <td>5adf6684068401528a2aa69b</td>\n",
              "      <td>781</td>\n",
              "      <td>By JOHN BRANCH</td>\n",
              "      <td>article</td>\n",
              "      <td>Former N.F.L. Cheerleaders’ Settlement Offer: ...</td>\n",
              "      <td>['Workplace Hazards and Violations', 'Football...</td>\n",
              "      <td>68</td>\n",
              "      <td>Sports</td>\n",
              "      <td>0</td>\n",
              "      <td>2018-04-24 17:16:49</td>\n",
              "      <td>Pro Football</td>\n",
              "      <td>“I understand that they could meet with us, pa...</td>\n",
              "      <td>The New York Times</td>\n",
              "      <td>News</td>\n",
              "      <td>https://www.nytimes.com/2018/04/24/sports/foot...</td>\n",
              "    </tr>\n",
              "    <tr>\n",
              "      <th>1</th>\n",
              "      <td>5adf653f068401528a2aa697</td>\n",
              "      <td>656</td>\n",
              "      <td>By LISA FRIEDMAN</td>\n",
              "      <td>article</td>\n",
              "      <td>E.P.A. to Unveil a New Rule. Its Effect: Less ...</td>\n",
              "      <td>['Environmental Protection Agency', 'Pruitt, S...</td>\n",
              "      <td>68</td>\n",
              "      <td>Climate</td>\n",
              "      <td>0</td>\n",
              "      <td>2018-04-24 17:11:21</td>\n",
              "      <td>Unknown</td>\n",
              "      <td>The agency plans to publish a new regulation T...</td>\n",
              "      <td>The New York Times</td>\n",
              "      <td>News</td>\n",
              "      <td>https://www.nytimes.com/2018/04/24/climate/epa...</td>\n",
              "    </tr>\n",
              "    <tr>\n",
              "      <th>2</th>\n",
              "      <td>5adf4626068401528a2aa628</td>\n",
              "      <td>2427</td>\n",
              "      <td>By PETE WELLS</td>\n",
              "      <td>article</td>\n",
              "      <td>The New Noma, Explained</td>\n",
              "      <td>['Restaurants', 'Noma (Copenhagen, Restaurant)...</td>\n",
              "      <td>66</td>\n",
              "      <td>Dining</td>\n",
              "      <td>0</td>\n",
              "      <td>2018-04-24 14:58:44</td>\n",
              "      <td>Unknown</td>\n",
              "      <td>What’s it like to eat at the second incarnatio...</td>\n",
              "      <td>The New York Times</td>\n",
              "      <td>News</td>\n",
              "      <td>https://www.nytimes.com/2018/04/24/dining/noma...</td>\n",
              "    </tr>\n",
              "    <tr>\n",
              "      <th>3</th>\n",
              "      <td>5adf40d2068401528a2aa619</td>\n",
              "      <td>626</td>\n",
              "      <td>By JULIE HIRSCHFELD DAVIS and PETER BAKER</td>\n",
              "      <td>article</td>\n",
              "      <td>Unknown</td>\n",
              "      <td>['Macron, Emmanuel (1977- )', 'Trump, Donald J...</td>\n",
              "      <td>68</td>\n",
              "      <td>Washington</td>\n",
              "      <td>0</td>\n",
              "      <td>2018-04-24 14:35:57</td>\n",
              "      <td>Europe</td>\n",
              "      <td>President Trump welcomed President Emmanuel Ma...</td>\n",
              "      <td>The New York Times</td>\n",
              "      <td>News</td>\n",
              "      <td>https://www.nytimes.com/2018/04/24/world/europ...</td>\n",
              "    </tr>\n",
              "    <tr>\n",
              "      <th>4</th>\n",
              "      <td>5adf3d64068401528a2aa60f</td>\n",
              "      <td>815</td>\n",
              "      <td>By IAN AUSTEN and DAN BILEFSKY</td>\n",
              "      <td>article</td>\n",
              "      <td>Unknown</td>\n",
              "      <td>['Toronto, Ontario, Attack (April, 2018)', 'Mu...</td>\n",
              "      <td>68</td>\n",
              "      <td>Foreign</td>\n",
              "      <td>0</td>\n",
              "      <td>2018-04-24 14:21:21</td>\n",
              "      <td>Canada</td>\n",
              "      <td>Alek Minassian, 25, a resident of Toronto’s Ri...</td>\n",
              "      <td>The New York Times</td>\n",
              "      <td>News</td>\n",
              "      <td>https://www.nytimes.com/2018/04/24/world/canad...</td>\n",
              "    </tr>\n",
              "  </tbody>\n",
              "</table>\n",
              "</div>\n",
              "      <button class=\"colab-df-convert\" onclick=\"convertToInteractive('df-5be24fe1-5e81-4a3e-b3ed-4868d567da13')\"\n",
              "              title=\"Convert this dataframe to an interactive table.\"\n",
              "              style=\"display:none;\">\n",
              "        \n",
              "  <svg xmlns=\"http://www.w3.org/2000/svg\" height=\"24px\"viewBox=\"0 0 24 24\"\n",
              "       width=\"24px\">\n",
              "    <path d=\"M0 0h24v24H0V0z\" fill=\"none\"/>\n",
              "    <path d=\"M18.56 5.44l.94 2.06.94-2.06 2.06-.94-2.06-.94-.94-2.06-.94 2.06-2.06.94zm-11 1L8.5 8.5l.94-2.06 2.06-.94-2.06-.94L8.5 2.5l-.94 2.06-2.06.94zm10 10l.94 2.06.94-2.06 2.06-.94-2.06-.94-.94-2.06-.94 2.06-2.06.94z\"/><path d=\"M17.41 7.96l-1.37-1.37c-.4-.4-.92-.59-1.43-.59-.52 0-1.04.2-1.43.59L10.3 9.45l-7.72 7.72c-.78.78-.78 2.05 0 2.83L4 21.41c.39.39.9.59 1.41.59.51 0 1.02-.2 1.41-.59l7.78-7.78 2.81-2.81c.8-.78.8-2.07 0-2.86zM5.41 20L4 18.59l7.72-7.72 1.47 1.35L5.41 20z\"/>\n",
              "  </svg>\n",
              "      </button>\n",
              "      \n",
              "  <style>\n",
              "    .colab-df-container {\n",
              "      display:flex;\n",
              "      flex-wrap:wrap;\n",
              "      gap: 12px;\n",
              "    }\n",
              "\n",
              "    .colab-df-convert {\n",
              "      background-color: #E8F0FE;\n",
              "      border: none;\n",
              "      border-radius: 50%;\n",
              "      cursor: pointer;\n",
              "      display: none;\n",
              "      fill: #1967D2;\n",
              "      height: 32px;\n",
              "      padding: 0 0 0 0;\n",
              "      width: 32px;\n",
              "    }\n",
              "\n",
              "    .colab-df-convert:hover {\n",
              "      background-color: #E2EBFA;\n",
              "      box-shadow: 0px 1px 2px rgba(60, 64, 67, 0.3), 0px 1px 3px 1px rgba(60, 64, 67, 0.15);\n",
              "      fill: #174EA6;\n",
              "    }\n",
              "\n",
              "    [theme=dark] .colab-df-convert {\n",
              "      background-color: #3B4455;\n",
              "      fill: #D2E3FC;\n",
              "    }\n",
              "\n",
              "    [theme=dark] .colab-df-convert:hover {\n",
              "      background-color: #434B5C;\n",
              "      box-shadow: 0px 1px 3px 1px rgba(0, 0, 0, 0.15);\n",
              "      filter: drop-shadow(0px 1px 2px rgba(0, 0, 0, 0.3));\n",
              "      fill: #FFFFFF;\n",
              "    }\n",
              "  </style>\n",
              "\n",
              "      <script>\n",
              "        const buttonEl =\n",
              "          document.querySelector('#df-5be24fe1-5e81-4a3e-b3ed-4868d567da13 button.colab-df-convert');\n",
              "        buttonEl.style.display =\n",
              "          google.colab.kernel.accessAllowed ? 'block' : 'none';\n",
              "\n",
              "        async function convertToInteractive(key) {\n",
              "          const element = document.querySelector('#df-5be24fe1-5e81-4a3e-b3ed-4868d567da13');\n",
              "          const dataTable =\n",
              "            await google.colab.kernel.invokeFunction('convertToInteractive',\n",
              "                                                     [key], {});\n",
              "          if (!dataTable) return;\n",
              "\n",
              "          const docLinkHtml = 'Like what you see? Visit the ' +\n",
              "            '<a target=\"_blank\" href=https://colab.research.google.com/notebooks/data_table.ipynb>data table notebook</a>'\n",
              "            + ' to learn more about interactive tables.';\n",
              "          element.innerHTML = '';\n",
              "          dataTable['output_type'] = 'display_data';\n",
              "          await google.colab.output.renderOutput(dataTable, element);\n",
              "          const docLink = document.createElement('div');\n",
              "          docLink.innerHTML = docLinkHtml;\n",
              "          element.appendChild(docLink);\n",
              "        }\n",
              "      </script>\n",
              "    </div>\n",
              "  </div>\n",
              "  "
            ]
          },
          "metadata": {},
          "execution_count": 25
        }
      ]
    },
    {
      "cell_type": "code",
      "source": [
        "print('열의 개수: ', len(df.columns))\n",
        "print(df.columns)"
      ],
      "metadata": {
        "colab": {
          "base_uri": "https://localhost:8080/"
        },
        "id": "A9D8efXuJqdM",
        "outputId": "d13ad618-89b8-413a-def1-c0f03ea84eef"
      },
      "execution_count": 26,
      "outputs": [
        {
          "output_type": "stream",
          "name": "stdout",
          "text": [
            "열의 개수:  15\n",
            "Index(['articleID', 'articleWordCount', 'byline', 'documentType', 'headline',\n",
            "       'keywords', 'multimedia', 'newDesk', 'printPage', 'pubDate',\n",
            "       'sectionName', 'snippet', 'source', 'typeOfMaterial', 'webURL'],\n",
            "      dtype='object')\n"
          ]
        }
      ]
    },
    {
      "cell_type": "code",
      "source": [
        "print(df['headline'].isnull().values.any())"
      ],
      "metadata": {
        "colab": {
          "base_uri": "https://localhost:8080/"
        },
        "id": "JykTenAtJrGx",
        "outputId": "1585f799-ca8d-4c28-88ab-a91c3689f88c"
      },
      "execution_count": 27,
      "outputs": [
        {
          "output_type": "stream",
          "name": "stdout",
          "text": [
            "False\n"
          ]
        }
      ]
    },
    {
      "cell_type": "code",
      "source": [
        "headline = []     # headline의 값들을 list로 저장\n",
        "headline.extend(list(df.headline.values))\n",
        "headline[:5]"
      ],
      "metadata": {
        "colab": {
          "base_uri": "https://localhost:8080/"
        },
        "id": "x4cPKZ2lJ7uC",
        "outputId": "336b23aa-c8c9-4ee7-cc70-06cbb0b96501"
      },
      "execution_count": 28,
      "outputs": [
        {
          "output_type": "execute_result",
          "data": {
            "text/plain": [
              "['Former N.F.L. Cheerleaders’ Settlement Offer: $1 and a Meeting With Goodell',\n",
              " 'E.P.A. to Unveil a New Rule. Its Effect: Less Science in Policymaking.',\n",
              " 'The New Noma, Explained',\n",
              " 'Unknown',\n",
              " 'Unknown']"
            ]
          },
          "metadata": {},
          "execution_count": 28
        }
      ]
    },
    {
      "cell_type": "code",
      "source": [
        "headline = [word for word in headline if word != \"Unknown\"]\n",
        "print('노이즈값 제거 후 샘플의 개수 : {}'.format(len(headline)))"
      ],
      "metadata": {
        "colab": {
          "base_uri": "https://localhost:8080/"
        },
        "id": "iClA7MvbJ8Ai",
        "outputId": "e25a83d8-c417-442d-c2a7-c0d78b7862b2"
      },
      "execution_count": 29,
      "outputs": [
        {
          "output_type": "stream",
          "name": "stdout",
          "text": [
            "노이즈값 제거 후 샘플의 개수 : 1214\n"
          ]
        }
      ]
    },
    {
      "cell_type": "code",
      "source": [
        "headline[:5]"
      ],
      "metadata": {
        "colab": {
          "base_uri": "https://localhost:8080/"
        },
        "id": "EF6lFANzJ8Jq",
        "outputId": "dabd8818-66fa-4b20-d077-e8f84e261469"
      },
      "execution_count": 30,
      "outputs": [
        {
          "output_type": "execute_result",
          "data": {
            "text/plain": [
              "['Former N.F.L. Cheerleaders’ Settlement Offer: $1 and a Meeting With Goodell',\n",
              " 'E.P.A. to Unveil a New Rule. Its Effect: Less Science in Policymaking.',\n",
              " 'The New Noma, Explained',\n",
              " 'How a Bag of Texas Dirt  Became a Times Tradition',\n",
              " 'Is School a Place for Self-Expression?']"
            ]
          },
          "metadata": {},
          "execution_count": 30
        }
      ]
    },
    {
      "cell_type": "markdown",
      "source": [
        "데이터 전처리(구두점 제거, 단어의 소문자화) "
      ],
      "metadata": {
        "id": "DlUo8u0nKfMx"
      }
    },
    {
      "cell_type": "code",
      "source": [
        "def repreprocessing(raw_sentence):\n",
        "  preproceseed_sentence = raw_sentence.encode(\"utf8\").decode(\"ascii\", 'ignore')\n",
        "  return ''.join(word for word in preproceseed_sentence if word not in punctuation).lower()\n",
        "\n",
        "preprocessed_headline = [repreprocessing(x) for x in headline]\n",
        "preprocessed_headline[:5]"
      ],
      "metadata": {
        "colab": {
          "base_uri": "https://localhost:8080/"
        },
        "id": "m-wUJIx5Kd9v",
        "outputId": "85afacd5-1865-4ed4-d0e7-3d5dcb6607bf"
      },
      "execution_count": 31,
      "outputs": [
        {
          "output_type": "execute_result",
          "data": {
            "text/plain": [
              "['former nfl cheerleaders settlement offer 1 and a meeting with goodell',\n",
              " 'epa to unveil a new rule its effect less science in policymaking',\n",
              " 'the new noma explained',\n",
              " 'how a bag of texas dirt  became a times tradition',\n",
              " 'is school a place for selfexpression']"
            ]
          },
          "metadata": {},
          "execution_count": 31
        }
      ]
    },
    {
      "cell_type": "code",
      "source": [
        "tokenizer = Tokenizer()\n",
        "tokenizer.fit_on_texts(preprocessed_headline)\n",
        "vocab_size =len(tokenizer.word_index) + 1\n",
        "\n",
        "print('단어 집합의 크기 : %d' % vocab_size)"
      ],
      "metadata": {
        "colab": {
          "base_uri": "https://localhost:8080/"
        },
        "id": "91OlclXPKeA3",
        "outputId": "285b1756-9eb4-47e4-f309-d6c1a86bb54d"
      },
      "execution_count": 32,
      "outputs": [
        {
          "output_type": "stream",
          "name": "stdout",
          "text": [
            "단어 집합의 크기 : 3494\n"
          ]
        }
      ]
    },
    {
      "cell_type": "code",
      "source": [
        "sequences = list()\n",
        "\n",
        "for sentence in preprocessed_headline:\n",
        "  encoded = tokenizer.texts_to_sequences([sentence])[0]\n",
        "  for i in range(1, len(encoded)):\n",
        "    sequence = encoded[:i+1]\n",
        "    sequences.append(sequence)\n",
        "\n",
        "sequences[:11]"
      ],
      "metadata": {
        "colab": {
          "base_uri": "https://localhost:8080/"
        },
        "id": "nrGdY-pwKeER",
        "outputId": "525ad1a5-1b93-4743-983a-eda8ebd27678"
      },
      "execution_count": 33,
      "outputs": [
        {
          "output_type": "execute_result",
          "data": {
            "text/plain": [
              "[[99, 269],\n",
              " [99, 269, 371],\n",
              " [99, 269, 371, 1115],\n",
              " [99, 269, 371, 1115, 582],\n",
              " [99, 269, 371, 1115, 582, 52],\n",
              " [99, 269, 371, 1115, 582, 52, 7],\n",
              " [99, 269, 371, 1115, 582, 52, 7, 2],\n",
              " [99, 269, 371, 1115, 582, 52, 7, 2, 372],\n",
              " [99, 269, 371, 1115, 582, 52, 7, 2, 372, 10],\n",
              " [99, 269, 371, 1115, 582, 52, 7, 2, 372, 10, 1116],\n",
              " [100, 3]]"
            ]
          },
          "metadata": {},
          "execution_count": 33
        }
      ]
    },
    {
      "cell_type": "markdown",
      "source": [
        "- [99, 269]: [former nfl]\n",
        "- [99, 269, 371]: [former nfl cheerleaders]\n",
        "- 하나의 단어를 예측하기 위해 이전에 등장한 단어들을 모두 참고해야 하므로, 하나의 문장을 나누는 것 "
      ],
      "metadata": {
        "id": "PLXAudQsMHWw"
      }
    },
    {
      "cell_type": "code",
      "source": [
        "index_to_word = {}\n",
        "for key, value in tokenizer.word_index.items():     # 인덱스를 단어로 바꾸기 위해 index_to_word 생성\n",
        " index_to_word[value] = key\n",
        "\n",
        "print('빈도수 상위 582번 단어: {}'.format(index_to_word[582]))"
      ],
      "metadata": {
        "colab": {
          "base_uri": "https://localhost:8080/"
        },
        "id": "xpnQGno7KeH2",
        "outputId": "92a48401-df55-46b0-9ca3-2c5da9057f1c"
      },
      "execution_count": 34,
      "outputs": [
        {
          "output_type": "stream",
          "name": "stdout",
          "text": [
            "빈도수 상위 582번 단어: offer\n"
          ]
        }
      ]
    },
    {
      "cell_type": "markdown",
      "source": [
        "전체 샘플 길이 동일하게 하기 위해 padding 수행 "
      ],
      "metadata": {
        "id": "WYWXKan_NJGw"
      }
    },
    {
      "cell_type": "code",
      "source": [
        "max_len = max(len(l) for l in sequences)\n",
        "print('샘플의 최대 길이 : {}'.format(max_len))"
      ],
      "metadata": {
        "colab": {
          "base_uri": "https://localhost:8080/"
        },
        "id": "6_p0yuV3KeLX",
        "outputId": "38a994b5-3b74-48f2-cd81-0908b25227ff"
      },
      "execution_count": 35,
      "outputs": [
        {
          "output_type": "stream",
          "name": "stdout",
          "text": [
            "샘플의 최대 길이 : 24\n"
          ]
        }
      ]
    },
    {
      "cell_type": "code",
      "source": [
        "sequences = pad_sequences(sequences, maxlen = max_len, padding='pre')\n",
        "print(sequences[:3])"
      ],
      "metadata": {
        "colab": {
          "base_uri": "https://localhost:8080/"
        },
        "id": "d94uW9btNaNW",
        "outputId": "1ce9b938-2b10-4234-8f81-940658428562"
      },
      "execution_count": 36,
      "outputs": [
        {
          "output_type": "stream",
          "name": "stdout",
          "text": [
            "[[   0    0    0    0    0    0    0    0    0    0    0    0    0    0\n",
            "     0    0    0    0    0    0    0    0   99  269]\n",
            " [   0    0    0    0    0    0    0    0    0    0    0    0    0    0\n",
            "     0    0    0    0    0    0    0   99  269  371]\n",
            " [   0    0    0    0    0    0    0    0    0    0    0    0    0    0\n",
            "     0    0    0    0    0    0   99  269  371 1115]]\n"
          ]
        }
      ]
    },
    {
      "cell_type": "code",
      "source": [
        "sequences = np.array(sequences)\n",
        "X = sequences[:, :-1]\n",
        "y = sequences[:, -1]\n",
        "\n",
        "print(X[:3])"
      ],
      "metadata": {
        "colab": {
          "base_uri": "https://localhost:8080/"
        },
        "id": "rNzMxzesNkah",
        "outputId": "12cb0e58-b720-4df0-8ca9-79b558794e5d"
      },
      "execution_count": 38,
      "outputs": [
        {
          "output_type": "stream",
          "name": "stdout",
          "text": [
            "[[  0   0   0   0   0   0   0   0   0   0   0   0   0   0   0   0   0   0\n",
            "    0   0   0   0  99]\n",
            " [  0   0   0   0   0   0   0   0   0   0   0   0   0   0   0   0   0   0\n",
            "    0   0   0  99 269]\n",
            " [  0   0   0   0   0   0   0   0   0   0   0   0   0   0   0   0   0   0\n",
            "    0   0  99 269 371]]\n"
          ]
        }
      ]
    },
    {
      "cell_type": "code",
      "source": [
        "print(y[:3])"
      ],
      "metadata": {
        "colab": {
          "base_uri": "https://localhost:8080/"
        },
        "id": "QJw49hJoN19N",
        "outputId": "979ae9c4-8659-4446-f597-432eb7573a9f"
      },
      "execution_count": 39,
      "outputs": [
        {
          "output_type": "stream",
          "name": "stdout",
          "text": [
            "[ 269  371 1115]\n"
          ]
        }
      ]
    },
    {
      "cell_type": "code",
      "source": [
        "y = to_categorical(y, num_classes = vocab_size)"
      ],
      "metadata": {
        "id": "BLP5ccE7N2GE"
      },
      "execution_count": 40,
      "outputs": []
    },
    {
      "cell_type": "markdown",
      "source": [
        "2) 모델 설계하기 "
      ],
      "metadata": {
        "id": "3xbzs8dRN_En"
      }
    },
    {
      "cell_type": "code",
      "source": [
        "from tensorflow.keras.models import Sequential\n",
        "from tensorflow.keras.layers import Embedding, Dense, LSTM"
      ],
      "metadata": {
        "id": "Bm7KihFiOBAt"
      },
      "execution_count": 41,
      "outputs": []
    },
    {
      "cell_type": "code",
      "source": [
        "embedding_dim = 10\n",
        "hidden_units = 128\n",
        "\n",
        "model = Sequential()\n",
        "model.add(Embedding(vocab_size, embedding_dim))\n",
        "model.add(LSTM(hidden_units))\n",
        "model.add(Dense(vocab_size, activation='softmax'))\n",
        "model.compile(loss='categorical_crossentropy', optimizer='adam', metrics=['accuracy'])\n",
        "model.fit(X, y, epochs=100, verbose=2)"
      ],
      "metadata": {
        "colab": {
          "base_uri": "https://localhost:8080/"
        },
        "id": "WaduHD4MOxjy",
        "outputId": "513cbd4c-7d3c-4fd6-ed96-cec4f945fde8"
      },
      "execution_count": 45,
      "outputs": [
        {
          "output_type": "stream",
          "name": "stdout",
          "text": [
            "Epoch 1/100\n",
            "244/244 - 14s - loss: 7.6389 - accuracy: 0.0310 - 14s/epoch - 58ms/step\n",
            "Epoch 2/100\n",
            "244/244 - 12s - loss: 7.1161 - accuracy: 0.0301 - 12s/epoch - 49ms/step\n",
            "Epoch 3/100\n",
            "244/244 - 10s - loss: 6.9802 - accuracy: 0.0331 - 10s/epoch - 41ms/step\n",
            "Epoch 4/100\n",
            "244/244 - 12s - loss: 6.8592 - accuracy: 0.0388 - 12s/epoch - 49ms/step\n",
            "Epoch 5/100\n",
            "244/244 - 12s - loss: 6.7190 - accuracy: 0.0411 - 12s/epoch - 48ms/step\n",
            "Epoch 6/100\n",
            "244/244 - 12s - loss: 6.5593 - accuracy: 0.0459 - 12s/epoch - 48ms/step\n",
            "Epoch 7/100\n",
            "244/244 - 12s - loss: 6.4666 - accuracy: 0.0513 - 12s/epoch - 49ms/step\n",
            "Epoch 8/100\n",
            "244/244 - 10s - loss: 6.2169 - accuracy: 0.0559 - 10s/epoch - 43ms/step\n",
            "Epoch 9/100\n",
            "244/244 - 12s - loss: 6.0373 - accuracy: 0.0597 - 12s/epoch - 48ms/step\n",
            "Epoch 10/100\n",
            "244/244 - 12s - loss: 5.8627 - accuracy: 0.0651 - 12s/epoch - 48ms/step\n",
            "Epoch 11/100\n",
            "244/244 - 12s - loss: 5.6919 - accuracy: 0.0674 - 12s/epoch - 48ms/step\n",
            "Epoch 12/100\n",
            "244/244 - 12s - loss: 5.5270 - accuracy: 0.0711 - 12s/epoch - 49ms/step\n",
            "Epoch 13/100\n",
            "244/244 - 11s - loss: 5.3689 - accuracy: 0.0768 - 11s/epoch - 44ms/step\n",
            "Epoch 14/100\n",
            "244/244 - 11s - loss: 5.2162 - accuracy: 0.0791 - 11s/epoch - 46ms/step\n",
            "Epoch 15/100\n",
            "244/244 - 12s - loss: 5.0654 - accuracy: 0.0887 - 12s/epoch - 50ms/step\n",
            "Epoch 16/100\n",
            "244/244 - 12s - loss: 4.9295 - accuracy: 0.0998 - 12s/epoch - 49ms/step\n",
            "Epoch 17/100\n",
            "244/244 - 12s - loss: 4.7897 - accuracy: 0.1087 - 12s/epoch - 49ms/step\n",
            "Epoch 18/100\n",
            "244/244 - 12s - loss: 4.6616 - accuracy: 0.1184 - 12s/epoch - 50ms/step\n",
            "Epoch 19/100\n",
            "244/244 - 10s - loss: 4.5385 - accuracy: 0.1352 - 10s/epoch - 42ms/step\n",
            "Epoch 20/100\n",
            "244/244 - 12s - loss: 4.4164 - accuracy: 0.1453 - 12s/epoch - 48ms/step\n",
            "Epoch 21/100\n",
            "244/244 - 12s - loss: 4.2963 - accuracy: 0.1663 - 12s/epoch - 49ms/step\n",
            "Epoch 22/100\n",
            "244/244 - 12s - loss: 4.1835 - accuracy: 0.1831 - 12s/epoch - 49ms/step\n",
            "Epoch 23/100\n",
            "244/244 - 12s - loss: 4.0760 - accuracy: 0.1954 - 12s/epoch - 51ms/step\n",
            "Epoch 24/100\n",
            "244/244 - 12s - loss: 3.9695 - accuracy: 0.2107 - 12s/epoch - 50ms/step\n",
            "Epoch 25/100\n",
            "244/244 - 12s - loss: 3.8663 - accuracy: 0.2309 - 12s/epoch - 50ms/step\n",
            "Epoch 26/100\n",
            "244/244 - 12s - loss: 3.7642 - accuracy: 0.2475 - 12s/epoch - 48ms/step\n",
            "Epoch 27/100\n",
            "244/244 - 12s - loss: 3.6709 - accuracy: 0.2658 - 12s/epoch - 50ms/step\n",
            "Epoch 28/100\n",
            "244/244 - 12s - loss: 3.5753 - accuracy: 0.2817 - 12s/epoch - 50ms/step\n",
            "Epoch 29/100\n",
            "244/244 - 12s - loss: 3.4859 - accuracy: 0.3012 - 12s/epoch - 50ms/step\n",
            "Epoch 30/100\n",
            "244/244 - 12s - loss: 3.3979 - accuracy: 0.3126 - 12s/epoch - 49ms/step\n",
            "Epoch 31/100\n",
            "244/244 - 10s - loss: 3.3136 - accuracy: 0.3292 - 10s/epoch - 42ms/step\n",
            "Epoch 32/100\n",
            "244/244 - 12s - loss: 3.2280 - accuracy: 0.3486 - 12s/epoch - 49ms/step\n",
            "Epoch 33/100\n",
            "244/244 - 12s - loss: 3.1492 - accuracy: 0.3564 - 12s/epoch - 50ms/step\n",
            "Epoch 34/100\n",
            "244/244 - 12s - loss: 3.0707 - accuracy: 0.3732 - 12s/epoch - 50ms/step\n",
            "Epoch 35/100\n",
            "244/244 - 12s - loss: 2.9971 - accuracy: 0.3863 - 12s/epoch - 49ms/step\n",
            "Epoch 36/100\n",
            "244/244 - 11s - loss: 2.9262 - accuracy: 0.4022 - 11s/epoch - 47ms/step\n",
            "Epoch 37/100\n",
            "244/244 - 11s - loss: 2.8511 - accuracy: 0.4198 - 11s/epoch - 44ms/step\n",
            "Epoch 38/100\n",
            "244/244 - 12s - loss: 2.7820 - accuracy: 0.4328 - 12s/epoch - 50ms/step\n",
            "Epoch 39/100\n",
            "244/244 - 12s - loss: 2.7144 - accuracy: 0.4464 - 12s/epoch - 50ms/step\n",
            "Epoch 40/100\n",
            "244/244 - 12s - loss: 2.6484 - accuracy: 0.4583 - 12s/epoch - 49ms/step\n",
            "Epoch 41/100\n",
            "244/244 - 12s - loss: 2.5865 - accuracy: 0.4725 - 12s/epoch - 50ms/step\n",
            "Epoch 42/100\n",
            "244/244 - 11s - loss: 2.5242 - accuracy: 0.4879 - 11s/epoch - 46ms/step\n",
            "Epoch 43/100\n",
            "244/244 - 11s - loss: 2.4649 - accuracy: 0.4974 - 11s/epoch - 46ms/step\n",
            "Epoch 44/100\n",
            "244/244 - 12s - loss: 2.4045 - accuracy: 0.5107 - 12s/epoch - 50ms/step\n",
            "Epoch 45/100\n",
            "244/244 - 12s - loss: 2.3486 - accuracy: 0.5199 - 12s/epoch - 49ms/step\n",
            "Epoch 46/100\n",
            "244/244 - 12s - loss: 2.2912 - accuracy: 0.5324 - 12s/epoch - 49ms/step\n",
            "Epoch 47/100\n",
            "244/244 - 12s - loss: 2.2348 - accuracy: 0.5456 - 12s/epoch - 49ms/step\n",
            "Epoch 48/100\n",
            "244/244 - 10s - loss: 2.1828 - accuracy: 0.5575 - 10s/epoch - 41ms/step\n",
            "Epoch 49/100\n",
            "244/244 - 12s - loss: 2.1307 - accuracy: 0.5657 - 12s/epoch - 49ms/step\n",
            "Epoch 50/100\n",
            "244/244 - 12s - loss: 2.0784 - accuracy: 0.5781 - 12s/epoch - 50ms/step\n",
            "Epoch 51/100\n",
            "244/244 - 12s - loss: 2.0305 - accuracy: 0.5893 - 12s/epoch - 49ms/step\n",
            "Epoch 52/100\n",
            "244/244 - 12s - loss: 1.9797 - accuracy: 0.5982 - 12s/epoch - 49ms/step\n",
            "Epoch 53/100\n",
            "244/244 - 11s - loss: 1.9300 - accuracy: 0.6081 - 11s/epoch - 45ms/step\n",
            "Epoch 54/100\n",
            "244/244 - 11s - loss: 1.8855 - accuracy: 0.6207 - 11s/epoch - 46ms/step\n",
            "Epoch 55/100\n",
            "244/244 - 12s - loss: 1.8360 - accuracy: 0.6332 - 12s/epoch - 50ms/step\n",
            "Epoch 56/100\n",
            "244/244 - 12s - loss: 1.7924 - accuracy: 0.6410 - 12s/epoch - 50ms/step\n",
            "Epoch 57/100\n",
            "244/244 - 12s - loss: 1.7481 - accuracy: 0.6524 - 12s/epoch - 49ms/step\n",
            "Epoch 58/100\n",
            "244/244 - 12s - loss: 1.7047 - accuracy: 0.6665 - 12s/epoch - 50ms/step\n",
            "Epoch 59/100\n",
            "244/244 - 11s - loss: 1.6608 - accuracy: 0.6695 - 11s/epoch - 45ms/step\n",
            "Epoch 60/100\n",
            "244/244 - 12s - loss: 1.6183 - accuracy: 0.6824 - 12s/epoch - 47ms/step\n",
            "Epoch 61/100\n",
            "244/244 - 12s - loss: 1.5829 - accuracy: 0.6829 - 12s/epoch - 50ms/step\n",
            "Epoch 62/100\n",
            "244/244 - 12s - loss: 1.5400 - accuracy: 0.6951 - 12s/epoch - 49ms/step\n",
            "Epoch 63/100\n",
            "244/244 - 12s - loss: 1.5029 - accuracy: 0.7042 - 12s/epoch - 49ms/step\n",
            "Epoch 64/100\n",
            "244/244 - 12s - loss: 1.4648 - accuracy: 0.7099 - 12s/epoch - 49ms/step\n",
            "Epoch 65/100\n",
            "244/244 - 11s - loss: 1.4240 - accuracy: 0.7205 - 11s/epoch - 44ms/step\n",
            "Epoch 66/100\n",
            "244/244 - 12s - loss: 1.3893 - accuracy: 0.7255 - 12s/epoch - 49ms/step\n",
            "Epoch 67/100\n",
            "244/244 - 12s - loss: 1.3554 - accuracy: 0.7363 - 12s/epoch - 49ms/step\n",
            "Epoch 68/100\n",
            "244/244 - 12s - loss: 1.3196 - accuracy: 0.7416 - 12s/epoch - 49ms/step\n",
            "Epoch 69/100\n",
            "244/244 - 12s - loss: 1.2862 - accuracy: 0.7484 - 12s/epoch - 49ms/step\n",
            "Epoch 70/100\n",
            "244/244 - 11s - loss: 1.2559 - accuracy: 0.7565 - 11s/epoch - 47ms/step\n",
            "Epoch 71/100\n",
            "244/244 - 11s - loss: 1.2253 - accuracy: 0.7619 - 11s/epoch - 45ms/step\n",
            "Epoch 72/100\n",
            "244/244 - 12s - loss: 1.1917 - accuracy: 0.7693 - 12s/epoch - 49ms/step\n",
            "Epoch 73/100\n",
            "244/244 - 12s - loss: 1.1603 - accuracy: 0.7750 - 12s/epoch - 49ms/step\n",
            "Epoch 74/100\n",
            "244/244 - 12s - loss: 1.1289 - accuracy: 0.7842 - 12s/epoch - 49ms/step\n",
            "Epoch 75/100\n",
            "244/244 - 12s - loss: 1.1013 - accuracy: 0.7879 - 12s/epoch - 49ms/step\n",
            "Epoch 76/100\n",
            "244/244 - 11s - loss: 1.0730 - accuracy: 0.7951 - 11s/epoch - 44ms/step\n",
            "Epoch 77/100\n",
            "244/244 - 12s - loss: 1.0450 - accuracy: 0.8005 - 12s/epoch - 48ms/step\n",
            "Epoch 78/100\n",
            "244/244 - 12s - loss: 1.0213 - accuracy: 0.8067 - 12s/epoch - 50ms/step\n",
            "Epoch 79/100\n",
            "244/244 - 12s - loss: 0.9919 - accuracy: 0.8105 - 12s/epoch - 49ms/step\n",
            "Epoch 80/100\n",
            "244/244 - 12s - loss: 0.9684 - accuracy: 0.8176 - 12s/epoch - 50ms/step\n",
            "Epoch 81/100\n",
            "244/244 - 12s - loss: 0.9458 - accuracy: 0.8219 - 12s/epoch - 50ms/step\n",
            "Epoch 82/100\n",
            "244/244 - 11s - loss: 0.9231 - accuracy: 0.8274 - 11s/epoch - 45ms/step\n",
            "Epoch 83/100\n",
            "244/244 - 12s - loss: 0.8986 - accuracy: 0.8307 - 12s/epoch - 47ms/step\n",
            "Epoch 84/100\n",
            "244/244 - 12s - loss: 0.8767 - accuracy: 0.8324 - 12s/epoch - 50ms/step\n",
            "Epoch 85/100\n",
            "244/244 - 12s - loss: 0.8549 - accuracy: 0.8397 - 12s/epoch - 50ms/step\n",
            "Epoch 86/100\n",
            "244/244 - 12s - loss: 0.8348 - accuracy: 0.8440 - 12s/epoch - 49ms/step\n",
            "Epoch 87/100\n",
            "244/244 - 12s - loss: 0.8119 - accuracy: 0.8503 - 12s/epoch - 50ms/step\n",
            "Epoch 88/100\n",
            "244/244 - 10s - loss: 0.7932 - accuracy: 0.8511 - 10s/epoch - 42ms/step\n",
            "Epoch 89/100\n",
            "244/244 - 12s - loss: 0.7727 - accuracy: 0.8525 - 12s/epoch - 49ms/step\n",
            "Epoch 90/100\n",
            "244/244 - 12s - loss: 0.7545 - accuracy: 0.8580 - 12s/epoch - 51ms/step\n",
            "Epoch 91/100\n",
            "244/244 - 12s - loss: 0.7362 - accuracy: 0.8586 - 12s/epoch - 50ms/step\n",
            "Epoch 92/100\n",
            "244/244 - 12s - loss: 0.7197 - accuracy: 0.8633 - 12s/epoch - 50ms/step\n",
            "Epoch 93/100\n",
            "244/244 - 12s - loss: 0.7061 - accuracy: 0.8661 - 12s/epoch - 50ms/step\n",
            "Epoch 94/100\n",
            "244/244 - 11s - loss: 0.6891 - accuracy: 0.8688 - 11s/epoch - 44ms/step\n",
            "Epoch 95/100\n",
            "244/244 - 12s - loss: 0.6720 - accuracy: 0.8712 - 12s/epoch - 48ms/step\n",
            "Epoch 96/100\n",
            "244/244 - 12s - loss: 0.6575 - accuracy: 0.8740 - 12s/epoch - 50ms/step\n",
            "Epoch 97/100\n",
            "244/244 - 12s - loss: 0.6402 - accuracy: 0.8785 - 12s/epoch - 50ms/step\n",
            "Epoch 98/100\n",
            "244/244 - 12s - loss: 0.6267 - accuracy: 0.8799 - 12s/epoch - 49ms/step\n",
            "Epoch 99/100\n",
            "244/244 - 12s - loss: 0.6123 - accuracy: 0.8811 - 12s/epoch - 49ms/step\n",
            "Epoch 100/100\n",
            "244/244 - 11s - loss: 0.5994 - accuracy: 0.8839 - 11s/epoch - 44ms/step\n"
          ]
        },
        {
          "output_type": "execute_result",
          "data": {
            "text/plain": [
              "<keras.callbacks.History at 0x7f7df8ee1f10>"
            ]
          },
          "metadata": {},
          "execution_count": 45
        }
      ]
    },
    {
      "cell_type": "code",
      "source": [
        "def sentence_generation(model, tokenizer, current_word, n):\n",
        "  init_word = current_word\n",
        "  sentence = ' '\n",
        "\n",
        "  for _ in range(n):\n",
        "    encoded = tokenizer.texts_to_sequences([current_word])[0]\n",
        "    encoded = pad_sequences([encoded], maxlen=max_len-1, padding='pre')\n",
        "    result = model.predict(encoded, verbose=0)\n",
        "    result = np.argmax(result, axis=1)\n",
        "\n",
        "    for word, index in tokenizer.word_index.items():\n",
        "      if index == result:\n",
        "        break\n",
        "\n",
        "    current_word = current_word + ' ' + word\n",
        "    sentence = sentence + ' ' + word\n",
        "\n",
        "  sentence = init_word + sentence\n",
        "  \n",
        "  return sentence"
      ],
      "metadata": {
        "id": "YTsbIOg6OBDc"
      },
      "execution_count": 48,
      "outputs": []
    },
    {
      "cell_type": "code",
      "source": [
        "print(sentence_generation(model, tokenizer, 'i', 10))"
      ],
      "metadata": {
        "colab": {
          "base_uri": "https://localhost:8080/"
        },
        "id": "IF4-iX_SOBHC",
        "outputId": "384e1ea0-ce2a-4f26-ffc5-c2da71c8ac1d"
      },
      "execution_count": 49,
      "outputs": [
        {
          "output_type": "stream",
          "name": "stdout",
          "text": [
            "i  disapprove of school vouchers can i still apply for them\n"
          ]
        }
      ]
    },
    {
      "cell_type": "code",
      "source": [
        "print(sentence_generation(model, tokenizer, 'how', 10))"
      ],
      "metadata": {
        "colab": {
          "base_uri": "https://localhost:8080/"
        },
        "id": "UJ6qhMaEQjxN",
        "outputId": "74fed35d-ac2e-4c53-f283-733f4d6a07fb"
      },
      "execution_count": 51,
      "outputs": [
        {
          "output_type": "stream",
          "name": "stdout",
          "text": [
            "how  to make a crossword puzzle as is the people of\n"
          ]
        }
      ]
    }
  ]
}