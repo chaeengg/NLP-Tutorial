{
  "nbformat": 4,
  "nbformat_minor": 0,
  "metadata": {
    "colab": {
      "provenance": [],
      "authorship_tag": "ABX9TyNV8hsfViB3Uy4CA7WjO6GW"
    },
    "kernelspec": {
      "name": "python3",
      "display_name": "Python 3"
    },
    "language_info": {
      "name": "python"
    }
  },
  "cells": [
    {
      "cell_type": "markdown",
      "source": [
        "# 02. 장단기 메모리(Long Short-Term Memory, LSTM)\n",
        "\n",
        "- 가장 단순한 형태의 RNN: Vanilla RNN(Keras 에서는 SimpleRNN)\n",
        "- RNN의 한계를 극복하기 위해 LSTM 등장"
      ],
      "metadata": {
        "id": "ihC67FAlysPX"
      }
    },
    {
      "cell_type": "markdown",
      "source": [
        "1. 바닐라 RNN의 한계\n",
        "- 짧은 sequence에서만 효과를 보임 -> time step이 길어질수록 정보량의 손실 정도가 커짐 "
      ],
      "metadata": {
        "id": "krQy7eImy9h7"
      }
    },
    {
      "cell_type": "markdown",
      "source": [
        "2. 바닐라 RNN 내부 열어보기 \n",
        " - 은닉 상태 ℎ𝑡 = 𝑡𝑎𝑛ℎ(𝑊𝑥𝑥𝑡 + 𝑊ℎℎ𝑡−1 + 𝑏) "
      ],
      "metadata": {
        "id": "Xqg1rcwwzYWo"
      }
    },
    {
      "cell_type": "markdown",
      "source": [
        "3. LSTM(Long Short-Term Memory)\n",
        "- 은닉층의 메모리 셀에 입력 게이트, 망각 게이트, 출력 게이트를 추가하여 불필요한 기억을 줄임 = cell state 값을 추가함 \n",
        "\n",
        "※ σ 는 시그모이드 함수(0~1값) \n",
        "\n",
        "※ tanh 는 하이퍼볼릭탄젠트 함수 (-1~1값)\n",
        "\n",
        "(1) 입력 게이트\n",
        "- 현재 정보를 기억하기 위한 게이트\n",
        "- 𝑖𝑡 = 𝜎(𝑊𝑥𝑖𝑥𝑡 + 𝑊ℎ𝑖ℎ𝑡−1 + 𝑏𝑖\n",
        ")\n",
        "- 𝑔𝑡 = 𝑡𝑎𝑛ℎ(𝑊𝑥𝑔𝑥𝑡 + 𝑊ℎ𝑔ℎ𝑡−1 + 𝑏𝑔\n",
        ")\n",
        "- 이전 시점의 입력을 얼마나 반영할지 의미 \n",
        "\n",
        "(2) 삭제 게이트\n",
        "- 기억을 삭제하기 위한 게이트\n",
        "- 시그모이드 함수를 지난 결과 값 = 삭제 과정을 거친 정보의 양\n",
        "- 0에 가까울수록 정보가 많이 삭제된 것\n",
        "- 현재 시점의 입력을 얼마나 반영할지 결정 \n",
        "\n",
        "(3) 셀 상태\n",
        "- 삭제 게이트에서 일부 기억을 잃은 상태 \n",
        "- 𝐶𝑡 = 𝑓𝑡∘ 𝐶𝑡−1 + 𝑖𝑡∘ 𝑔t\n",
        "- ∘: 원소별 곱(entrywise product), 같은 크기의 두 행렬이 있을 때 같은 위치의 성분끼리 곱하는 것 \n",
        "- 입력 게이트에서 선택된 기억을 삭제 게이트의 결과값과 더함\n",
        "\n",
        "(4) 출력 게이트와 은닉 상태 \n",
        "- 현재 시점 t의 x값과 이전 시점 t-1의 은닉 상태가 시그모이드 함수를 지닌 값\n",
        "   -> 현재 시점 t의 은닉 상태를 결정하게 됨 "
      ],
      "metadata": {
        "id": "SaZIPWpdz7As"
      }
    }
  ]
}