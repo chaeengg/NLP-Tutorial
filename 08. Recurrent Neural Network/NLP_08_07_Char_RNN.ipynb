{
  "nbformat": 4,
  "nbformat_minor": 0,
  "metadata": {
    "colab": {
      "provenance": [],
      "mount_file_id": "1Jf0Mw9R109q4wFrO1girJ6iwamNbILjA",
      "authorship_tag": "ABX9TyM6pjLlTeNENxRyMmfLVu7O"
    },
    "kernelspec": {
      "name": "python3",
      "display_name": "Python 3"
    },
    "language_info": {
      "name": "python"
    }
  },
  "cells": [
    {
      "cell_type": "markdown",
      "source": [
        "# 07. 문자 단위 RNN(Char RNN) \n",
        "\n",
        "- 단어 레벨(word-level)에서 문자 레벨(character-level)로 변경하여 RNN 구현 가능 "
      ],
      "metadata": {
        "id": "icHaquQMuFqf"
      }
    },
    {
      "cell_type": "markdown",
      "source": [
        "1. 문자 단위 RNN 언어 모델(Char RNNLM)\n",
        "\n",
        "1) 데이터에 대한 이해와 전처리 "
      ],
      "metadata": {
        "id": "94klXxnWunnV"
      }
    },
    {
      "cell_type": "code",
      "execution_count": 4,
      "metadata": {
        "id": "7S2ZU3uKt0vA"
      },
      "outputs": [],
      "source": [
        "import numpy as np\n",
        "import urllib.request\n",
        "from tensorflow.keras.utils import to_categorical\n",
        "\n",
        "urllib.request.urlretrieve(\"https://www.gutenberg.org/files/11/11-0.txt\", filename = \"11-0.txt\")\n",
        "\n",
        "f = open(\"11-0.txt\", 'rb')\n",
        "sentences = []\n",
        "for sentence in f:    # 데이터를 한 줄씩 읽음\n",
        " sentence = sentence.strip()   # strip()을 통해 \\r, \\n을 제거\n",
        " sentence = sentence.lower()    \n",
        " sentence = sentence.decode('ascii', 'ignore')     # \\xe2\\x80\\x99 등과 같은 바이트 열 제거 \n",
        " if len(sentence) > 0:\n",
        "   sentences.append(sentence)\n",
        "f.close()"
      ]
    },
    {
      "cell_type": "code",
      "source": [
        "sentences[:5]"
      ],
      "metadata": {
        "colab": {
          "base_uri": "https://localhost:8080/"
        },
        "id": "49Q4eLU6xrSO",
        "outputId": "ff517650-b520-467c-ab9a-5dd8cd0d5f64"
      },
      "execution_count": 5,
      "outputs": [
        {
          "output_type": "execute_result",
          "data": {
            "text/plain": [
              "['the project gutenberg ebook of alices adventures in wonderland, by lewis carroll',\n",
              " 'this ebook is for the use of anyone anywhere in the united states and',\n",
              " 'most other parts of the world at no cost and with almost no restrictions',\n",
              " 'whatsoever. you may copy it, give it away or re-use it under the terms',\n",
              " 'of the project gutenberg license included with this ebook or online at']"
            ]
          },
          "metadata": {},
          "execution_count": 5
        }
      ]
    },
    {
      "cell_type": "code",
      "source": [
        "# 하나의 문자열로 통합\n",
        "total_data = ' '.join(sentences)\n",
        "print('문자열의 길이 또는 총 문자의 개수: %d' % len(total_data))"
      ],
      "metadata": {
        "colab": {
          "base_uri": "https://localhost:8080/"
        },
        "id": "5d46r6FyxyI8",
        "outputId": "2298c8cd-3e06-4858-eb36-4be276908d54"
      },
      "execution_count": 6,
      "outputs": [
        {
          "output_type": "stream",
          "name": "stdout",
          "text": [
            "문자열의 길이 또는 총 문자의 개수: 159484\n"
          ]
        }
      ]
    },
    {
      "cell_type": "code",
      "source": [
        "print(total_data[:200])"
      ],
      "metadata": {
        "colab": {
          "base_uri": "https://localhost:8080/"
        },
        "id": "Lu5tIUYxxyLT",
        "outputId": "827afecd-309b-4a0a-f8ce-e19ce9b6b6db"
      },
      "execution_count": 7,
      "outputs": [
        {
          "output_type": "stream",
          "name": "stdout",
          "text": [
            "the project gutenberg ebook of alices adventures in wonderland, by lewis carroll this ebook is for the use of anyone anywhere in the united states and most other parts of the world at no cost and with\n"
          ]
        }
      ]
    },
    {
      "cell_type": "code",
      "source": [
        "# 문자 집합 만들기 \n",
        "char_vocab = sorted(list(set(total_data)))\n",
        "vocab_size = len(char_vocab)\n",
        "\n",
        "print('문자 집합의 크기: {}'.format(vocab_size))"
      ],
      "metadata": {
        "colab": {
          "base_uri": "https://localhost:8080/"
        },
        "id": "44pGXNpexyN_",
        "outputId": "8f8ef88d-c230-4fab-e871-0220008f80b8"
      },
      "execution_count": 8,
      "outputs": [
        {
          "output_type": "stream",
          "name": "stdout",
          "text": [
            "문자 집합의 크기: 56\n"
          ]
        }
      ]
    },
    {
      "cell_type": "code",
      "source": [
        "# 문자에 고유한 정수 부여\n",
        "char_to_index = dict((char, index) for index, char in enumerate(char_vocab))\n",
        "print('문자 집합:', char_to_index)"
      ],
      "metadata": {
        "colab": {
          "base_uri": "https://localhost:8080/"
        },
        "id": "ZfRcq9WtzODR",
        "outputId": "34c7f68c-f18e-40b1-9299-fae3ec22d978"
      },
      "execution_count": 9,
      "outputs": [
        {
          "output_type": "stream",
          "name": "stdout",
          "text": [
            "문자 집합: {' ': 0, '!': 1, '\"': 2, '#': 3, '$': 4, '%': 5, \"'\": 6, '(': 7, ')': 8, '*': 9, ',': 10, '-': 11, '.': 12, '/': 13, '0': 14, '1': 15, '2': 16, '3': 17, '4': 18, '5': 19, '6': 20, '7': 21, '8': 22, '9': 23, ':': 24, ';': 25, '?': 26, '[': 27, ']': 28, '_': 29, 'a': 30, 'b': 31, 'c': 32, 'd': 33, 'e': 34, 'f': 35, 'g': 36, 'h': 37, 'i': 38, 'j': 39, 'k': 40, 'l': 41, 'm': 42, 'n': 43, 'o': 44, 'p': 45, 'q': 46, 'r': 47, 's': 48, 't': 49, 'u': 50, 'v': 51, 'w': 52, 'x': 53, 'y': 54, 'z': 55}\n"
          ]
        }
      ]
    },
    {
      "cell_type": "code",
      "source": [
        "# 정수로부터 문자 리턴\n",
        "index_to_char = {}\n",
        "for key, value in char_to_index.items():\n",
        "  index_to_char[value] = key"
      ],
      "metadata": {
        "id": "jObEu_ouzeir"
      },
      "execution_count": 10,
      "outputs": []
    },
    {
      "cell_type": "code",
      "source": [
        "seq_length = 60 \n",
        "\n",
        "# 문자열의 길이를 seq_length로 나누면 전처리 후 생겨날 샘플 수\n",
        "n_samples = int(np.floor((len(total_data) - 1) / seq_length))\n",
        "print('샘플의 수: {}'.format(n_samples))"
      ],
      "metadata": {
        "colab": {
          "base_uri": "https://localhost:8080/"
        },
        "id": "9jeSgYWWxyQs",
        "outputId": "b9dbabb1-5003-4e1d-aaa4-21653fdd8fff"
      },
      "execution_count": 11,
      "outputs": [
        {
          "output_type": "stream",
          "name": "stdout",
          "text": [
            "샘플의 수: 2658\n"
          ]
        }
      ]
    },
    {
      "cell_type": "markdown",
      "source": [
        "- 데이터를 만드는 방법(=샘플의 수): 문자열 전체(159484) / 문장의 길이(60) "
      ],
      "metadata": {
        "id": "GElAkolj0Pdr"
      }
    },
    {
      "cell_type": "code",
      "source": [
        "train_X = []\n",
        "train_y = []\n",
        "\n",
        "for i in range(n_samples):\n",
        "  # 0:60 -> 60:120 -> 120:180으로 loop를 돌면서 문장 샘플을 1개씩 pick\n",
        "  X_sample = total_data[i*seq_length: (i+1)*seq_length]\n",
        "\n",
        "  # 정수 인코딩 \n",
        "  X_encoded = [char_to_index[c] for c in X_sample]\n",
        "  train_X.append(X_encoded)\n",
        "\n",
        " # 오른쪽으로 1칸 shift \n",
        "  y_sample = total_data[i*seq_length+1: (i+1)*seq_length+1]\n",
        "  y_encoded = [char_to_index[c] for c in y_sample]\n",
        "  train_y.append(y_encoded)"
      ],
      "metadata": {
        "id": "einZ9pd80myt"
      },
      "execution_count": 12,
      "outputs": []
    },
    {
      "cell_type": "code",
      "source": [
        "print('X 데이터의 첫번째 샘플:', train_X[0])\n",
        "print('y 데이터의 첫번째 샘플:', train_y[0])\n",
        "print('-'*50)\n",
        "print('X 데이터의 첫번째 샘플 디코딩:', [index_to_char[i] for i in train_X[0]])\n",
        "print('y 데이터의 첫번째 샘플 디코딩:', [index_to_char[i] for i in train_y[0]])"
      ],
      "metadata": {
        "colab": {
          "base_uri": "https://localhost:8080/"
        },
        "id": "4ZpI4Vyp0nhF",
        "outputId": "034c5cf3-3609-4b22-fbaf-334d0d55794e"
      },
      "execution_count": 14,
      "outputs": [
        {
          "output_type": "stream",
          "name": "stdout",
          "text": [
            "X 데이터의 첫번째 샘플: [49, 37, 34, 0, 45, 47, 44, 39, 34, 32, 49, 0, 36, 50, 49, 34, 43, 31, 34, 47, 36, 0, 34, 31, 44, 44, 40, 0, 44, 35, 0, 30, 41, 38, 32, 34, 48, 0, 30, 33, 51, 34, 43, 49, 50, 47, 34, 48, 0, 38, 43, 0, 52, 44, 43, 33, 34, 47, 41, 30]\n",
            "y 데이터의 첫번째 샘플: [37, 34, 0, 45, 47, 44, 39, 34, 32, 49, 0, 36, 50, 49, 34, 43, 31, 34, 47, 36, 0, 34, 31, 44, 44, 40, 0, 44, 35, 0, 30, 41, 38, 32, 34, 48, 0, 30, 33, 51, 34, 43, 49, 50, 47, 34, 48, 0, 38, 43, 0, 52, 44, 43, 33, 34, 47, 41, 30, 43]\n",
            "--------------------------------------------------\n",
            "X 데이터의 첫번째 샘플 디코딩: ['t', 'h', 'e', ' ', 'p', 'r', 'o', 'j', 'e', 'c', 't', ' ', 'g', 'u', 't', 'e', 'n', 'b', 'e', 'r', 'g', ' ', 'e', 'b', 'o', 'o', 'k', ' ', 'o', 'f', ' ', 'a', 'l', 'i', 'c', 'e', 's', ' ', 'a', 'd', 'v', 'e', 'n', 't', 'u', 'r', 'e', 's', ' ', 'i', 'n', ' ', 'w', 'o', 'n', 'd', 'e', 'r', 'l', 'a']\n",
            "y 데이터의 첫번째 샘플 디코딩: ['h', 'e', ' ', 'p', 'r', 'o', 'j', 'e', 'c', 't', ' ', 'g', 'u', 't', 'e', 'n', 'b', 'e', 'r', 'g', ' ', 'e', 'b', 'o', 'o', 'k', ' ', 'o', 'f', ' ', 'a', 'l', 'i', 'c', 'e', 's', ' ', 'a', 'd', 'v', 'e', 'n', 't', 'u', 'r', 'e', 's', ' ', 'i', 'n', ' ', 'w', 'o', 'n', 'd', 'e', 'r', 'l', 'a', 'n']\n"
          ]
        }
      ]
    },
    {
      "cell_type": "markdown",
      "source": [
        "- 문자 단위 RNN에서는 입력 시퀀스에 대해 워드 임베딩을 하지 않음 = Embedding Layer를 사용하지 않음\n",
        "  -> train_X에 대해서도 원-핫 인코딩 실행함 "
      ],
      "metadata": {
        "id": "BpR1ous-2iPi"
      }
    },
    {
      "cell_type": "code",
      "source": [
        "train_X = to_categorical(train_X)\n",
        "train_y = to_categorical(train_y)\n",
        "\n",
        "print('train_X의 크기(shape : {}'.format(train_X.shape))      # 원-핫 인코딩 \n",
        "print('train_y의 크기(shape : {}'.format(train_y.shape))"
      ],
      "metadata": {
        "colab": {
          "base_uri": "https://localhost:8080/"
        },
        "id": "-Y1yUiKk0njb",
        "outputId": "83947a88-e741-49cc-924e-14f6184cbfbd"
      },
      "execution_count": 15,
      "outputs": [
        {
          "output_type": "stream",
          "name": "stdout",
          "text": [
            "train_X의 크기(shape : (2658, 60, 56)\n",
            "train_y의 크기(shape : (2658, 60, 56)\n"
          ]
        }
      ]
    },
    {
      "cell_type": "markdown",
      "source": [
        "- 샘플의 수(No. of samples): 2658개\n",
        "- 입력 시퀀스의 길이(input_length): 60개\n",
        "- 각 벡터의 차원(input_dim): 56개 \n",
        "\n",
        "![image.png](data:image/png;base64,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)"
      ],
      "metadata": {
        "id": "vlfIjco-4XDG"
      }
    },
    {
      "cell_type": "markdown",
      "source": [
        "2) 모델 설계하기 "
      ],
      "metadata": {
        "id": "_K8XU_Px5ikx"
      }
    },
    {
      "cell_type": "code",
      "source": [
        "from tensorflow.keras.models import Sequential\n",
        "from tensorflow.keras.layers import Dense, LSTM, TimeDistributed\n",
        "\n",
        "hidden_units = 256\n",
        "\n",
        "model = Sequential()\n",
        "model.add(LSTM(hidden_units, input_shape=(None, train_X.shape[2]),\n",
        "               return_sequences = True))\n",
        "model.add(LSTM(hidden_units, return_sequences = True))\n",
        "model.add(TimeDistributed(Dense(vocab_size, activation = 'softmax')))\n",
        "model.compile(loss = 'categorical_crossentropy', optimizer = 'adam', metrics = ['accuracy'])\n",
        "model.fit(train_X, train_y, epochs=50, verbose=2)"
      ],
      "metadata": {
        "colab": {
          "base_uri": "https://localhost:8080/"
        },
        "id": "KCIsApos0nlx",
        "outputId": "2fd14b22-f986-4784-f1be-c359f9cc5fb1"
      },
      "execution_count": 17,
      "outputs": [
        {
          "output_type": "stream",
          "name": "stdout",
          "text": [
            "Epoch 1/50\n",
            "84/84 - 47s - loss: 3.0727 - accuracy: 0.1812 - 47s/epoch - 557ms/step\n",
            "Epoch 2/50\n",
            "84/84 - 41s - loss: 2.7337 - accuracy: 0.2457 - 41s/epoch - 493ms/step\n",
            "Epoch 3/50\n",
            "84/84 - 42s - loss: 2.4078 - accuracy: 0.3248 - 42s/epoch - 499ms/step\n",
            "Epoch 4/50\n",
            "84/84 - 50s - loss: 2.2662 - accuracy: 0.3566 - 50s/epoch - 591ms/step\n",
            "Epoch 5/50\n",
            "84/84 - 58s - loss: 2.1667 - accuracy: 0.3823 - 58s/epoch - 691ms/step\n",
            "Epoch 6/50\n",
            "84/84 - 51s - loss: 2.0834 - accuracy: 0.4016 - 51s/epoch - 605ms/step\n",
            "Epoch 7/50\n",
            "84/84 - 43s - loss: 2.0152 - accuracy: 0.4197 - 43s/epoch - 508ms/step\n",
            "Epoch 8/50\n",
            "84/84 - 43s - loss: 1.9590 - accuracy: 0.4352 - 43s/epoch - 509ms/step\n",
            "Epoch 9/50\n",
            "84/84 - 42s - loss: 1.9082 - accuracy: 0.4475 - 42s/epoch - 501ms/step\n",
            "Epoch 10/50\n",
            "84/84 - 41s - loss: 1.8606 - accuracy: 0.4604 - 41s/epoch - 492ms/step\n",
            "Epoch 11/50\n",
            "84/84 - 41s - loss: 1.8213 - accuracy: 0.4711 - 41s/epoch - 492ms/step\n",
            "Epoch 12/50\n",
            "84/84 - 42s - loss: 1.7802 - accuracy: 0.4821 - 42s/epoch - 497ms/step\n",
            "Epoch 13/50\n",
            "84/84 - 42s - loss: 1.7461 - accuracy: 0.4919 - 42s/epoch - 499ms/step\n",
            "Epoch 14/50\n",
            "84/84 - 41s - loss: 1.7090 - accuracy: 0.5022 - 41s/epoch - 491ms/step\n",
            "Epoch 15/50\n",
            "84/84 - 41s - loss: 1.6777 - accuracy: 0.5111 - 41s/epoch - 492ms/step\n",
            "Epoch 16/50\n",
            "84/84 - 41s - loss: 1.6456 - accuracy: 0.5193 - 41s/epoch - 494ms/step\n",
            "Epoch 17/50\n",
            "84/84 - 42s - loss: 1.6165 - accuracy: 0.5259 - 42s/epoch - 504ms/step\n",
            "Epoch 18/50\n",
            "84/84 - 42s - loss: 1.5895 - accuracy: 0.5327 - 42s/epoch - 503ms/step\n",
            "Epoch 19/50\n",
            "84/84 - 42s - loss: 1.5595 - accuracy: 0.5409 - 42s/epoch - 502ms/step\n",
            "Epoch 20/50\n",
            "84/84 - 42s - loss: 1.5327 - accuracy: 0.5479 - 42s/epoch - 501ms/step\n",
            "Epoch 21/50\n",
            "84/84 - 42s - loss: 1.5040 - accuracy: 0.5552 - 42s/epoch - 501ms/step\n",
            "Epoch 22/50\n",
            "84/84 - 43s - loss: 1.4783 - accuracy: 0.5615 - 43s/epoch - 510ms/step\n",
            "Epoch 23/50\n",
            "84/84 - 46s - loss: 1.4526 - accuracy: 0.5688 - 46s/epoch - 546ms/step\n",
            "Epoch 24/50\n",
            "84/84 - 52s - loss: 1.4279 - accuracy: 0.5764 - 52s/epoch - 620ms/step\n",
            "Epoch 25/50\n",
            "84/84 - 59s - loss: 1.4008 - accuracy: 0.5843 - 59s/epoch - 703ms/step\n",
            "Epoch 26/50\n",
            "84/84 - 50s - loss: 1.3764 - accuracy: 0.5919 - 50s/epoch - 594ms/step\n",
            "Epoch 27/50\n",
            "84/84 - 43s - loss: 1.3553 - accuracy: 0.5971 - 43s/epoch - 516ms/step\n",
            "Epoch 28/50\n",
            "84/84 - 54s - loss: 1.3272 - accuracy: 0.6041 - 54s/epoch - 646ms/step\n",
            "Epoch 29/50\n",
            "84/84 - 46s - loss: 1.3010 - accuracy: 0.6117 - 46s/epoch - 551ms/step\n",
            "Epoch 30/50\n",
            "84/84 - 54s - loss: 1.2792 - accuracy: 0.6177 - 54s/epoch - 644ms/step\n",
            "Epoch 31/50\n",
            "84/84 - 48s - loss: 1.2535 - accuracy: 0.6258 - 48s/epoch - 573ms/step\n",
            "Epoch 32/50\n",
            "84/84 - 53s - loss: 1.2290 - accuracy: 0.6324 - 53s/epoch - 634ms/step\n",
            "Epoch 33/50\n",
            "84/84 - 46s - loss: 1.2019 - accuracy: 0.6409 - 46s/epoch - 552ms/step\n",
            "Epoch 34/50\n",
            "84/84 - 52s - loss: 1.1802 - accuracy: 0.6473 - 52s/epoch - 614ms/step\n",
            "Epoch 35/50\n",
            "84/84 - 57s - loss: 1.1521 - accuracy: 0.6557 - 57s/epoch - 676ms/step\n",
            "Epoch 36/50\n",
            "84/84 - 55s - loss: 1.1291 - accuracy: 0.6623 - 55s/epoch - 651ms/step\n",
            "Epoch 37/50\n",
            "84/84 - 42s - loss: 1.1030 - accuracy: 0.6702 - 42s/epoch - 501ms/step\n",
            "Epoch 38/50\n",
            "84/84 - 42s - loss: 1.0769 - accuracy: 0.6779 - 42s/epoch - 497ms/step\n",
            "Epoch 39/50\n",
            "84/84 - 43s - loss: 1.0475 - accuracy: 0.6857 - 43s/epoch - 506ms/step\n",
            "Epoch 40/50\n",
            "84/84 - 42s - loss: 1.0288 - accuracy: 0.6911 - 42s/epoch - 503ms/step\n",
            "Epoch 41/50\n",
            "84/84 - 42s - loss: 0.9944 - accuracy: 0.7035 - 42s/epoch - 506ms/step\n",
            "Epoch 42/50\n",
            "84/84 - 43s - loss: 0.9699 - accuracy: 0.7110 - 43s/epoch - 508ms/step\n",
            "Epoch 43/50\n",
            "84/84 - 49s - loss: 0.9500 - accuracy: 0.7152 - 49s/epoch - 579ms/step\n",
            "Epoch 44/50\n",
            "84/84 - 54s - loss: 0.9206 - accuracy: 0.7251 - 54s/epoch - 640ms/step\n",
            "Epoch 45/50\n",
            "84/84 - 44s - loss: 0.8990 - accuracy: 0.7316 - 44s/epoch - 523ms/step\n",
            "Epoch 46/50\n",
            "84/84 - 52s - loss: 0.8705 - accuracy: 0.7410 - 52s/epoch - 623ms/step\n",
            "Epoch 47/50\n",
            "84/84 - 47s - loss: 0.8413 - accuracy: 0.7492 - 47s/epoch - 558ms/step\n",
            "Epoch 48/50\n",
            "84/84 - 57s - loss: 0.8184 - accuracy: 0.7572 - 57s/epoch - 677ms/step\n",
            "Epoch 49/50\n",
            "84/84 - 53s - loss: 0.7944 - accuracy: 0.7647 - 53s/epoch - 629ms/step\n",
            "Epoch 50/50\n",
            "84/84 - 50s - loss: 0.7708 - accuracy: 0.7727 - 50s/epoch - 600ms/step\n"
          ]
        },
        {
          "output_type": "execute_result",
          "data": {
            "text/plain": [
              "<keras.callbacks.History at 0x7f93e12117f0>"
            ]
          },
          "metadata": {},
          "execution_count": 17
        }
      ]
    },
    {
      "cell_type": "code",
      "source": [
        "def sentence_generation(model, length):\n",
        "  # 문자에 대한 random한 정수 생성\n",
        "  ix = [np.random.randint(vocab_size)]\n",
        "\n",
        "  # random한 정수로부터 mapping되는 문자 생성\n",
        "  y_char = [index_to_char[ix[-1]]]\n",
        "  print(ix[-1], '번 문자', y_char[-1], '로 예측을 시작!')\n",
        "\n",
        "  # (1, length, 55) 크기의 X 생성. 즉, LSTM의 입력 시퀀스 생성\n",
        "  X = np.zeros((1, length, vocab_size))\n",
        "\n",
        "  for i in range(length):\n",
        "    # X[0][i][예측한 문자의 인덱스] = 1, 즉, 예측 문자를 다음 입력 시퀀스에 추가\n",
        "    X[0][i][ix[-1]] = 1\n",
        "    print(index_to_char[ix[-1]], end=\"\")\n",
        "    ix = np.argmax(model.predict(X[:, :i+1, :])[0], 1)\n",
        "    y_char.append(index_to_char[ix[-1]])\n",
        "\n",
        "  return (' ').join(y_char)\n",
        "\n",
        "result = sentence_generation(model, 100)\n",
        "print(result)                           \n"
      ],
      "metadata": {
        "colab": {
          "base_uri": "https://localhost:8080/"
        },
        "id": "M01U5K2G0nnn",
        "outputId": "f6e3015f-de9a-4d02-f2df-a6f8a62d5651"
      },
      "execution_count": 18,
      "outputs": [
        {
          "output_type": "stream",
          "name": "stdout",
          "text": [
            "27 번 문자 [ 로 예측을 시작!\n",
            "1/1 [==============================] - 1s 1s/step\n",
            "1/1 [==============================] - 1s 1s/step\n",
            "1/1 [==============================] - 0s 37ms/step\n",
            "1/1 [==============================] - 0s 40ms/step\n",
            "1/1 [==============================] - 0s 41ms/step\n",
            "1/1 [==============================] - 0s 43ms/step\n",
            "1/1 [==============================] - 0s 41ms/step\n",
            "1/1 [==============================] - 0s 38ms/step\n",
            "1/1 [==============================] - 0s 49ms/step\n",
            "1/1 [==============================] - 0s 48ms/step\n",
            "1/1 [==============================] - 0s 51ms/step\n",
            "1/1 [==============================] - 0s 44ms/step\n",
            "1/1 [==============================] - 0s 46ms/step\n",
            "1/1 [==============================] - 0s 49ms/step\n",
            "1/1 [==============================] - 0s 45ms/step\n",
            "1/1 [==============================] - 0s 42ms/step\n",
            "1/1 [==============================] - 0s 43ms/step\n",
            "1/1 [==============================] - 0s 34ms/step\n",
            "1/1 [==============================] - 0s 33ms/step\n",
            "1/1 [==============================] - 0s 37ms/step\n",
            "1/1 [==============================] - 0s 30ms/step\n",
            "1/1 [==============================] - 0s 30ms/step\n",
            "1/1 [==============================] - 0s 30ms/step\n",
            "1/1 [==============================] - 0s 33ms/step\n",
            "1/1 [==============================] - 0s 39ms/step\n",
            "1/1 [==============================] - 0s 33ms/step\n",
            "1/1 [==============================] - 0s 32ms/step\n",
            "1/1 [==============================] - 0s 33ms/step\n",
            "1/1 [==============================] - 0s 42ms/step\n",
            "1/1 [==============================] - 0s 39ms/step\n",
            "1/1 [==============================] - 0s 38ms/step\n",
            "1/1 [==============================] - 0s 33ms/step\n",
            "1/1 [==============================] - 0s 51ms/step\n",
            "1/1 [==============================] - 0s 42ms/step\n",
            "1/1 [==============================] - 0s 35ms/step\n",
            "1/1 [==============================] - 0s 152ms/step\n",
            "1/1 [==============================] - 0s 34ms/step\n",
            "1/1 [==============================] - 0s 61ms/step\n",
            "1/1 [==============================] - 0s 58ms/step\n",
            "1/1 [==============================] - 0s 46ms/step\n",
            "1/1 [==============================] - 0s 43ms/step\n",
            "1/1 [==============================] - 0s 40ms/step\n",
            "1/1 [==============================] - 0s 62ms/step\n",
            "1/1 [==============================] - 0s 115ms/step\n",
            "1/1 [==============================] - 0s 47ms/step\n",
            "1/1 [==============================] - 0s 53ms/step\n",
            "1/1 [==============================] - 0s 43ms/step\n",
            "1/1 [==============================] - 0s 40ms/step\n",
            "1/1 [==============================] - 0s 93ms/step\n",
            "1/1 [==============================] - 0s 41ms/step\n",
            "1/1 [==============================] - 0s 103ms/step\n",
            "1/1 [==============================] - 0s 41ms/step\n",
            "1/1 [==============================] - 0s 69ms/step\n",
            "1/1 [==============================] - 0s 116ms/step\n",
            "1/1 [==============================] - 0s 61ms/step\n",
            "1/1 [==============================] - 0s 46ms/step\n",
            "1/1 [==============================] - 0s 94ms/step\n",
            "1/1 [==============================] - 0s 47ms/step\n",
            "1/1 [==============================] - 0s 44ms/step\n",
            "1/1 [==============================] - 0s 57ms/step\n",
            "1/1 [==============================] - 0s 45ms/step\n",
            "1/1 [==============================] - 0s 47ms/step\n",
            "1/1 [==============================] - 0s 48ms/step\n",
            "1/1 [==============================] - 0s 43ms/step\n",
            "1/1 [==============================] - 0s 46ms/step\n",
            "1/1 [==============================] - 0s 51ms/step\n",
            "1/1 [==============================] - 0s 51ms/step\n",
            "1/1 [==============================] - 0s 84ms/step\n",
            "1/1 [==============================] - 0s 109ms/step\n",
            "1/1 [==============================] - 0s 44ms/step\n",
            "1/1 [==============================] - 0s 58ms/step\n",
            "1/1 [==============================] - 0s 49ms/step\n",
            "1/1 [==============================] - 0s 50ms/step\n",
            "1/1 [==============================] - 0s 49ms/step\n",
            "1/1 [==============================] - 0s 49ms/step\n",
            "1/1 [==============================] - 0s 46ms/step\n",
            "1/1 [==============================] - 0s 62ms/step\n",
            "1/1 [==============================] - 0s 62ms/step\n",
            "1/1 [==============================] - 0s 76ms/step\n",
            "1/1 [==============================] - 0s 140ms/step\n",
            "1/1 [==============================] - 0s 47ms/step\n",
            "1/1 [==============================] - 0s 58ms/step\n",
            "1/1 [==============================] - 0s 54ms/step\n",
            "1/1 [==============================] - 0s 125ms/step\n",
            "1/1 [==============================] - 0s 57ms/step\n",
            "1/1 [==============================] - 0s 55ms/step\n",
            "1/1 [==============================] - 0s 59ms/step\n",
            "1/1 [==============================] - 0s 87ms/step\n",
            "1/1 [==============================] - 0s 56ms/step\n",
            "1/1 [==============================] - 0s 62ms/step\n",
            "1/1 [==============================] - 0s 59ms/step\n",
            "1/1 [==============================] - 0s 57ms/step\n",
            "1/1 [==============================] - 0s 70ms/step\n",
            "1/1 [==============================] - 0s 60ms/step\n",
            "1/1 [==============================] - 0s 151ms/step\n",
            "1/1 [==============================] - 0s 60ms/step\n",
            "1/1 [==============================] - 0s 91ms/step\n",
            "1/1 [==============================] - 0s 143ms/step\n",
            "1/1 [==============================] - 0s 121ms/step\n",
            "1/1 [==============================] - 0s 79ms/step\n",
            "[ l i c e   s u r p o n t   a t   t h e   p r o j e c t   g u t e n b e r g   l i t e r a r y   a r c h i v e   f o u n d a t i o n   a r e   t e a   u p   t o o   t h e   d i s t a n c e ,   t h e   m\n"
          ]
        }
      ]
    },
    {
      "cell_type": "markdown",
      "source": [
        "2. 문자 단위 RNN(Char RNN)으로 텍스트 생성하기 \n",
        "\n",
        "1) 데이터에 대한 이해와 전처리 "
      ],
      "metadata": {
        "id": "0D_5QSFyAsKm"
      }
    },
    {
      "cell_type": "code",
      "source": [
        "import numpy as np \n",
        "from tensorflow.keras.utils import to_categorical\n",
        "\n",
        "raw_text = '''\n",
        "I get on with life as a programmer,\n",
        "I like to contemplate beer.\n",
        "But when I start to daydream,\n",
        "My mind turns straight to wine.\n",
        "Do I love wine more than beer?\n",
        "\n",
        "I like to use words about beer.\n",
        "But when I stop my talking,\n",
        "My mind turns straight to wine.\n",
        "\n",
        "I hate bugs and errors.\n",
        "But I just think back to wine,\n",
        "And I'm happy once again.\n",
        "\n",
        "I like to hang out with programming and deep learning.\n",
        "But when left alone,\n",
        "My mind turns straight to wine.\n",
        "'''"
      ],
      "metadata": {
        "id": "jEAir_aw0np9"
      },
      "execution_count": 20,
      "outputs": []
    },
    {
      "cell_type": "code",
      "source": [
        "tokens = raw_text.split()\n",
        "raw_text = ' '.join(tokens)\n",
        "\n",
        "print(raw_text)"
      ],
      "metadata": {
        "colab": {
          "base_uri": "https://localhost:8080/"
        },
        "id": "cR7SCSplBmlJ",
        "outputId": "392f4540-d870-4e1a-d4c0-f57f34dd4f21"
      },
      "execution_count": 21,
      "outputs": [
        {
          "output_type": "stream",
          "name": "stdout",
          "text": [
            "I get on with life as a programmer, I like to contemplate beer. But when I start to daydream, My mind turns straight to wine. Do I love wine more than beer? I like to use words about beer. But when I stop my talking, My mind turns straight to wine. I hate bugs and errors. But I just think back to wine, And I'm happy once again. I like to hang out with programming and deep learning. But when left alone, My mind turns straight to wine.\n"
          ]
        }
      ]
    },
    {
      "cell_type": "code",
      "source": [
        "# 중복을 제거한 문자 집합 생성\n",
        "char_vocab = sorted(list(set(raw_text)))\n",
        "vocab_size = len(char_vocab)\n",
        "\n",
        "print('문자 집합:', char_vocab)\n",
        "print('문자 집합의 크기: {}'.format(vocab_size))"
      ],
      "metadata": {
        "colab": {
          "base_uri": "https://localhost:8080/"
        },
        "id": "swBDGZ17Bmq3",
        "outputId": "dbc9e7ac-e151-4b57-93ae-7d3a87529fd5"
      },
      "execution_count": 22,
      "outputs": [
        {
          "output_type": "stream",
          "name": "stdout",
          "text": [
            "문자 집합: [' ', \"'\", ',', '.', '?', 'A', 'B', 'D', 'I', 'M', 'a', 'b', 'c', 'd', 'e', 'f', 'g', 'h', 'i', 'j', 'k', 'l', 'm', 'n', 'o', 'p', 'r', 's', 't', 'u', 'v', 'w', 'y']\n",
            "문자 집합의 크기: 33\n"
          ]
        }
      ]
    },
    {
      "cell_type": "code",
      "source": [
        "# 문자에 고유한 정수 인덱스 부여\n",
        "char_to_index = dict((char, index) for index, char in enumerate(char_vocab))\n",
        "print(char_to_index)"
      ],
      "metadata": {
        "colab": {
          "base_uri": "https://localhost:8080/"
        },
        "id": "KL_FrTErBmtP",
        "outputId": "a860c71f-40eb-49a3-a795-ae37d24a7111"
      },
      "execution_count": 23,
      "outputs": [
        {
          "output_type": "stream",
          "name": "stdout",
          "text": [
            "{' ': 0, \"'\": 1, ',': 2, '.': 3, '?': 4, 'A': 5, 'B': 6, 'D': 7, 'I': 8, 'M': 9, 'a': 10, 'b': 11, 'c': 12, 'd': 13, 'e': 14, 'f': 15, 'g': 16, 'h': 17, 'i': 18, 'j': 19, 'k': 20, 'l': 21, 'm': 22, 'n': 23, 'o': 24, 'p': 25, 'r': 26, 's': 27, 't': 28, 'u': 29, 'v': 30, 'w': 31, 'y': 32}\n"
          ]
        }
      ]
    },
    {
      "cell_type": "code",
      "source": [
        "length = 11     # 입력 시퀀스의 길이 \n",
        "sequences = []\n",
        "for i in range(length, len(raw_text)):\n",
        "  seq = raw_text[i-length:i]      # 길이 11의 문자열을 지속적으로 만듦 \n",
        "  sequences.append(seq)\n",
        "\n",
        "print('총 훈련 샘플의 수: %d' % len(sequences))"
      ],
      "metadata": {
        "colab": {
          "base_uri": "https://localhost:8080/"
        },
        "id": "eUent3_ADRfS",
        "outputId": "6eec026d-e7fb-417b-9493-c20c41f28f3f"
      },
      "execution_count": 24,
      "outputs": [
        {
          "output_type": "stream",
          "name": "stdout",
          "text": [
            "총 훈련 샘플의 수: 426\n"
          ]
        }
      ]
    },
    {
      "cell_type": "code",
      "source": [
        "sequences[:10]"
      ],
      "metadata": {
        "colab": {
          "base_uri": "https://localhost:8080/"
        },
        "id": "7mTal9ZnDRlz",
        "outputId": "5b316dd3-3f0d-4439-a81f-1f5e38c7be8b"
      },
      "execution_count": 25,
      "outputs": [
        {
          "output_type": "execute_result",
          "data": {
            "text/plain": [
              "['I get on wi',\n",
              " ' get on wit',\n",
              " 'get on with',\n",
              " 'et on with ',\n",
              " 't on with l',\n",
              " ' on with li',\n",
              " 'on with lif',\n",
              " 'n with life',\n",
              " ' with life ',\n",
              " 'with life a']"
            ]
          },
          "metadata": {},
          "execution_count": 25
        }
      ]
    },
    {
      "cell_type": "code",
      "source": [
        "encoded_sequences = []\n",
        "for sequence in sequences:     # 전체 데이터에서 문장 샘플을 1개씩 꺼냄 \n",
        " encoded_sequence = [char_to_index[char] for char in sequence]     # 문장 샘플에서 각 문자에 대해 정수 인코딩을 수행 \n",
        " encoded_sequences.append(encoded_sequence)"
      ],
      "metadata": {
        "id": "ZYjVTHOvDRoB"
      },
      "execution_count": 26,
      "outputs": []
    },
    {
      "cell_type": "code",
      "source": [
        "encoded_sequences[:5]"
      ],
      "metadata": {
        "colab": {
          "base_uri": "https://localhost:8080/"
        },
        "id": "zol5p9bpDRqb",
        "outputId": "a3f00626-06fc-4984-9296-6c1f3148077f"
      },
      "execution_count": 27,
      "outputs": [
        {
          "output_type": "execute_result",
          "data": {
            "text/plain": [
              "[[8, 0, 16, 14, 28, 0, 24, 23, 0, 31, 18],\n",
              " [0, 16, 14, 28, 0, 24, 23, 0, 31, 18, 28],\n",
              " [16, 14, 28, 0, 24, 23, 0, 31, 18, 28, 17],\n",
              " [14, 28, 0, 24, 23, 0, 31, 18, 28, 17, 0],\n",
              " [28, 0, 24, 23, 0, 31, 18, 28, 17, 0, 21]]"
            ]
          },
          "metadata": {},
          "execution_count": 27
        }
      ]
    },
    {
      "cell_type": "code",
      "source": [
        "encoded_sequences = np.array(encoded_sequences)\n",
        "\n",
        "# 맨 마지막 위치의 문자를 분리\n",
        "X_data = encoded_sequences[:, :-1]\n",
        "\n",
        "# 맨 마지막 위치의 문자를 저장\n",
        "y_data = encoded_sequences[:, -1]"
      ],
      "metadata": {
        "id": "f7ejtuOdDRtF"
      },
      "execution_count": 28,
      "outputs": []
    },
    {
      "cell_type": "code",
      "source": [
        "print(X_data[:5])\n",
        "print(y_data[:5])"
      ],
      "metadata": {
        "colab": {
          "base_uri": "https://localhost:8080/"
        },
        "id": "PVg9GtfC0nsF",
        "outputId": "d983d793-860c-46b1-a204-bcea76052ed8"
      },
      "execution_count": 29,
      "outputs": [
        {
          "output_type": "stream",
          "name": "stdout",
          "text": [
            "[[ 8  0 16 14 28  0 24 23  0 31]\n",
            " [ 0 16 14 28  0 24 23  0 31 18]\n",
            " [16 14 28  0 24 23  0 31 18 28]\n",
            " [14 28  0 24 23  0 31 18 28 17]\n",
            " [28  0 24 23  0 31 18 28 17  0]]\n",
            "[18 28 17  0 21]\n"
          ]
        }
      ]
    },
    {
      "cell_type": "code",
      "source": [
        "# 원-핫 인코딩\n",
        "X_data_one_hot = [to_categorical(encoded, num_classes = vocab_size) for encoded in X_data]\n",
        "X_data_one_hot = np.array(X_data_one_hot)\n",
        "y_data_one_hot = to_categorical(y_data, num_classes = vocab_size)"
      ],
      "metadata": {
        "id": "oEvIZjizFLSr"
      },
      "execution_count": 30,
      "outputs": []
    },
    {
      "cell_type": "code",
      "source": [
        "print(X_data_one_hot.shape)"
      ],
      "metadata": {
        "colab": {
          "base_uri": "https://localhost:8080/"
        },
        "id": "3uk1WW6TFLVV",
        "outputId": "f9975129-550f-48e9-d62f-fff5dac2fd4f"
      },
      "execution_count": 31,
      "outputs": [
        {
          "output_type": "stream",
          "name": "stdout",
          "text": [
            "(426, 10, 33)\n"
          ]
        }
      ]
    },
    {
      "cell_type": "markdown",
      "source": [
        "- 샘플의 수(No. of samples): 426개\n",
        "- 입력 시퀀스의 길이(input_length): 10개\n",
        "- 각 벡터의 차원(input_dim): 33개"
      ],
      "metadata": {
        "id": "6y7ALBTaFoAL"
      }
    },
    {
      "cell_type": "markdown",
      "source": [
        "2) 모델 설계하기 "
      ],
      "metadata": {
        "id": "glkJ0kJ0GvrK"
      }
    },
    {
      "cell_type": "code",
      "source": [
        "from tensorflow.keras.models import Sequential\n",
        "from tensorflow.keras.layers import Dense, LSTM\n",
        "from tensorflow.keras.preprocessing.sequence import pad_sequences\n",
        "\n",
        "hidden_units = 64\n",
        "\n",
        "model = Sequential()\n",
        "model.add(LSTM(hidden_units, input_shape=(X_data_one_hot.shape[1],\n",
        "                                          X_data_one_hot.shape[2])))\n",
        "model.add(Dense(vocab_size, activation = 'softmax'))\n",
        "model.compile(loss = 'categorical_crossentropy', optimizer = 'adam', metrics = ['accuracy'])\n",
        "model.fit(X_data_one_hot, y_data_one_hot, epochs = 100, verbose = 2)"
      ],
      "metadata": {
        "colab": {
          "base_uri": "https://localhost:8080/"
        },
        "id": "Hm8DwDx0FLX2",
        "outputId": "6ac0b2db-1844-4be7-a1c7-3c49c9ba69fe"
      },
      "execution_count": 35,
      "outputs": [
        {
          "output_type": "stream",
          "name": "stdout",
          "text": [
            "Epoch 1/100\n",
            "14/14 - 3s - loss: 3.4731 - accuracy: 0.0986 - 3s/epoch - 210ms/step\n",
            "Epoch 2/100\n",
            "14/14 - 0s - loss: 3.3738 - accuracy: 0.1972 - 156ms/epoch - 11ms/step\n",
            "Epoch 3/100\n",
            "14/14 - 0s - loss: 3.1330 - accuracy: 0.1972 - 160ms/epoch - 11ms/step\n",
            "Epoch 4/100\n",
            "14/14 - 0s - loss: 3.0032 - accuracy: 0.1972 - 158ms/epoch - 11ms/step\n",
            "Epoch 5/100\n",
            "14/14 - 0s - loss: 2.9644 - accuracy: 0.1972 - 163ms/epoch - 12ms/step\n",
            "Epoch 6/100\n",
            "14/14 - 0s - loss: 2.9455 - accuracy: 0.1972 - 160ms/epoch - 11ms/step\n",
            "Epoch 7/100\n",
            "14/14 - 0s - loss: 2.9275 - accuracy: 0.1972 - 170ms/epoch - 12ms/step\n",
            "Epoch 8/100\n",
            "14/14 - 0s - loss: 2.9127 - accuracy: 0.1972 - 154ms/epoch - 11ms/step\n",
            "Epoch 9/100\n",
            "14/14 - 0s - loss: 2.8950 - accuracy: 0.1972 - 163ms/epoch - 12ms/step\n",
            "Epoch 10/100\n",
            "14/14 - 0s - loss: 2.8805 - accuracy: 0.1972 - 135ms/epoch - 10ms/step\n",
            "Epoch 11/100\n",
            "14/14 - 0s - loss: 2.8616 - accuracy: 0.1972 - 101ms/epoch - 7ms/step\n",
            "Epoch 12/100\n",
            "14/14 - 0s - loss: 2.8406 - accuracy: 0.1972 - 94ms/epoch - 7ms/step\n",
            "Epoch 13/100\n",
            "14/14 - 0s - loss: 2.8109 - accuracy: 0.1972 - 92ms/epoch - 7ms/step\n",
            "Epoch 14/100\n",
            "14/14 - 0s - loss: 2.7831 - accuracy: 0.1972 - 123ms/epoch - 9ms/step\n",
            "Epoch 15/100\n",
            "14/14 - 0s - loss: 2.7491 - accuracy: 0.1972 - 116ms/epoch - 8ms/step\n",
            "Epoch 16/100\n",
            "14/14 - 0s - loss: 2.7135 - accuracy: 0.1995 - 119ms/epoch - 9ms/step\n",
            "Epoch 17/100\n",
            "14/14 - 0s - loss: 2.6771 - accuracy: 0.2136 - 123ms/epoch - 9ms/step\n",
            "Epoch 18/100\n",
            "14/14 - 0s - loss: 2.6411 - accuracy: 0.2207 - 119ms/epoch - 9ms/step\n",
            "Epoch 19/100\n",
            "14/14 - 0s - loss: 2.6108 - accuracy: 0.2512 - 112ms/epoch - 8ms/step\n",
            "Epoch 20/100\n",
            "14/14 - 0s - loss: 2.5592 - accuracy: 0.2324 - 121ms/epoch - 9ms/step\n",
            "Epoch 21/100\n",
            "14/14 - 0s - loss: 2.5380 - accuracy: 0.2700 - 113ms/epoch - 8ms/step\n",
            "Epoch 22/100\n",
            "14/14 - 0s - loss: 2.4695 - accuracy: 0.2676 - 114ms/epoch - 8ms/step\n",
            "Epoch 23/100\n",
            "14/14 - 0s - loss: 2.4325 - accuracy: 0.2817 - 97ms/epoch - 7ms/step\n",
            "Epoch 24/100\n",
            "14/14 - 0s - loss: 2.3887 - accuracy: 0.3005 - 99ms/epoch - 7ms/step\n",
            "Epoch 25/100\n",
            "14/14 - 0s - loss: 2.3451 - accuracy: 0.3216 - 99ms/epoch - 7ms/step\n",
            "Epoch 26/100\n",
            "14/14 - 0s - loss: 2.3140 - accuracy: 0.3146 - 95ms/epoch - 7ms/step\n",
            "Epoch 27/100\n",
            "14/14 - 0s - loss: 2.2547 - accuracy: 0.3615 - 99ms/epoch - 7ms/step\n",
            "Epoch 28/100\n",
            "14/14 - 0s - loss: 2.2080 - accuracy: 0.3638 - 106ms/epoch - 8ms/step\n",
            "Epoch 29/100\n",
            "14/14 - 0s - loss: 2.1830 - accuracy: 0.3685 - 97ms/epoch - 7ms/step\n",
            "Epoch 30/100\n",
            "14/14 - 0s - loss: 2.1569 - accuracy: 0.3850 - 106ms/epoch - 8ms/step\n",
            "Epoch 31/100\n",
            "14/14 - 0s - loss: 2.1173 - accuracy: 0.3967 - 96ms/epoch - 7ms/step\n",
            "Epoch 32/100\n",
            "14/14 - 0s - loss: 2.0551 - accuracy: 0.4202 - 109ms/epoch - 8ms/step\n",
            "Epoch 33/100\n",
            "14/14 - 0s - loss: 2.0267 - accuracy: 0.4155 - 102ms/epoch - 7ms/step\n",
            "Epoch 34/100\n",
            "14/14 - 0s - loss: 1.9754 - accuracy: 0.4577 - 96ms/epoch - 7ms/step\n",
            "Epoch 35/100\n",
            "14/14 - 0s - loss: 1.9417 - accuracy: 0.4531 - 97ms/epoch - 7ms/step\n",
            "Epoch 36/100\n",
            "14/14 - 0s - loss: 1.8822 - accuracy: 0.4812 - 104ms/epoch - 7ms/step\n",
            "Epoch 37/100\n",
            "14/14 - 0s - loss: 1.8522 - accuracy: 0.4789 - 95ms/epoch - 7ms/step\n",
            "Epoch 38/100\n",
            "14/14 - 0s - loss: 1.8304 - accuracy: 0.4953 - 98ms/epoch - 7ms/step\n",
            "Epoch 39/100\n",
            "14/14 - 0s - loss: 1.7676 - accuracy: 0.5141 - 99ms/epoch - 7ms/step\n",
            "Epoch 40/100\n",
            "14/14 - 0s - loss: 1.7653 - accuracy: 0.5329 - 99ms/epoch - 7ms/step\n",
            "Epoch 41/100\n",
            "14/14 - 0s - loss: 1.6906 - accuracy: 0.5587 - 100ms/epoch - 7ms/step\n",
            "Epoch 42/100\n",
            "14/14 - 0s - loss: 1.6519 - accuracy: 0.5493 - 116ms/epoch - 8ms/step\n",
            "Epoch 43/100\n",
            "14/14 - 0s - loss: 1.6191 - accuracy: 0.5845 - 100ms/epoch - 7ms/step\n",
            "Epoch 44/100\n",
            "14/14 - 0s - loss: 1.5814 - accuracy: 0.6103 - 99ms/epoch - 7ms/step\n",
            "Epoch 45/100\n",
            "14/14 - 0s - loss: 1.5320 - accuracy: 0.5986 - 107ms/epoch - 8ms/step\n",
            "Epoch 46/100\n",
            "14/14 - 0s - loss: 1.5116 - accuracy: 0.6009 - 99ms/epoch - 7ms/step\n",
            "Epoch 47/100\n",
            "14/14 - 0s - loss: 1.4592 - accuracy: 0.6174 - 98ms/epoch - 7ms/step\n",
            "Epoch 48/100\n",
            "14/14 - 0s - loss: 1.4251 - accuracy: 0.6338 - 108ms/epoch - 8ms/step\n",
            "Epoch 49/100\n",
            "14/14 - 0s - loss: 1.3849 - accuracy: 0.6432 - 106ms/epoch - 8ms/step\n",
            "Epoch 50/100\n",
            "14/14 - 0s - loss: 1.3526 - accuracy: 0.6714 - 101ms/epoch - 7ms/step\n",
            "Epoch 51/100\n",
            "14/14 - 0s - loss: 1.3100 - accuracy: 0.6667 - 121ms/epoch - 9ms/step\n",
            "Epoch 52/100\n",
            "14/14 - 0s - loss: 1.2639 - accuracy: 0.6925 - 101ms/epoch - 7ms/step\n",
            "Epoch 53/100\n",
            "14/14 - 0s - loss: 1.2296 - accuracy: 0.6948 - 103ms/epoch - 7ms/step\n",
            "Epoch 54/100\n",
            "14/14 - 0s - loss: 1.1990 - accuracy: 0.7254 - 114ms/epoch - 8ms/step\n",
            "Epoch 55/100\n",
            "14/14 - 0s - loss: 1.1686 - accuracy: 0.7277 - 108ms/epoch - 8ms/step\n",
            "Epoch 56/100\n",
            "14/14 - 0s - loss: 1.1276 - accuracy: 0.7488 - 102ms/epoch - 7ms/step\n",
            "Epoch 57/100\n",
            "14/14 - 0s - loss: 1.0934 - accuracy: 0.7418 - 108ms/epoch - 8ms/step\n",
            "Epoch 58/100\n",
            "14/14 - 0s - loss: 1.0707 - accuracy: 0.7582 - 115ms/epoch - 8ms/step\n",
            "Epoch 59/100\n",
            "14/14 - 0s - loss: 1.0430 - accuracy: 0.7770 - 104ms/epoch - 7ms/step\n",
            "Epoch 60/100\n",
            "14/14 - 0s - loss: 1.0425 - accuracy: 0.7559 - 125ms/epoch - 9ms/step\n",
            "Epoch 61/100\n",
            "14/14 - 0s - loss: 0.9887 - accuracy: 0.7934 - 105ms/epoch - 7ms/step\n",
            "Epoch 62/100\n",
            "14/14 - 0s - loss: 0.9769 - accuracy: 0.7887 - 101ms/epoch - 7ms/step\n",
            "Epoch 63/100\n",
            "14/14 - 0s - loss: 0.9169 - accuracy: 0.8028 - 101ms/epoch - 7ms/step\n",
            "Epoch 64/100\n",
            "14/14 - 0s - loss: 0.9027 - accuracy: 0.8146 - 109ms/epoch - 8ms/step\n",
            "Epoch 65/100\n",
            "14/14 - 0s - loss: 0.8569 - accuracy: 0.8216 - 101ms/epoch - 7ms/step\n",
            "Epoch 66/100\n",
            "14/14 - 0s - loss: 0.8379 - accuracy: 0.8099 - 101ms/epoch - 7ms/step\n",
            "Epoch 67/100\n",
            "14/14 - 0s - loss: 0.8163 - accuracy: 0.8357 - 111ms/epoch - 8ms/step\n",
            "Epoch 68/100\n",
            "14/14 - 0s - loss: 0.7873 - accuracy: 0.8498 - 104ms/epoch - 7ms/step\n",
            "Epoch 69/100\n",
            "14/14 - 0s - loss: 0.7741 - accuracy: 0.8333 - 117ms/epoch - 8ms/step\n",
            "Epoch 70/100\n",
            "14/14 - 0s - loss: 0.7642 - accuracy: 0.8474 - 111ms/epoch - 8ms/step\n",
            "Epoch 71/100\n",
            "14/14 - 0s - loss: 0.7229 - accuracy: 0.8709 - 102ms/epoch - 7ms/step\n",
            "Epoch 72/100\n",
            "14/14 - 0s - loss: 0.7028 - accuracy: 0.8685 - 104ms/epoch - 7ms/step\n",
            "Epoch 73/100\n",
            "14/14 - 0s - loss: 0.6792 - accuracy: 0.8826 - 109ms/epoch - 8ms/step\n",
            "Epoch 74/100\n",
            "14/14 - 0s - loss: 0.6461 - accuracy: 0.8709 - 100ms/epoch - 7ms/step\n",
            "Epoch 75/100\n",
            "14/14 - 0s - loss: 0.6332 - accuracy: 0.8991 - 104ms/epoch - 7ms/step\n",
            "Epoch 76/100\n",
            "14/14 - 0s - loss: 0.6136 - accuracy: 0.9014 - 120ms/epoch - 9ms/step\n",
            "Epoch 77/100\n",
            "14/14 - 0s - loss: 0.5949 - accuracy: 0.8920 - 97ms/epoch - 7ms/step\n",
            "Epoch 78/100\n",
            "14/14 - 0s - loss: 0.5761 - accuracy: 0.9202 - 107ms/epoch - 8ms/step\n",
            "Epoch 79/100\n",
            "14/14 - 0s - loss: 0.5549 - accuracy: 0.9131 - 111ms/epoch - 8ms/step\n",
            "Epoch 80/100\n",
            "14/14 - 0s - loss: 0.5372 - accuracy: 0.9085 - 100ms/epoch - 7ms/step\n",
            "Epoch 81/100\n",
            "14/14 - 0s - loss: 0.5240 - accuracy: 0.9249 - 98ms/epoch - 7ms/step\n",
            "Epoch 82/100\n",
            "14/14 - 0s - loss: 0.5003 - accuracy: 0.9296 - 98ms/epoch - 7ms/step\n",
            "Epoch 83/100\n",
            "14/14 - 0s - loss: 0.5005 - accuracy: 0.9272 - 101ms/epoch - 7ms/step\n",
            "Epoch 84/100\n",
            "14/14 - 0s - loss: 0.4748 - accuracy: 0.9249 - 101ms/epoch - 7ms/step\n",
            "Epoch 85/100\n",
            "14/14 - 0s - loss: 0.4498 - accuracy: 0.9413 - 125ms/epoch - 9ms/step\n",
            "Epoch 86/100\n",
            "14/14 - 0s - loss: 0.4411 - accuracy: 0.9460 - 106ms/epoch - 8ms/step\n",
            "Epoch 87/100\n",
            "14/14 - 0s - loss: 0.4351 - accuracy: 0.9413 - 105ms/epoch - 7ms/step\n",
            "Epoch 88/100\n",
            "14/14 - 0s - loss: 0.4204 - accuracy: 0.9531 - 123ms/epoch - 9ms/step\n",
            "Epoch 89/100\n",
            "14/14 - 0s - loss: 0.3949 - accuracy: 0.9507 - 104ms/epoch - 7ms/step\n",
            "Epoch 90/100\n",
            "14/14 - 0s - loss: 0.3880 - accuracy: 0.9507 - 106ms/epoch - 8ms/step\n",
            "Epoch 91/100\n",
            "14/14 - 0s - loss: 0.3752 - accuracy: 0.9718 - 113ms/epoch - 8ms/step\n",
            "Epoch 92/100\n",
            "14/14 - 0s - loss: 0.3719 - accuracy: 0.9601 - 104ms/epoch - 7ms/step\n",
            "Epoch 93/100\n",
            "14/14 - 0s - loss: 0.3529 - accuracy: 0.9671 - 103ms/epoch - 7ms/step\n",
            "Epoch 94/100\n",
            "14/14 - 0s - loss: 0.3482 - accuracy: 0.9742 - 106ms/epoch - 8ms/step\n",
            "Epoch 95/100\n",
            "14/14 - 0s - loss: 0.3487 - accuracy: 0.9601 - 99ms/epoch - 7ms/step\n",
            "Epoch 96/100\n",
            "14/14 - 0s - loss: 0.3378 - accuracy: 0.9718 - 113ms/epoch - 8ms/step\n",
            "Epoch 97/100\n",
            "14/14 - 0s - loss: 0.3159 - accuracy: 0.9789 - 109ms/epoch - 8ms/step\n",
            "Epoch 98/100\n",
            "14/14 - 0s - loss: 0.3021 - accuracy: 0.9718 - 100ms/epoch - 7ms/step\n",
            "Epoch 99/100\n",
            "14/14 - 0s - loss: 0.2946 - accuracy: 0.9742 - 101ms/epoch - 7ms/step\n",
            "Epoch 100/100\n",
            "14/14 - 0s - loss: 0.2964 - accuracy: 0.9671 - 112ms/epoch - 8ms/step\n"
          ]
        },
        {
          "output_type": "execute_result",
          "data": {
            "text/plain": [
              "<keras.callbacks.History at 0x7f93e162d340>"
            ]
          },
          "metadata": {},
          "execution_count": 35
        }
      ]
    },
    {
      "cell_type": "code",
      "source": [
        "def sentence_generation(model, char_to_index, seq_length, seed_text, n):\n",
        "  # 초기 시퀀스\n",
        "  init_text = seed_text\n",
        "  sentence = ' '\n",
        "\n",
        "  # 다음 문자 예측은 총 n번만 반복\n",
        "  for _ in range(n):\n",
        "    # 현재 시퀀스에 대한 정수 인코딩 \n",
        "    encoded = [char_to_index[char] for char in seed_text] \n",
        "    # 데이터에 대한 패딩\n",
        "    encoded = pad_sequences([encoded], maxlen = seq_length, padding = 'pre')\n",
        "    encoded = to_categorical(encoded, num_classes = len(char_to_index))\n",
        "    result = model.predict(encoded, verbose = 0)\n",
        "    result = np.argmax(result, axis = 1)\n",
        "\n",
        "    for char, index in char_to_index.items():\n",
        "      if index == result:\n",
        "        break\n",
        "\n",
        "    # 현재 시퀀스 + 예측 문자를 현재 시퀀스로 변경\n",
        "    seed_text = seed_text + char\n",
        "\n",
        "    # 예측 문자를 문장에 저장\n",
        "    sentence = sentence + char\n",
        "\n",
        "  # n번의 다음 문자 예측이 끝나면 최종 완성된 문장을 리턴\n",
        "  sentence = init_text + sentence\n",
        "  return sentence\n",
        "\n",
        "print(sentence_generation(model, char_to_index, 10, 'I get on w', 80))    "
      ],
      "metadata": {
        "colab": {
          "base_uri": "https://localhost:8080/"
        },
        "id": "Jlpk-c-hFLai",
        "outputId": "28acba70-41fc-470e-a379-72c5769c761d"
      },
      "execution_count": 36,
      "outputs": [
        {
          "output_type": "stream",
          "name": "stdout",
          "text": [
            "I get on w ith life as a programmer, I like to contemplate beer. But when I stap mto aaenrr\n"
          ]
        }
      ]
    }
  ]
}