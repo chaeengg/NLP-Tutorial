{
  "nbformat": 4,
  "nbformat_minor": 0,
  "metadata": {
    "colab": {
      "provenance": [],
      "authorship_tag": "ABX9TyOzToIyrrMS/QjdboThVLft"
    },
    "kernelspec": {
      "name": "python3",
      "display_name": "Python 3"
    },
    "language_info": {
      "name": "python"
    }
  },
  "cells": [
    {
      "cell_type": "markdown",
      "source": [
        "# 01. 순환 신경망(Recurrent Neural Network, RNN)\n",
        "\n",
        "- 피드 포워드 신경망(Feed-Forward Neural Network, FFNN): 입력 길이가 고정되어 있어 자연어 처리를 위한 신경망으로는 한계가 있음\n",
        "\n",
        "- 순환 신경망\n",
        "   - 다양한 길이의 입력 시퀀스(Sequence) \n",
        "처리 가능 \n",
        "\n",
        "   - 바닐라 RNN, RNN, LSTM, GRU 등등"
      ],
      "metadata": {
        "id": "dc1Cbb21fhko"
      }
    },
    {
      "cell_type": "markdown",
      "source": [
        "1. 순환 신경망(Recurrent Neural Network, RNN)\n",
        "\n",
        "- 피드 포워드 신경망: 활성 함수 값들은 은닉층에서 출력층 방향으로만\n",
        "\n",
        "- RNN: 은닉층에서 출력층 방향으로, 은닉층 노드의 다음 계산 입력으로\n",
        "\n",
        "- 셀(cell)\n",
        "    - 활성 함수롤 통해 은닉층에서 결과를 내보내는 역할\n",
        "    - 이전의 값을 기억함 -> '메모리 셀' 이라고도 부름 \n",
        "    - t-1 시점의 값을 t 시점의 입력으로 사용 \n",
        "    - t+1 시점으로 보내는 값:  '은닉 상태(hidden state) \n",
        "\n",
        "- RNN: 입,출력 길이 다르게 설계 가능\n",
        "    - 일대다(one-to-many): 이미지 캡셔닝\n",
        "    - 다대일(many-to-one): 감성 분류, 스팸 메일 분류\n",
        "    - 다대다(many-to-many): 챗봇, 번역기, 개체명 인식, 품사 태깅\n",
        "\n",
        "-RNN 수식\n",
        "![image.png](data:image/png;base64,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)\n",
        "\n",
        "    - t 시점에서의 은닉 상태 값: ℎt\n",
        "    - 입력층을 위한 가중치: Wx\n",
        "    -  t-1시점에서의 은닉 상태 값: Wh\n",
        "    - 은닉층: ℎ𝑡 = 𝑡𝑎𝑛ℎ(𝑊𝑥𝑥𝑡 + 𝑊ℎℎ𝑡−1 + 𝑏)\n",
        "    - 출력층: 𝑦𝑡 = 𝑓(𝑊𝑦ℎ𝑡 + 𝑏) 단, 𝑓 는 비선형 활성화 함수 중 하나.\n",
        "\n",
        "    - ht를 계산하는 활성 함수: 하이퍼볼릭탄젠트 함수(tanh)\n",
        "    - 하나의 층에서의 가중치 값은 동일하게 공유하지만, 각각의 은닉층에서의 가중치 값은 서로 다름 "
      ],
      "metadata": {
        "id": "yiXitrFegLe3"
      }
    },
    {
      "cell_type": "markdown",
      "source": [
        "2. 케라스(Keras)로 RNN 구현하기 "
      ],
      "metadata": {
        "id": "xmF31_KPgLpJ"
      }
    },
    {
      "cell_type": "code",
      "source": [],
      "metadata": {
        "id": "mbhb0gCeXEMW"
      },
      "execution_count": null,
      "outputs": []
    },
    {
      "cell_type": "markdown",
      "source": [
        "RNN층 추가하기"
      ],
      "metadata": {
        "id": "SCQqk9aJnXR6"
      }
    },
    {
      "cell_type": "code",
      "source": [
        "from tensorflow.keras.layers import SimpleRNN\n",
        "\n",
        "model.add(SimpleRNN(hidden_units))"
      ],
      "metadata": {
        "id": "X7xKjeTMlE5d"
      },
      "execution_count": null,
      "outputs": []
    },
    {
      "cell_type": "code",
      "source": [
        "# 추가 인자 사용할 때 \n",
        "model.add(SimpleRNN(hidden_units, input_shape=(timesteps, input_dim)))\n",
        "\n",
        "# 다른 표기\n",
        "model.add(SimpleRNN(hidden_units, input_length=M, input_dim=N)) "
      ],
      "metadata": {
        "id": "Iie1MeBSnioI"
      },
      "execution_count": null,
      "outputs": []
    },
    {
      "cell_type": "markdown",
      "source": [
        "- RNN층은 3D tensor를 입력으로 받음\n",
        "- hidden_units: 은닉 상태의 크기, 메모리 셀의 용량, output_dim의 값과도 동일함 \n",
        "- timesteps(=input_length): 시점의 수 (자연어 처리에서는 보통 문장의 길이) \n",
        "- input_dim: 입력의 크기 (자연어 처리에서는 보통 단어 벡터의 차원) \n",
        "-batch_size: 한 번에 학습하는 데이터의 개수 "
      ],
      "metadata": {
        "id": "G6jKYhrHgLr-"
      }
    },
    {
      "cell_type": "code",
      "source": [
        "from tensorflow.keras.models import Sequential\n",
        "from tensorflow.keras.layers import SimpleRNN\n",
        "\n",
        "model = Sequential()\n",
        "model.add(SimpleRNN(3, input_shape=(2, 10)))\n",
        "model.summary()"
      ],
      "metadata": {
        "colab": {
          "base_uri": "https://localhost:8080/"
        },
        "id": "LyEu-t1hqMD4",
        "outputId": "db34c29c-62e7-4a6f-931c-757eeaebc580"
      },
      "execution_count": null,
      "outputs": [
        {
          "output_type": "stream",
          "name": "stdout",
          "text": [
            "Model: \"sequential\"\n",
            "_________________________________________________________________\n",
            " Layer (type)                Output Shape              Param #   \n",
            "=================================================================\n",
            " simple_rnn (SimpleRNN)      (None, 3)                 42        \n",
            "                                                                 \n",
            "=================================================================\n",
            "Total params: 42\n",
            "Trainable params: 42\n",
            "Non-trainable params: 0\n",
            "_________________________________________________________________\n"
          ]
        }
      ]
    },
    {
      "cell_type": "markdown",
      "source": [
        "- 출력값이 (batch_size, output_dim) 크기의 2D tensor일 때, output_dim은 hidden_units의 값인 3\n",
        "- batch_size 를 알 수 없으므로 (None, 3)"
      ],
      "metadata": {
        "id": "OsLREBzdgLu4"
      }
    },
    {
      "cell_type": "code",
      "execution_count": null,
      "metadata": {
        "colab": {
          "base_uri": "https://localhost:8080/"
        },
        "id": "X5oDiBm2fV5O",
        "outputId": "5e805fb4-22ae-4885-a405-120803d3e0b3"
      },
      "outputs": [
        {
          "output_type": "stream",
          "name": "stdout",
          "text": [
            "Model: \"sequential_1\"\n",
            "_________________________________________________________________\n",
            " Layer (type)                Output Shape              Param #   \n",
            "=================================================================\n",
            " simple_rnn_1 (SimpleRNN)    (8, 3)                    42        \n",
            "                                                                 \n",
            "=================================================================\n",
            "Total params: 42\n",
            "Trainable params: 42\n",
            "Non-trainable params: 0\n",
            "_________________________________________________________________\n"
          ]
        }
      ],
      "source": [
        "model = Sequential()\n",
        "model.add(SimpleRNN(3, batch_input_shape=(8, 2, 10)))\n",
        "model.summary()"
      ]
    },
    {
      "cell_type": "markdown",
      "source": [
        "- batch_size = 8로 지정한 결과 출력의 크기는 (8, 3) "
      ],
      "metadata": {
        "id": "0LQqXNIH8hHh"
      }
    },
    {
      "cell_type": "code",
      "source": [
        "model = Sequential()\n",
        "model.add(SimpleRNN(3, batch_input_shape=(8, 2, 10), return_sequences=True))\n",
        "model.summary()"
      ],
      "metadata": {
        "colab": {
          "base_uri": "https://localhost:8080/"
        },
        "id": "ufhHvvnR9Nn4",
        "outputId": "b5d10903-e669-401f-8601-df2bc238fd8d"
      },
      "execution_count": null,
      "outputs": [
        {
          "output_type": "stream",
          "name": "stdout",
          "text": [
            "Model: \"sequential_2\"\n",
            "_________________________________________________________________\n",
            " Layer (type)                Output Shape              Param #   \n",
            "=================================================================\n",
            " simple_rnn_2 (SimpleRNN)    (8, 2, 3)                 42        \n",
            "                                                                 \n",
            "=================================================================\n",
            "Total params: 42\n",
            "Trainable params: 42\n",
            "Non-trainable params: 0\n",
            "_________________________________________________________________\n"
          ]
        }
      ]
    },
    {
      "cell_type": "markdown",
      "source": [
        "- return_sequences = True, 출력값: (batch_size, timesteps, output_dim) 크기의 3D tensor 리턴한 결과, 출력 크기: (8, 2, 3) "
      ],
      "metadata": {
        "id": "A8cg8kId9UQG"
      }
    },
    {
      "cell_type": "markdown",
      "source": [
        "3. 파이썬으로 RNN 구현하기 "
      ],
      "metadata": {
        "id": "5c2yJl54-Uvr"
      }
    },
    {
      "cell_type": "code",
      "source": [
        "import numpy as np\n",
        "\n",
        "timesteps = 10\n",
        "input_dim = 4\n",
        "hidden_units = 8\n",
        "\n",
        "inputs = np.random.random((timesteps, input_dim))    # 입력에 해당되는 2D tensor\n",
        "\n",
        "hidden_state_t = np.zeros((hidden_units,))     # 초기 은닉 상태는 0(벡터)로 초기화\n",
        "\n",
        "print('초기 은닉 상태 :', hidden_state_t)"
      ],
      "metadata": {
        "colab": {
          "base_uri": "https://localhost:8080/"
        },
        "id": "W6thHSJW-Wfy",
        "outputId": "e1d5b455-d0a2-4537-8684-47867c94da03"
      },
      "execution_count": null,
      "outputs": [
        {
          "output_type": "stream",
          "name": "stdout",
          "text": [
            "초기 은닉 상태 : [0. 0. 0. 0. 0. 0. 0. 0.]\n"
          ]
        }
      ]
    },
    {
      "cell_type": "code",
      "source": [
        "# (8, 4) 크기의 2D tensor, 입력에 대한 가중치 \n",
        "Wx = np.random.random((hidden_units, input_dim)) \n",
        "\n",
        "# (8, 8) 크기의 2D tensor, 은닉 상태에 대한 가중치 \n",
        "Wh = np.random.random((hidden_units, hidden_units))\n",
        "\n",
        "# (8, ) 크기의 1D tensor, 이 값은 편향(bias)\n",
        "b = np.random.random((hidden_units,))\n",
        "\n",
        "print('가중치 Wx의 크기(shape) : ', np.shape(Wx))\n",
        "print('가중치 Wh의 크기(shape) : ', np.shape(Wh))\n",
        "print('편향의 크기(shape) : ', np.shape(b))"
      ],
      "metadata": {
        "colab": {
          "base_uri": "https://localhost:8080/"
        },
        "id": "Y-em9343CyOq",
        "outputId": "b4acfc68-69b5-4c47-856a-4ef9cfbaf337"
      },
      "execution_count": null,
      "outputs": [
        {
          "output_type": "stream",
          "name": "stdout",
          "text": [
            "가중치 Wx의 크기(shape) :  (8, 4)\n",
            "가중치 Wh의 크기(shape) :  (8, 8)\n",
            "편향의 크기(shape) :  (8,)\n"
          ]
        }
      ]
    },
    {
      "cell_type": "code",
      "source": [
        "total_hidden_states = []\n",
        "\n",
        "# 각 시점 별 입력값\n",
        "for input_t in inputs:\n",
        "  output_t = np.tanh(np.dot(Wx, input_t) + np.dot(Wh, hidden_state_t) + b)\n",
        "  total_hidden_states.append(list(output_t))\n",
        "  hidden_state_t = output_t   # 각 시점의 은닉 상태의 값을 계속해서 누적\n",
        "\n",
        "total_hidden_states = np.stack(total_hidden_states, axis =0)\n",
        "\n",
        "print('모든 시점의 은닉 상태: ')\n",
        "print(total_hidden_states)"
      ],
      "metadata": {
        "colab": {
          "base_uri": "https://localhost:8080/"
        },
        "id": "nft3wI_rGwwA",
        "outputId": "9b076100-21bb-44a7-832d-91d0847d0c14"
      },
      "execution_count": null,
      "outputs": [
        {
          "output_type": "stream",
          "name": "stdout",
          "text": [
            "모든 시점의 은닉 상태: \n",
            "[[0.99996308 0.99996606 0.99999512 0.99985559 0.99999251 0.99999179\n",
            "  0.9999842  0.99999857]\n",
            " [0.99992871 0.99993075 0.99999017 0.99973358 0.99997977 0.99997428\n",
            "  0.99997622 0.99999815]\n",
            " [0.99994238 0.99992623 0.99998642 0.99943376 0.99998342 0.99995696\n",
            "  0.99995373 0.99999571]\n",
            " [0.9999442  0.99994785 0.9999913  0.99974622 0.99998582 0.99997355\n",
            "  0.99998592 0.99999815]\n",
            " [0.99991092 0.99991844 0.99998716 0.99976518 0.99997392 0.99997112\n",
            "  0.9999675  0.99999809]\n",
            " [0.99989955 0.99991254 0.99998832 0.99982519 0.99997036 0.99998064\n",
            "  0.9999581  0.99999849]\n",
            " [0.9998986  0.99991363 0.99998347 0.99972234 0.99996867 0.99994316\n",
            "  0.99998096 0.99999802]\n",
            " [0.99991272 0.99991149 0.9999817  0.99966015 0.99997415 0.99995361\n",
            "  0.99995318 0.99999685]\n",
            " [0.99996156 0.99997002 0.99999595 0.99989379 0.99999235 0.99999216\n",
            "  0.99999271 0.99999909]\n",
            " [0.99993469 0.99993929 0.99999339 0.99976125 0.99998141 0.99997986\n",
            "  0.99998733 0.99999875]]\n"
          ]
        }
      ]
    },
    {
      "cell_type": "markdown",
      "source": [
        "4. 깊은 순환 신경망(Deep Recurrent Neural Network) "
      ],
      "metadata": {
        "id": "Bz7hfTGiCrYV"
      }
    },
    {
      "cell_type": "markdown",
      "source": [
        "- 은닉층 2개 추가 코드 "
      ],
      "metadata": {
        "id": "7VLr1v5lIXSW"
      }
    },
    {
      "cell_type": "code",
      "source": [
        "model = Sequential()\n",
        "model.add(SimpleRNN(hidden_units, input_length=10, input_dim=5, return_sequences=True))\n",
        "model.add(SimpleRNN(hidden_units, return_sequences=True))"
      ],
      "metadata": {
        "id": "PrqqFJYEIAU2"
      },
      "execution_count": null,
      "outputs": []
    },
    {
      "cell_type": "markdown",
      "source": [
        "5. 양방향 순환 신경망(Bidirectional Recurrent Neural Network) \n",
        "\n",
        "- 이전과 이후 시점을 모두 고려해서 현재 시점의 예측을 더욱 정확하게 함 \n",
        "- 하나의 출력값을 예측하기 위해 두 개의 메모리 셀 사용\n",
        "- 앞 시점의 은닉 상태(Forward States)\n",
        "- 뒤 시점의 은닉 상태(Backward States) "
      ],
      "metadata": {
        "id": "BbnpW7d_IZ0F"
      }
    },
    {
      "cell_type": "code",
      "source": [
        "from tensorflow.keras.layers import Bidirectional\n",
        "\n",
        "timesteps = 10\n",
        "input_dim = 5\n",
        "\n",
        "model = Sequential()\n",
        "model.add(Bidirectional(SimpleRNN(hidden_units, return_sequences=True), \n",
        "                        input_shape=(timesteps, input_dim)))"
      ],
      "metadata": {
        "id": "yKoiEmO3NUhh"
      },
      "execution_count": null,
      "outputs": []
    },
    {
      "cell_type": "markdown",
      "source": [
        "- 은닉층은 무조건 추가한다고 해서 모델의 성능이 좋아지는 것은 아님\n",
        "   -> 학습할 수 있는 양이 많아지지만 훈련 데이터 또한 많은 양이 필요함 "
      ],
      "metadata": {
        "id": "h82sZs2eNvbt"
      }
    },
    {
      "cell_type": "markdown",
      "source": [
        "6. 점검 퀴즈\n",
        "\n",
        "- 모델 설명이 다음과 같을 때, 총 파라미터 개수는? \n",
        "1. Embedding을 사용하며, 단어 집합(Vocabulary)의 크기가 5000이고 임베딩 벡터의 차원은 100입니다.\n",
        "2. 은닉층에서 Simple RNN을 사용하며, 은닉 상태의 크기는 128입니다.\n",
        "3. 훈련에 사용하는 모든 샘플의 길이는 30으로 가정합니다.\n",
        "4. 이진 분류를 수행하는 모델로, 출력층의 뉴런은 1개로 시그모이드 함수를 사용합니다.\n",
        "5. 은닉층은 1개입니다. "
      ],
      "metadata": {
        "id": "JhuI5IWVN7Q_"
      }
    },
    {
      "cell_type": "code",
      "source": [
        "from keras.models import Sequential\n",
        "from keras.layers import SimpleRNN, Embedding, Dense\n",
        "\n",
        "vocab_size = 5000\n",
        "embedding_dim = 100\n",
        "hidden_size =128\n",
        "\n",
        "model = Sequential()\n",
        "model.add(Embedding(vocab_size, embedding_dim))\n",
        "model.add(SimpleRNN(hidden_size))\n",
        "model.add(Dense(1, activation='sigmoid'))\n",
        "model.summary()"
      ],
      "metadata": {
        "id": "8TePFYSqOUk5",
        "colab": {
          "base_uri": "https://localhost:8080/"
        },
        "outputId": "a3b77f30-f54a-4141-d5aa-83facfe4fb0b"
      },
      "execution_count": 1,
      "outputs": [
        {
          "output_type": "stream",
          "name": "stdout",
          "text": [
            "Model: \"sequential\"\n",
            "_________________________________________________________________\n",
            " Layer (type)                Output Shape              Param #   \n",
            "=================================================================\n",
            " embedding (Embedding)       (None, None, 100)         500000    \n",
            "                                                                 \n",
            " simple_rnn (SimpleRNN)      (None, 128)               29312     \n",
            "                                                                 \n",
            " dense (Dense)               (None, 1)                 129       \n",
            "                                                                 \n",
            "=================================================================\n",
            "Total params: 529,441\n",
            "Trainable params: 529,441\n",
            "Non-trainable params: 0\n",
            "_________________________________________________________________\n"
          ]
        }
      ]
    }
  ]
}