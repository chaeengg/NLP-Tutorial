{
  "nbformat": 4,
  "nbformat_minor": 0,
  "metadata": {
    "colab": {
      "provenance": [],
      "authorship_tag": "ABX9TyNRPQZ38ThbZ5Fyc168X3CJ"
    },
    "kernelspec": {
      "name": "python3",
      "display_name": "Python 3"
    },
    "language_info": {
      "name": "python"
    }
  },
  "cells": [
    {
      "cell_type": "markdown",
      "source": [
        "# 03. 게이트 순환 유닛(Gated Recurrent Unit, GRU)\n",
        "\n",
        "1. GRU(Gated Recurrent Unit)\n",
        "- LSTM과 성능은 유사하지만 구조를 간단화 시킴 \n",
        "- 업데이트 게이트, 리셋 게이트만 존재함 \n",
        "- LSTM을 사용하면서 최적의 parameter를 발견했다면 굳이 GRU로 변경하지 않아도 됨\n",
        "- 데이터 양이 적을 때는 GRU, 많을 땐 LSTM이 나음 "
      ],
      "metadata": {
        "id": "y4AgwwBI6m8E"
      }
    },
    {
      "cell_type": "markdown",
      "source": [
        "2. 케라스에서의 GRU(Gated Recurrent Unit) "
      ],
      "metadata": {
        "id": "K6bHSny57fAy"
      }
    },
    {
      "cell_type": "code",
      "execution_count": null,
      "metadata": {
        "id": "DU0KKacb6fOM"
      },
      "outputs": [],
      "source": [
        "model.add(GRU(hidden_size, input_shape=(timesteps, input_dim)))"
      ]
    }
  ]
}